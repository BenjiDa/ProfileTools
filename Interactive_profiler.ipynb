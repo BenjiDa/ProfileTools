{
 "cells": [
  {
   "cell_type": "code",
   "execution_count": 82,
   "metadata": {
    "collapsed": false
   },
   "outputs": [],
   "source": [
    "import numpy as np\n",
    "import pandas as pd\n",
    "from osgeo import gdal\n",
    "from gdalconst import *\n",
    "#import osr\n",
    "import matplotlib.pyplot as plt\n",
    "%matplotlib qt\n",
    "\n",
    "\n"
   ]
  },
  {
   "cell_type": "code",
   "execution_count": 11,
   "metadata": {
    "collapsed": false
   },
   "outputs": [],
   "source": [
    "#Read a raster\n",
    "Test_data = (\"/Users/bmelosh/VagrantBoxes/LSDTopoTools/Topographic_projects/Test_data/\")\n",
    "Test = gdal.Open(Test_data + \"/Mandakini.bil\")#Get raster data\n",
    "M_DEM = Test.ReadAsArray()\n",
    "\n",
    "#Read stream data\n",
    "name = \"Mandakini_fullProfileMC_forced_0.45_3_1258909000_10_80_281_for_Arc.csv\" #Set file name\n",
    "path = \"/Users/bmelosh/VagrantBoxes/LSDTopoTools/Topographic_projects/Test_data/\" #Set path to data\n",
    "#for csv files\n",
    "data = np.genfromtxt((path+name), delimiter=',', skip_header=1, names=['id', 'x', 'y', 'chan_number', 'reciever_chan','node_on_reciever_chan', 'node', 'row','column', 'flow_distance', 'chi', 'elevation', 'drainage_area', 'n_data_points', 'm_mean','m_st_dev', 'm_std_err', 'b_mean', 'b_st_dev', 'b_std_err', 'DW_mean', 'DW_st_dev', 'DW_std_err', 'fitted_elev_mean', 'fitted_elev_stdev', 'fitted_elev_std_err'])\n",
    "#for tree files\n",
    "#data = np.genfromtxt((path+name), delimiter=' ', skip_header=1, names=['chan_number', 'reciever_chan','node_on_reciever_chan', 'node', 'row','column', 'flow_distance', 'chi', 'elevation', 'drainage_area', 'n_data_points', 'm_mean','m_st_dev', 'm_std_err', 'b_mean', 'b_st_dev', 'b_std_err', 'DW_mean', 'DW_st_dev', 'DW_std_err', 'fitted_elev_mean', 'fitted_elev_stdev', 'fitted_elev_std_err'])\n"
   ]
  },
  {
   "cell_type": "code",
   "execution_count": 14,
   "metadata": {
    "collapsed": false
   },
   "outputs": [],
   "source": [
    "\n",
    "\n",
    "\n",
    "def plot_coord(Test):\n",
    "\n",
    "    (upper_left_x, x_size, x_rotation, upper_left_y, y_rotation, y_size) = Test.GetGeoTransform()\n",
    "    dx = x_size\n",
    "    dy = y_size\n",
    "    nx, ny = Test.RasterXSize, Test.RasterYSize  # Size of the original raster\n",
    "\n",
    "    xllcenter = upper_left_x + dx/2  # x coordinate center of lower left pxl\n",
    "    yllcenter = upper_left_y - dx/2 # y coordinate center of lower left pxl   - (ny-1)*dx \n",
    "\n",
    "    #Create arrays of the x and y coordinates of each pixel (the axes)\n",
    "    xcoordinates = [x*dx + xllcenter for x in range(nx)]\n",
    "    ycoordinates = [y*dy + yllcenter for y in range(ny)]\n",
    "\n",
    "    #Create 2 2d grids describing x and y coordinates\n",
    "    X,Y = np.meshgrid(xcoordinates, ycoordinates) \n",
    "\n",
    "\n",
    "    fig = plt.contourf(X, Y, M_DEM, levels=np.linspace(np.amin(M_DEM[M_DEM > 0]),np.amax(M_DEM), 50))\n",
    "\n",
    "    return X, Y\n"
   ]
  },
  {
   "cell_type": "code",
   "execution_count": 12,
   "metadata": {
    "collapsed": false
   },
   "outputs": [],
   "source": [
    "(upper_left_x, x_size, x_rotation, upper_left_y, y_rotation, y_size) = Test.GetGeoTransform()\n",
    "dx = x_size\n",
    "dy = y_size\n",
    "nx, ny = Test.RasterXSize, Test.RasterYSize  # Size of the original raster\n",
    "\n",
    "xllcenter = upper_left_x + dx/2  # x coordinate center of lower left pxl\n",
    "yllcenter = upper_left_y - dx/2 # y coordinate center of lower left pxl   - (ny-1)*dx \n",
    "\n",
    "#Create arrays of the x and y coordinates of each pixel (the axes)\n",
    "xcoordinates = [x*dx + xllcenter for x in range(nx)]\n",
    "ycoordinates = [y*dy + yllcenter for y in range(ny)]\n",
    "\n",
    "#Create 2 2d grids describing x and y coordinates\n",
    "X,Y = np.meshgrid(xcoordinates, ycoordinates) \n",
    "\n",
    "\n",
    "fig = plt.contourf(X, Y, M_DEM, levels=np.linspace(np.amin(M_DEM[M_DEM > 0]),np.amax(M_DEM), 50))\n",
    "    "
   ]
  },
  {
   "cell_type": "code",
   "execution_count": 17,
   "metadata": {
    "collapsed": false
   },
   "outputs": [],
   "source": [
    "[X, Y] = plot_coord(Test)"
   ]
  },
  {
   "cell_type": "code",
   "execution_count": 44,
   "metadata": {
    "collapsed": false
   },
   "outputs": [],
   "source": [
    "cm = plt.cm.gist_earth\n",
    "\n",
    "\n",
    "fig, ax = plt.subplots(3, figsize=(10,10), sharex=False) #define 2 subfigures\n",
    "\n",
    "ax[0].contourf(X, Y, M_DEM, levels=np.linspace(np.amin(M_DEM[M_DEM > 0]),np.amax(M_DEM), 50))\n",
    "ax[0].plot(data['x'], data['y'], 'ro',  markersize=2)\n",
    "#ax[0].imshow(fA, interpolation='nearest', vmin=0, cmap=plt.cm.gray) \n",
    "ax[0].set_aspect('equal')\n",
    "ax[0].set_title('Terrain map with stream channel')\n",
    "ax[0].set_ylabel('Northing')\n",
    "ax[0].set_xlabel('Easting')\n",
    "\n",
    "\n",
    "\n",
    "ax[1].scatter(data['flow_distance'], data['elevation'], c=data['elevation'], cmap=cm)\n",
    "ax[1].set_title('Stream Map')\n",
    "ax[1].set_ylabel('Elevation (m)')\n",
    "ax[1].set_xlabel('Distance (m)')\n",
    "\n",
    "\n",
    "ax[2].scatter(data['chi'], data['elevation'], c=data['elevation'], cmap=plt.get_cmap(\"jet\"))\n",
    "ax[2].text(3, 2500, 'm/n = 0.45')\n",
    "ax[2].set_ylabel('Elevation (m)')\n",
    "ax[2].set_xlabel('Chi (X)')\n",
    "\n",
    "\n",
    "plt.show()"
   ]
  },
  {
   "cell_type": "code",
   "execution_count": 87,
   "metadata": {
    "collapsed": false
   },
   "outputs": [],
   "source": [
    "from bokeh.mpl import to_bokeh\n",
    "f = plt.contourf(X, Y, M_DEM, levels=np.linspace(np.amin(M_DEM[M_DEM > 0]),np.amax(M_DEM), 50))\n",
    "#p = to_bokeh(f)"
   ]
  },
  {
   "cell_type": "code",
   "execution_count": 88,
   "metadata": {
    "collapsed": false
   },
   "outputs": [],
   "source": [
    "import numpy as np\n",
    "from bokeh.plotting import *\n",
    "from bokeh.models import ColumnDataSource, Label\n",
    "from bokeh.layouts import layout\n",
    "\n",
    "mn = \" (m/n = 0.45)\"\n",
    "\n",
    "# output to static HTML file\n",
    "output_file(\"linked_brushing.html\")\n",
    "\n",
    "# NEW: create a column data source for the plots to share\n",
    "source = ColumnDataSource(data=dict(x0=data['flow_distance'], x1=data['chi'], y=data['elevation']))\n",
    "\n",
    "TOOLS = \"pan,wheel_zoom,box_zoom,reset,save,box_select,lasso_select\"\n",
    "\n",
    "# create a new plot and add a renderer\n",
    "left = figure(tools=TOOLS, width=350, height=350, title='Stream Profile')\n",
    "left.circle('x0', 'y', source=source)\n",
    "#left.title.text = \"Glucose Range\"\n",
    "#left.xaxis.axis_label = 'Flow Distance (m)'\n",
    "#left.yaxis.axis_label = 'Elevation (m)'\n",
    "\n",
    "# create another new plot and add a renderer\n",
    "right = figure(tools=TOOLS, width=350, height=350, title='Chi Profile'+ mn)\n",
    "right.circle('x1', 'y', source=source)#, legend = \"m/n = 0.45\")\n",
    "#right.xaxis.axis_label = 'Chi (X)'\n",
    "#right.yaxis.axis_label = 'Elevation (m)'\n",
    "\n",
    "#dem = \n",
    "# put the subplots in a gridplot\n",
    "p = layout([[left, right], [dem]])\n",
    "\n",
    "\n",
    "\n",
    "# l = layout([\n",
    "#   [bollinger],\n",
    "#   [sliders, plot],\n",
    "#   [p1, p2, p3],\n",
    "# ], sizing_mode='stretch_both')\n",
    "\n",
    "\n",
    "# show the results\n",
    "show(p)"
   ]
  },
  {
   "cell_type": "code",
   "execution_count": 70,
   "metadata": {
    "collapsed": false
   },
   "outputs": [
    {
     "data": {
      "text/plain": [
       "169.116333"
      ]
     },
     "execution_count": 70,
     "metadata": {},
     "output_type": "execute_result"
    }
   ],
   "source": [
    "max(data['chi'])"
   ]
  },
  {
   "cell_type": "code",
   "execution_count": null,
   "metadata": {
    "collapsed": false
   },
   "outputs": [],
   "source": []
  },
  {
   "cell_type": "code",
   "execution_count": null,
   "metadata": {
    "collapsed": true
   },
   "outputs": [],
   "source": []
  }
 ],
 "metadata": {
  "anaconda-cloud": {},
  "kernelspec": {
   "display_name": "Python [conda env:LSDTopoTools]",
   "language": "python",
   "name": "conda-env-LSDTopoTools-py"
  },
  "language_info": {
   "codemirror_mode": {
    "name": "ipython",
    "version": 2
   },
   "file_extension": ".py",
   "mimetype": "text/x-python",
   "name": "python",
   "nbconvert_exporter": "python",
   "pygments_lexer": "ipython2",
   "version": "2.7.12"
  }
 },
 "nbformat": 4,
 "nbformat_minor": 1
}

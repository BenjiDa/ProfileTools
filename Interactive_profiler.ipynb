{
 "cells": [
  {
   "cell_type": "code",
   "execution_count": 1,
   "metadata": {
    "collapsed": false
   },
   "outputs": [
    {
     "name": "stderr",
     "output_type": "stream",
     "text": [
      "/Users/bmelosh/anaconda2/envs/geospatial/lib/python2.7/site-packages/matplotlib/font_manager.py:273: UserWarning: Matplotlib is building the font cache using fc-list. This may take a moment.\n",
      "  warnings.warn('Matplotlib is building the font cache using fc-list. This may take a moment.')\n"
     ]
    }
   ],
   "source": [
    "import numpy as np\n",
    "import pandas as pd\n",
    "from osgeo import gdal\n",
    "from gdalconst import *\n",
    "#import osr\n",
    "import matplotlib.pyplot as plt\n",
    "%matplotlib qt\n",
    "\n",
    "\n"
   ]
  },
  {
   "cell_type": "code",
   "execution_count": 2,
   "metadata": {
    "collapsed": false
   },
   "outputs": [],
   "source": [
    "#Read a raster\n",
    "Test_data = (\"/Users/bmelosh/VagrantBoxes/LSDTopoTools/Topographic_projects/Test_data/\")\n",
    "Test = gdal.Open(Test_data + \"/Mandakini.bil\")#Get raster data\n",
    "M_DEM = Test.ReadAsArray()\n",
    "\n",
    "#Read stream data\n",
    "name = \"Mandakini_fullProfileMC_forced_0.45_3_1258909000_10_80_281_for_Arc.csv\" #Set file name\n",
    "path = \"/Users/bmelosh/VagrantBoxes/LSDTopoTools/Topographic_projects/Test_data/\" #Set path to data\n",
    "#for csv files\n",
    "data = np.genfromtxt((path+name), delimiter=',', skip_header=1, names=['id', 'x', 'y', 'chan_number', 'reciever_chan','node_on_reciever_chan', 'node', 'row','column', 'flow_distance', 'chi', 'elevation', 'drainage_area', 'n_data_points', 'm_mean','m_st_dev', 'm_std_err', 'b_mean', 'b_st_dev', 'b_std_err', 'DW_mean', 'DW_st_dev', 'DW_std_err', 'fitted_elev_mean', 'fitted_elev_stdev', 'fitted_elev_std_err'])\n",
    "#for tree files\n",
    "#data = np.genfromtxt((path+name), delimiter=' ', skip_header=1, names=['chan_number', 'reciever_chan','node_on_reciever_chan', 'node', 'row','column', 'flow_distance', 'chi', 'elevation', 'drainage_area', 'n_data_points', 'm_mean','m_st_dev', 'm_std_err', 'b_mean', 'b_st_dev', 'b_std_err', 'DW_mean', 'DW_st_dev', 'DW_std_err', 'fitted_elev_mean', 'fitted_elev_stdev', 'fitted_elev_std_err'])\n"
   ]
  },
  {
   "cell_type": "code",
   "execution_count": 3,
   "metadata": {
    "collapsed": false
   },
   "outputs": [],
   "source": [
    "\n",
    "\n",
    "\n",
    "def plot_coord(Test):\n",
    "\n",
    "    (upper_left_x, x_size, x_rotation, upper_left_y, y_rotation, y_size) = Test.GetGeoTransform()\n",
    "    dx = x_size\n",
    "    dy = y_size\n",
    "    nx, ny = Test.RasterXSize, Test.RasterYSize  # Size of the original raster\n",
    "\n",
    "    xllcenter = upper_left_x + dx/2  # x coordinate center of lower left pxl\n",
    "    yllcenter = upper_left_y - dx/2 # y coordinate center of lower left pxl   - (ny-1)*dx \n",
    "\n",
    "    #Create arrays of the x and y coordinates of each pixel (the axes)\n",
    "    xcoordinates = [x*dx + xllcenter for x in range(nx)]\n",
    "    ycoordinates = [y*dy + yllcenter for y in range(ny)]\n",
    "\n",
    "    #Create 2 2d grids describing x and y coordinates\n",
    "    X,Y = np.meshgrid(xcoordinates, ycoordinates) \n",
    "\n",
    "\n",
    "    fig = plt.contourf(X, Y, M_DEM, levels=np.linspace(np.amin(M_DEM[M_DEM > 0]),np.amax(M_DEM), 50))\n",
    "\n",
    "    return X, Y\n"
   ]
  },
  {
   "cell_type": "code",
   "execution_count": 52,
   "metadata": {
    "collapsed": false
   },
   "outputs": [],
   "source": [
    "(upper_left_x, x_size, x_rotation, upper_left_y, y_rotation, y_size) = Test.GetGeoTransform()\n",
    "dx = x_size\n",
    "dy = y_size\n",
    "nx, ny = Test.RasterXSize, Test.RasterYSize  # Size of the original raster\n",
    "\n",
    "xllcenter = upper_left_x + dx/2  # x coordinate center of lower left pxl\n",
    "yllcenter = upper_left_y - dx/2 # y coordinate center of lower left pxl   - (ny-1)*dx \n",
    "\n",
    "#Create arrays of the x and y coordinates of each pixel (the axes)\n",
    "xcoordinates = [x*dx + xllcenter for x in range(nx)]\n",
    "ycoordinates = [y*dy + yllcenter for y in range(ny)]\n",
    "\n",
    "#Create 2 2d grids describing x and y coordinates\n",
    "X,Y = np.meshgrid(xcoordinates, ycoordinates) \n",
    "\n",
    "\n",
    "fig = plt.contourf(X, Y, M_DEM, levels=np.linspace(np.amin(M_DEM[M_DEM > 0]),np.amax(M_DEM), 50))\n",
    "    "
   ]
  },
  {
   "cell_type": "code",
   "execution_count": 10,
   "metadata": {
    "collapsed": false
   },
   "outputs": [],
   "source": [
    "[X, Y] = plot_coord(Test)"
   ]
  },
  {
   "cell_type": "code",
   "execution_count": 5,
   "metadata": {
    "collapsed": false
   },
   "outputs": [],
   "source": [
    "cm = plt.cm.gist_earth\n",
    "\n",
    "\n",
    "fig, ax = plt.subplots(3, figsize=(10,10), sharex=False) #define 2 subfigures\n",
    "\n",
    "ax[0].contourf(X, Y, M_DEM, levels=np.linspace(np.amin(M_DEM[M_DEM > 0]),np.amax(M_DEM), 50))\n",
    "ax[0].plot(data['x'], data['y'], 'ro',  markersize=2)\n",
    "#ax[0].imshow(fA, interpolation='nearest', vmin=0, cmap=plt.cm.gray) \n",
    "ax[0].set_aspect('equal')\n",
    "ax[0].set_title('Terrain map with stream channel')\n",
    "ax[0].set_ylabel('Northing')\n",
    "ax[0].set_xlabel('Easting')\n",
    "\n",
    "\n",
    "ax[1].scatter(data['flow_distance'], data['elevation'], c=data['elevation'], cmap=cm)\n",
    "ax[1].set_title('Stream Map')\n",
    "ax[1].set_ylabel('Elevation (m)')\n",
    "ax[1].set_xlabel('Distance (m)')\n",
    "\n",
    "\n",
    "ax[2].scatter(data['chi'], data['elevation'], c=data['elevation'], cmap=plt.get_cmap(\"jet\"))\n",
    "ax[2].text(3, 2500, 'm/n = 0.45')\n",
    "ax[2].set_ylabel('Elevation (m)')\n",
    "ax[2].set_xlabel('Chi (X)')\n",
    "\n",
    "\n",
    "plt.show()"
   ]
  },
  {
   "cell_type": "code",
   "execution_count": 18,
   "metadata": {
    "collapsed": false
   },
   "outputs": [],
   "source": [
    "img = (X, Y)\n"
   ]
  },
  {
   "cell_type": "code",
   "execution_count": 6,
   "metadata": {
    "collapsed": false
   },
   "outputs": [],
   "source": [
    "#Import bokeh \n",
    "from bokeh.plotting import *\n",
    "from bokeh.models import ColumnDataSource, Label\n",
    "from bokeh.layouts import layout\n",
    "\n",
    "#package in this working directory\n",
    "from utils.colormap import RGBAColorMapper\n",
    "import netCDF4\n",
    "from bokeh.palettes import RdBu11\n",
    "#import color palettes for plotting raster\n",
    "from bokeh.palettes import *\n",
    "\n",
    "\n"
   ]
  },
  {
   "cell_type": "code",
   "execution_count": 118,
   "metadata": {
    "collapsed": false
   },
   "outputs": [
    {
     "ename": "SyntaxError",
     "evalue": "invalid syntax (<ipython-input-118-f225e0bc54ad>, line 62)",
     "output_type": "error",
     "traceback": [
      "\u001b[0;36m  File \u001b[0;32m\"<ipython-input-118-f225e0bc54ad>\"\u001b[0;36m, line \u001b[0;32m62\u001b[0m\n\u001b[0;31m    grid = grid.join(pt_classif)show(p)\u001b[0m\n\u001b[0m                                   ^\u001b[0m\n\u001b[0;31mSyntaxError\u001b[0m\u001b[0;31m:\u001b[0m invalid syntax\n"
     ]
    }
   ],
   "source": [
    "\n",
    "#My bokeh figure\n",
    "mn = \" (m/n = 0.45)\"\n",
    "\n",
    "# output to static HTML file\n",
    "output_file(\"linked_brushing.html\")\n",
    "\n",
    "# NEW: create a column data source for the plots to share\n",
    "stream_source = ColumnDataSource(data=dict(x0=data['flow_distance'], x1=data['chi'], y=data['elevation']))\n",
    "\n",
    "TOOLS = \"pan,wheel_zoom,box_zoom,reset,save,box_select,lasso_select\"\n",
    "\n",
    "# create a new plot and add a renderer\n",
    "left = figure(tools=TOOLS, width=350, height=350, title='Stream Profile')\n",
    "left.circle('x0', 'y', source=stream_source)\n",
    "left.xaxis.axis_label = 'Flow Distance (m)'\n",
    "left.yaxis.axis_label = 'Elevation (m)'\n",
    "\n",
    "# create another new plot and add a renderer\n",
    "right = figure(tools=TOOLS, width=350, height=350, title='Chi Profile'+ mn)\n",
    "right.circle('x1', 'y', source=stream_source)#, legend = \"m/n = 0.45\")\n",
    "right.xaxis.axis_label = 'Chi (X)'\n",
    "right.yaxis.axis_label = 'Elevation (m)'\n",
    "\n",
    "\n",
    "#Set ranges for DEM image\n",
    "dw = max(data['x'])- min(data['x'])\n",
    "dh = max(data['y'])- min(data['y'])\n",
    "xrmax = max(data['x'])\n",
    "xrmin = min(data['x'])\n",
    "yrmax = max(data['y'])\n",
    "yrmin = min(data['y'])\n",
    "\n",
    "topo = figure(plot_height=700, plot_width=700, x_axis_type=None, y_axis_type=None, x_range=[xrmin,xrmax], y_range=[yrmin,yrmax])\n",
    "\n",
    "topo.image(image=[dem], x=[min(data['x'])], y=[min(data['y'])],dw=[dw], dh=[dh], palette=pal, name='image')\n",
    "topo.circle(data['x'], data['y'], color='red', size=3)\n",
    "\n",
    "\n",
    "# put the subplots in a gridplot\n",
    "p = layout([[left, right], [topo]])\n",
    "\n",
    "\n",
    "\n",
    "show(p)\n"
   ]
  },
  {
   "cell_type": "code",
   "execution_count": 125,
   "metadata": {
    "collapsed": false
   },
   "outputs": [
    {
     "ename": "AttributeError",
     "evalue": "type object 'object' has no attribute '__getattr__'",
     "output_type": "error",
     "traceback": [
      "\u001b[0;31m---------------------------------------------------------------------------\u001b[0m",
      "\u001b[0;31mAttributeError\u001b[0m                            Traceback (most recent call last)",
      "\u001b[0;32m<ipython-input-125-282c4f589ccd>\u001b[0m in \u001b[0;36m<module>\u001b[0;34m()\u001b[0m\n\u001b[1;32m      1\u001b[0m \u001b[0;32mimport\u001b[0m \u001b[0mgeopandas\u001b[0m \u001b[0;32mas\u001b[0m \u001b[0mgpd\u001b[0m\u001b[0;34m\u001b[0m\u001b[0m\n\u001b[1;32m      2\u001b[0m \u001b[0;34m\u001b[0m\u001b[0m\n\u001b[0;32m----> 3\u001b[0;31m \u001b[0mgrid\u001b[0m \u001b[0;34m=\u001b[0m \u001b[0mgpd\u001b[0m\u001b[0;34m.\u001b[0m\u001b[0mread_file\u001b[0m\u001b[0;34m(\u001b[0m\u001b[0mTest\u001b[0m\u001b[0;34m)\u001b[0m\u001b[0;34m\u001b[0m\u001b[0m\n\u001b[0m",
      "\u001b[0;32m/Users/bmelosh/anaconda2/envs/geospatial/lib/python2.7/site-packages/geopandas/io/file.pyc\u001b[0m in \u001b[0;36mread_file\u001b[0;34m(filename, **kwargs)\u001b[0m\n\u001b[1;32m     19\u001b[0m     \"\"\"\n\u001b[1;32m     20\u001b[0m     \u001b[0mbbox\u001b[0m \u001b[0;34m=\u001b[0m \u001b[0mkwargs\u001b[0m\u001b[0;34m.\u001b[0m\u001b[0mpop\u001b[0m\u001b[0;34m(\u001b[0m\u001b[0;34m'bbox'\u001b[0m\u001b[0;34m,\u001b[0m \u001b[0mNone\u001b[0m\u001b[0;34m)\u001b[0m\u001b[0;34m\u001b[0m\u001b[0m\n\u001b[0;32m---> 21\u001b[0;31m     \u001b[0;32mwith\u001b[0m \u001b[0mfiona\u001b[0m\u001b[0;34m.\u001b[0m\u001b[0mopen\u001b[0m\u001b[0;34m(\u001b[0m\u001b[0mfilename\u001b[0m\u001b[0;34m,\u001b[0m \u001b[0;34m**\u001b[0m\u001b[0mkwargs\u001b[0m\u001b[0;34m)\u001b[0m \u001b[0;32mas\u001b[0m \u001b[0mf\u001b[0m\u001b[0;34m:\u001b[0m\u001b[0;34m\u001b[0m\u001b[0m\n\u001b[0m\u001b[1;32m     22\u001b[0m         \u001b[0mcrs\u001b[0m \u001b[0;34m=\u001b[0m \u001b[0mf\u001b[0m\u001b[0;34m.\u001b[0m\u001b[0mcrs\u001b[0m\u001b[0;34m\u001b[0m\u001b[0m\n\u001b[1;32m     23\u001b[0m         \u001b[0;32mif\u001b[0m \u001b[0mbbox\u001b[0m \u001b[0;32mis\u001b[0m \u001b[0;32mnot\u001b[0m \u001b[0mNone\u001b[0m\u001b[0;34m:\u001b[0m\u001b[0;34m\u001b[0m\u001b[0m\n",
      "\u001b[0;32m/Users/bmelosh/anaconda2/envs/geospatial/lib/python2.7/site-packages/fiona/__init__.pyc\u001b[0m in \u001b[0;36mopen\u001b[0;34m(path, mode, driver, schema, crs, encoding, layer, vfs, enabled_drivers, crs_wkt)\u001b[0m\n\u001b[1;32m    158\u001b[0m     \"\"\"\n\u001b[1;32m    159\u001b[0m     \u001b[0;31m# Parse the vfs into a vsi and an archive path.\u001b[0m\u001b[0;34m\u001b[0m\u001b[0;34m\u001b[0m\u001b[0m\n\u001b[0;32m--> 160\u001b[0;31m     \u001b[0mpath\u001b[0m\u001b[0;34m,\u001b[0m \u001b[0mvsi\u001b[0m\u001b[0;34m,\u001b[0m \u001b[0marchive\u001b[0m \u001b[0;34m=\u001b[0m \u001b[0mparse_paths\u001b[0m\u001b[0;34m(\u001b[0m\u001b[0mpath\u001b[0m\u001b[0;34m,\u001b[0m \u001b[0mvfs\u001b[0m\u001b[0;34m)\u001b[0m\u001b[0;34m\u001b[0m\u001b[0m\n\u001b[0m\u001b[1;32m    161\u001b[0m     \u001b[0;32mif\u001b[0m \u001b[0mmode\u001b[0m \u001b[0;32min\u001b[0m \u001b[0;34m(\u001b[0m\u001b[0;34m'a'\u001b[0m\u001b[0;34m,\u001b[0m \u001b[0;34m'r'\u001b[0m\u001b[0;34m)\u001b[0m\u001b[0;34m:\u001b[0m\u001b[0;34m\u001b[0m\u001b[0m\n\u001b[1;32m    162\u001b[0m         \u001b[0;32mif\u001b[0m \u001b[0marchive\u001b[0m\u001b[0;34m:\u001b[0m\u001b[0;34m\u001b[0m\u001b[0m\n",
      "\u001b[0;32m/Users/bmelosh/anaconda2/envs/geospatial/lib/python2.7/site-packages/fiona/__init__.pyc\u001b[0m in \u001b[0;36mparse_paths\u001b[0;34m(path, vfs)\u001b[0m\n\u001b[1;32m    247\u001b[0m         \u001b[0marchive\u001b[0m \u001b[0;34m=\u001b[0m \u001b[0mparts\u001b[0m\u001b[0;34m.\u001b[0m\u001b[0mpop\u001b[0m\u001b[0;34m(\u001b[0m\u001b[0;36m0\u001b[0m\u001b[0;34m)\u001b[0m \u001b[0;32mif\u001b[0m \u001b[0mparts\u001b[0m \u001b[0;32melse\u001b[0m \u001b[0mNone\u001b[0m\u001b[0;34m\u001b[0m\u001b[0m\n\u001b[1;32m    248\u001b[0m     \u001b[0;32melse\u001b[0m\u001b[0;34m:\u001b[0m\u001b[0;34m\u001b[0m\u001b[0m\n\u001b[0;32m--> 249\u001b[0;31m         \u001b[0mparts\u001b[0m \u001b[0;34m=\u001b[0m \u001b[0mpath\u001b[0m\u001b[0;34m.\u001b[0m\u001b[0msplit\u001b[0m\u001b[0;34m(\u001b[0m\u001b[0;34m\"://\"\u001b[0m\u001b[0;34m)\u001b[0m\u001b[0;34m\u001b[0m\u001b[0m\n\u001b[0m\u001b[1;32m    250\u001b[0m         \u001b[0mpath\u001b[0m \u001b[0;34m=\u001b[0m \u001b[0mparts\u001b[0m\u001b[0;34m.\u001b[0m\u001b[0mpop\u001b[0m\u001b[0;34m(\u001b[0m\u001b[0;34m)\u001b[0m \u001b[0;32mif\u001b[0m \u001b[0mparts\u001b[0m \u001b[0;32melse\u001b[0m \u001b[0mNone\u001b[0m\u001b[0;34m\u001b[0m\u001b[0m\n\u001b[1;32m    251\u001b[0m         \u001b[0mvsi\u001b[0m \u001b[0;34m=\u001b[0m \u001b[0mparts\u001b[0m\u001b[0;34m.\u001b[0m\u001b[0mpop\u001b[0m\u001b[0;34m(\u001b[0m\u001b[0;34m)\u001b[0m \u001b[0;32mif\u001b[0m \u001b[0mparts\u001b[0m \u001b[0;32melse\u001b[0m \u001b[0mNone\u001b[0m\u001b[0;34m\u001b[0m\u001b[0m\n",
      "\u001b[0;32m/Users/bmelosh/anaconda2/envs/geospatial/lib/python2.7/site-packages/osgeo/gdal.pyc\u001b[0m in \u001b[0;36m<lambda>\u001b[0;34m(self, name)\u001b[0m\n\u001b[1;32m   1767\u001b[0m     \u001b[0;32mfor\u001b[0m \u001b[0m_s\u001b[0m \u001b[0;32min\u001b[0m \u001b[0;34m[\u001b[0m\u001b[0mMajorObject\u001b[0m\u001b[0;34m]\u001b[0m\u001b[0;34m:\u001b[0m\u001b[0;34m\u001b[0m\u001b[0m\n\u001b[1;32m   1768\u001b[0m         \u001b[0m__swig_getmethods__\u001b[0m\u001b[0;34m.\u001b[0m\u001b[0mupdate\u001b[0m\u001b[0;34m(\u001b[0m\u001b[0mgetattr\u001b[0m\u001b[0;34m(\u001b[0m\u001b[0m_s\u001b[0m\u001b[0;34m,\u001b[0m \u001b[0;34m'__swig_getmethods__'\u001b[0m\u001b[0;34m,\u001b[0m \u001b[0;34m{\u001b[0m\u001b[0;34m}\u001b[0m\u001b[0;34m)\u001b[0m\u001b[0;34m)\u001b[0m\u001b[0;34m\u001b[0m\u001b[0m\n\u001b[0;32m-> 1769\u001b[0;31m     \u001b[0m__getattr__\u001b[0m \u001b[0;34m=\u001b[0m \u001b[0;32mlambda\u001b[0m \u001b[0mself\u001b[0m\u001b[0;34m,\u001b[0m \u001b[0mname\u001b[0m\u001b[0;34m:\u001b[0m \u001b[0m_swig_getattr\u001b[0m\u001b[0;34m(\u001b[0m\u001b[0mself\u001b[0m\u001b[0;34m,\u001b[0m \u001b[0mDataset\u001b[0m\u001b[0;34m,\u001b[0m \u001b[0mname\u001b[0m\u001b[0;34m)\u001b[0m\u001b[0;34m\u001b[0m\u001b[0m\n\u001b[0m\u001b[1;32m   1770\u001b[0m \u001b[0;34m\u001b[0m\u001b[0m\n\u001b[1;32m   1771\u001b[0m     \u001b[0;32mdef\u001b[0m \u001b[0m__init__\u001b[0m\u001b[0;34m(\u001b[0m\u001b[0mself\u001b[0m\u001b[0;34m,\u001b[0m \u001b[0;34m*\u001b[0m\u001b[0margs\u001b[0m\u001b[0;34m,\u001b[0m \u001b[0;34m**\u001b[0m\u001b[0mkwargs\u001b[0m\u001b[0;34m)\u001b[0m\u001b[0;34m:\u001b[0m\u001b[0;34m\u001b[0m\u001b[0m\n",
      "\u001b[0;32m/Users/bmelosh/anaconda2/envs/geospatial/lib/python2.7/site-packages/osgeo/gdal.pyc\u001b[0m in \u001b[0;36m_swig_getattr\u001b[0;34m(self, class_type, name)\u001b[0m\n\u001b[1;32m     72\u001b[0m \u001b[0;34m\u001b[0m\u001b[0m\n\u001b[1;32m     73\u001b[0m \u001b[0;32mdef\u001b[0m \u001b[0m_swig_getattr\u001b[0m\u001b[0;34m(\u001b[0m\u001b[0mself\u001b[0m\u001b[0;34m,\u001b[0m \u001b[0mclass_type\u001b[0m\u001b[0;34m,\u001b[0m \u001b[0mname\u001b[0m\u001b[0;34m)\u001b[0m\u001b[0;34m:\u001b[0m\u001b[0;34m\u001b[0m\u001b[0m\n\u001b[0;32m---> 74\u001b[0;31m     \u001b[0;32mreturn\u001b[0m \u001b[0m_swig_getattr_nondynamic\u001b[0m\u001b[0;34m(\u001b[0m\u001b[0mself\u001b[0m\u001b[0;34m,\u001b[0m \u001b[0mclass_type\u001b[0m\u001b[0;34m,\u001b[0m \u001b[0mname\u001b[0m\u001b[0;34m,\u001b[0m \u001b[0;36m0\u001b[0m\u001b[0;34m)\u001b[0m\u001b[0;34m\u001b[0m\u001b[0m\n\u001b[0m\u001b[1;32m     75\u001b[0m \u001b[0;34m\u001b[0m\u001b[0m\n\u001b[1;32m     76\u001b[0m \u001b[0;34m\u001b[0m\u001b[0m\n",
      "\u001b[0;32m/Users/bmelosh/anaconda2/envs/geospatial/lib/python2.7/site-packages/osgeo/gdal.pyc\u001b[0m in \u001b[0;36m_swig_getattr_nondynamic\u001b[0;34m(self, class_type, name, static)\u001b[0m\n\u001b[1;32m     67\u001b[0m         \u001b[0;32mreturn\u001b[0m \u001b[0mmethod\u001b[0m\u001b[0;34m(\u001b[0m\u001b[0mself\u001b[0m\u001b[0;34m)\u001b[0m\u001b[0;34m\u001b[0m\u001b[0m\n\u001b[1;32m     68\u001b[0m     \u001b[0;32mif\u001b[0m \u001b[0;34m(\u001b[0m\u001b[0;32mnot\u001b[0m \u001b[0mstatic\u001b[0m\u001b[0;34m)\u001b[0m\u001b[0;34m:\u001b[0m\u001b[0;34m\u001b[0m\u001b[0m\n\u001b[0;32m---> 69\u001b[0;31m         \u001b[0;32mreturn\u001b[0m \u001b[0mobject\u001b[0m\u001b[0;34m.\u001b[0m\u001b[0m__getattr__\u001b[0m\u001b[0;34m(\u001b[0m\u001b[0mself\u001b[0m\u001b[0;34m,\u001b[0m \u001b[0mname\u001b[0m\u001b[0;34m)\u001b[0m\u001b[0;34m\u001b[0m\u001b[0m\n\u001b[0m\u001b[1;32m     70\u001b[0m     \u001b[0;32melse\u001b[0m\u001b[0;34m:\u001b[0m\u001b[0;34m\u001b[0m\u001b[0m\n\u001b[1;32m     71\u001b[0m         \u001b[0;32mraise\u001b[0m \u001b[0mAttributeError\u001b[0m\u001b[0;34m(\u001b[0m\u001b[0mname\u001b[0m\u001b[0;34m)\u001b[0m\u001b[0;34m\u001b[0m\u001b[0m\n",
      "\u001b[0;31mAttributeError\u001b[0m: type object 'object' has no attribute '__getattr__'"
     ]
    }
   ],
   "source": [
    "import geopandas as gpd\n",
    "\n",
    "grid = gpd.read_file(Test)"
   ]
  },
  {
   "cell_type": "code",
   "execution_count": 33,
   "metadata": {
    "collapsed": false
   },
   "outputs": [],
   "source": [
    "#attempting to plot raster\n",
    "\n",
    "import numpy as np\n",
    "\n",
    "from bokeh.plotting import figure, show, output_file\n",
    "\n",
    "\n",
    "xx, yy = np.meshgrid(data['x'], data['y'])\n",
    "d = data['elevation']\n",
    "\n",
    "\n",
    "p = figure(x_range=(0,100), y_range=(0,100))#(min(data['x']),max(data['x'])), y_range=(min(data['y']),max(data['y'])))\n",
    "# must give a vector of image data for image parameter\n",
    "p.image(image=[d], x=0, y=0, dw=10, dh=10, palette=\"Spectral11\")\n",
    "\n",
    "output_file(\"image.html\", title=\"image.py example\")\n",
    "\n",
    "show(p)  # open a b"
   ]
  },
  {
   "cell_type": "code",
   "execution_count": 34,
   "metadata": {
    "collapsed": false
   },
   "outputs": [
    {
     "data": {
      "text/html": [
       "\n",
       "    <div class=\"bk-root\">\n",
       "        <a href=\"http://bokeh.pydata.org\" target=\"_blank\" class=\"bk-logo bk-logo-small bk-logo-notebook\"></a>\n",
       "        <span id=\"5fc85844-5af5-4e3c-9321-d15f038904fd\">Loading BokehJS ...</span>\n",
       "    </div>"
      ]
     },
     "metadata": {},
     "output_type": "display_data"
    },
    {
     "data": {
      "application/javascript": [
       "\n",
       "(function(global) {\n",
       "  function now() {\n",
       "    return new Date();\n",
       "  }\n",
       "\n",
       "  var force = true;\n",
       "\n",
       "  if (typeof (window._bokeh_onload_callbacks) === \"undefined\" || force === true) {\n",
       "    window._bokeh_onload_callbacks = [];\n",
       "    window._bokeh_is_loading = undefined;\n",
       "  }\n",
       "\n",
       "\n",
       "  \n",
       "  if (typeof (window._bokeh_timeout) === \"undefined\" || force === true) {\n",
       "    window._bokeh_timeout = Date.now() + 5000;\n",
       "    window._bokeh_failed_load = false;\n",
       "  }\n",
       "\n",
       "  var NB_LOAD_WARNING = {'data': {'text/html':\n",
       "     \"<div style='background-color: #fdd'>\\n\"+\n",
       "     \"<p>\\n\"+\n",
       "     \"BokehJS does not appear to have successfully loaded. If loading BokehJS from CDN, this \\n\"+\n",
       "     \"may be due to a slow or bad network connection. Possible fixes:\\n\"+\n",
       "     \"</p>\\n\"+\n",
       "     \"<ul>\\n\"+\n",
       "     \"<li>re-rerun `output_notebook()` to attempt to load from CDN again, or</li>\\n\"+\n",
       "     \"<li>use INLINE resources instead, as so:</li>\\n\"+\n",
       "     \"</ul>\\n\"+\n",
       "     \"<code>\\n\"+\n",
       "     \"from bokeh.resources import INLINE\\n\"+\n",
       "     \"output_notebook(resources=INLINE)\\n\"+\n",
       "     \"</code>\\n\"+\n",
       "     \"</div>\"}};\n",
       "\n",
       "  function display_loaded() {\n",
       "    if (window.Bokeh !== undefined) {\n",
       "      var el = document.getElementById(\"5fc85844-5af5-4e3c-9321-d15f038904fd\");\n",
       "      el.textContent = \"BokehJS \" + Bokeh.version + \" successfully loaded.\";\n",
       "    } else if (Date.now() < window._bokeh_timeout) {\n",
       "      setTimeout(display_loaded, 100)\n",
       "    }\n",
       "  }\n",
       "\n",
       "  function run_callbacks() {\n",
       "    window._bokeh_onload_callbacks.forEach(function(callback) { callback() });\n",
       "    delete window._bokeh_onload_callbacks\n",
       "    console.info(\"Bokeh: all callbacks have finished\");\n",
       "  }\n",
       "\n",
       "  function load_libs(js_urls, callback) {\n",
       "    window._bokeh_onload_callbacks.push(callback);\n",
       "    if (window._bokeh_is_loading > 0) {\n",
       "      console.log(\"Bokeh: BokehJS is being loaded, scheduling callback at\", now());\n",
       "      return null;\n",
       "    }\n",
       "    if (js_urls == null || js_urls.length === 0) {\n",
       "      run_callbacks();\n",
       "      return null;\n",
       "    }\n",
       "    console.log(\"Bokeh: BokehJS not loaded, scheduling load and callback at\", now());\n",
       "    window._bokeh_is_loading = js_urls.length;\n",
       "    for (var i = 0; i < js_urls.length; i++) {\n",
       "      var url = js_urls[i];\n",
       "      var s = document.createElement('script');\n",
       "      s.src = url;\n",
       "      s.async = false;\n",
       "      s.onreadystatechange = s.onload = function() {\n",
       "        window._bokeh_is_loading--;\n",
       "        if (window._bokeh_is_loading === 0) {\n",
       "          console.log(\"Bokeh: all BokehJS libraries loaded\");\n",
       "          run_callbacks()\n",
       "        }\n",
       "      };\n",
       "      s.onerror = function() {\n",
       "        console.warn(\"failed to load library \" + url);\n",
       "      };\n",
       "      console.log(\"Bokeh: injecting script tag for BokehJS library: \", url);\n",
       "      document.getElementsByTagName(\"head\")[0].appendChild(s);\n",
       "    }\n",
       "  };var element = document.getElementById(\"5fc85844-5af5-4e3c-9321-d15f038904fd\");\n",
       "  if (element == null) {\n",
       "    console.log(\"Bokeh: ERROR: autoload.js configured with elementid '5fc85844-5af5-4e3c-9321-d15f038904fd' but no matching script tag was found. \")\n",
       "    return false;\n",
       "  }\n",
       "\n",
       "  var js_urls = [\"https://cdn.pydata.org/bokeh/release/bokeh-0.12.5.min.js\", \"https://cdn.pydata.org/bokeh/release/bokeh-widgets-0.12.5.min.js\"];\n",
       "\n",
       "  var inline_js = [\n",
       "    function(Bokeh) {\n",
       "      Bokeh.set_log_level(\"info\");\n",
       "    },\n",
       "    \n",
       "    function(Bokeh) {\n",
       "      \n",
       "    },\n",
       "    \n",
       "    function(Bokeh) {\n",
       "      \n",
       "      document.getElementById(\"5fc85844-5af5-4e3c-9321-d15f038904fd\").textContent = \"BokehJS is loading...\";\n",
       "    },\n",
       "    function(Bokeh) {\n",
       "      console.log(\"Bokeh: injecting CSS: https://cdn.pydata.org/bokeh/release/bokeh-0.12.5.min.css\");\n",
       "      Bokeh.embed.inject_css(\"https://cdn.pydata.org/bokeh/release/bokeh-0.12.5.min.css\");\n",
       "      console.log(\"Bokeh: injecting CSS: https://cdn.pydata.org/bokeh/release/bokeh-widgets-0.12.5.min.css\");\n",
       "      Bokeh.embed.inject_css(\"https://cdn.pydata.org/bokeh/release/bokeh-widgets-0.12.5.min.css\");\n",
       "    }\n",
       "  ];\n",
       "\n",
       "  function run_inline_js() {\n",
       "    \n",
       "    if ((window.Bokeh !== undefined) || (force === true)) {\n",
       "      for (var i = 0; i < inline_js.length; i++) {\n",
       "        inline_js[i](window.Bokeh);\n",
       "      }if (force === true) {\n",
       "        display_loaded();\n",
       "      }} else if (Date.now() < window._bokeh_timeout) {\n",
       "      setTimeout(run_inline_js, 100);\n",
       "    } else if (!window._bokeh_failed_load) {\n",
       "      console.log(\"Bokeh: BokehJS failed to load within specified timeout.\");\n",
       "      window._bokeh_failed_load = true;\n",
       "    } else if (force !== true) {\n",
       "      var cell = $(document.getElementById(\"5fc85844-5af5-4e3c-9321-d15f038904fd\")).parents('.cell').data().cell;\n",
       "      cell.output_area.append_execute_result(NB_LOAD_WARNING)\n",
       "    }\n",
       "\n",
       "  }\n",
       "\n",
       "  if (window._bokeh_is_loading === 0) {\n",
       "    console.log(\"Bokeh: BokehJS loaded, going straight to plotting\");\n",
       "    run_inline_js();\n",
       "  } else {\n",
       "    load_libs(js_urls, function() {\n",
       "      console.log(\"Bokeh: BokehJS plotting callback run at\", now());\n",
       "      run_inline_js();\n",
       "    });\n",
       "  }\n",
       "}(this));"
      ]
     },
     "metadata": {},
     "output_type": "display_data"
    },
    {
     "name": "stderr",
     "output_type": "stream",
     "text": [
      "/Users/bmelosh/anaconda2/envs/geospatial/lib/python2.7/site-packages/ipykernel/__main__.py:15: RuntimeWarning: invalid value encountered in less\n",
      "/Users/bmelosh/anaconda2/envs/geospatial/lib/python2.7/site-packages/ipykernel/__main__.py:15: RuntimeWarning: invalid value encountered in greater\n"
     ]
    },
    {
     "data": {
      "text/html": [
       "\n",
       "\n",
       "    <div class=\"bk-root\">\n",
       "        <div class=\"bk-plotdiv\" id=\"60db2a5d-a5de-4543-b899-2a32b8cf4966\"></div>\n",
       "    </div>\n",
       "<script type=\"text/javascript\">\n",
       "  \n",
       "  (function(global) {\n",
       "    function now() {\n",
       "      return new Date();\n",
       "    }\n",
       "  \n",
       "    var force = false;\n",
       "  \n",
       "    if (typeof (window._bokeh_onload_callbacks) === \"undefined\" || force === true) {\n",
       "      window._bokeh_onload_callbacks = [];\n",
       "      window._bokeh_is_loading = undefined;\n",
       "    }\n",
       "  \n",
       "  \n",
       "    \n",
       "    if (typeof (window._bokeh_timeout) === \"undefined\" || force === true) {\n",
       "      window._bokeh_timeout = Date.now() + 0;\n",
       "      window._bokeh_failed_load = false;\n",
       "    }\n",
       "  \n",
       "    var NB_LOAD_WARNING = {'data': {'text/html':\n",
       "       \"<div style='background-color: #fdd'>\\n\"+\n",
       "       \"<p>\\n\"+\n",
       "       \"BokehJS does not appear to have successfully loaded. If loading BokehJS from CDN, this \\n\"+\n",
       "       \"may be due to a slow or bad network connection. Possible fixes:\\n\"+\n",
       "       \"</p>\\n\"+\n",
       "       \"<ul>\\n\"+\n",
       "       \"<li>re-rerun `output_notebook()` to attempt to load from CDN again, or</li>\\n\"+\n",
       "       \"<li>use INLINE resources instead, as so:</li>\\n\"+\n",
       "       \"</ul>\\n\"+\n",
       "       \"<code>\\n\"+\n",
       "       \"from bokeh.resources import INLINE\\n\"+\n",
       "       \"output_notebook(resources=INLINE)\\n\"+\n",
       "       \"</code>\\n\"+\n",
       "       \"</div>\"}};\n",
       "  \n",
       "    function display_loaded() {\n",
       "      if (window.Bokeh !== undefined) {\n",
       "        var el = document.getElementById(\"60db2a5d-a5de-4543-b899-2a32b8cf4966\");\n",
       "        el.textContent = \"BokehJS \" + Bokeh.version + \" successfully loaded.\";\n",
       "      } else if (Date.now() < window._bokeh_timeout) {\n",
       "        setTimeout(display_loaded, 100)\n",
       "      }\n",
       "    }\n",
       "  \n",
       "    function run_callbacks() {\n",
       "      window._bokeh_onload_callbacks.forEach(function(callback) { callback() });\n",
       "      delete window._bokeh_onload_callbacks\n",
       "      console.info(\"Bokeh: all callbacks have finished\");\n",
       "    }\n",
       "  \n",
       "    function load_libs(js_urls, callback) {\n",
       "      window._bokeh_onload_callbacks.push(callback);\n",
       "      if (window._bokeh_is_loading > 0) {\n",
       "        console.log(\"Bokeh: BokehJS is being loaded, scheduling callback at\", now());\n",
       "        return null;\n",
       "      }\n",
       "      if (js_urls == null || js_urls.length === 0) {\n",
       "        run_callbacks();\n",
       "        return null;\n",
       "      }\n",
       "      console.log(\"Bokeh: BokehJS not loaded, scheduling load and callback at\", now());\n",
       "      window._bokeh_is_loading = js_urls.length;\n",
       "      for (var i = 0; i < js_urls.length; i++) {\n",
       "        var url = js_urls[i];\n",
       "        var s = document.createElement('script');\n",
       "        s.src = url;\n",
       "        s.async = false;\n",
       "        s.onreadystatechange = s.onload = function() {\n",
       "          window._bokeh_is_loading--;\n",
       "          if (window._bokeh_is_loading === 0) {\n",
       "            console.log(\"Bokeh: all BokehJS libraries loaded\");\n",
       "            run_callbacks()\n",
       "          }\n",
       "        };\n",
       "        s.onerror = function() {\n",
       "          console.warn(\"failed to load library \" + url);\n",
       "        };\n",
       "        console.log(\"Bokeh: injecting script tag for BokehJS library: \", url);\n",
       "        document.getElementsByTagName(\"head\")[0].appendChild(s);\n",
       "      }\n",
       "    };var element = document.getElementById(\"60db2a5d-a5de-4543-b899-2a32b8cf4966\");\n",
       "    if (element == null) {\n",
       "      console.log(\"Bokeh: ERROR: autoload.js configured with elementid '60db2a5d-a5de-4543-b899-2a32b8cf4966' but no matching script tag was found. \")\n",
       "      return false;\n",
       "    }\n",
       "  \n",
       "    var js_urls = [];\n",
       "  \n",
       "    var inline_js = [\n",
       "      function(Bokeh) {\n",
       "        (function() {\n",
       "          var fn = function() {\n",
       "            var docs_json = {\"50deb9b6-4042-49f5-a39e-f638ab34ebc2\":{\"roots\":{\"references\":[{\"attributes\":{},\"id\":\"0746ae98-27db-4320-b2a3-7962cf01b6ea\",\"type\":\"ToolEvents\"},{\"attributes\":{\"dh\":{\"field\":\"dh\",\"units\":\"data\"},\"dw\":{\"field\":\"dw\",\"units\":\"data\"},\"image\":{\"field\":\"image\"},\"x\":{\"field\":\"x\"},\"y\":{\"field\":\"y\"}},\"id\":\"3d27bb0f-5187-4023-9c2e-8e1078108845\",\"type\":\"ImageRGBA\"},{\"attributes\":{\"dh\":{\"field\":\"dh\",\"units\":\"data\"},\"dw\":{\"field\":\"dw\",\"units\":\"data\"},\"image\":{\"field\":\"image\"},\"x\":{\"field\":\"x\"},\"y\":{\"field\":\"y\"}},\"id\":\"3ae4b113-23ac-4301-b021-dd882d9081ea\",\"type\":\"ImageRGBA\"},{\"attributes\":{\"data_source\":{\"id\":\"ce5321a8-be35-4801-b95a-0f7d3f67f214\",\"type\":\"ColumnDataSource\"},\"glyph\":{\"id\":\"3ae4b113-23ac-4301-b021-dd882d9081ea\",\"type\":\"ImageRGBA\"},\"hover_glyph\":null,\"muted_glyph\":null,\"name\":\"image\",\"nonselection_glyph\":{\"id\":\"3d27bb0f-5187-4023-9c2e-8e1078108845\",\"type\":\"ImageRGBA\"},\"selection_glyph\":null},\"id\":\"862c0a85-b944-4cf7-975c-35090b2dac77\",\"type\":\"GlyphRenderer\"},{\"attributes\":{\"active_drag\":\"auto\",\"active_scroll\":\"auto\",\"active_tap\":\"auto\",\"tools\":[{\"id\":\"b2464076-2fda-4ad3-8d91-024bd0dcd612\",\"type\":\"PanTool\"},{\"id\":\"64c41611-06e4-4a52-a657-7342e6400434\",\"type\":\"WheelZoomTool\"},{\"id\":\"09c35e34-084b-4f3a-b20e-780d35adc8e4\",\"type\":\"BoxZoomTool\"},{\"id\":\"c880909e-a509-47bf-baea-23ee54642ab0\",\"type\":\"SaveTool\"},{\"id\":\"f2b5e911-8558-43fa-baa5-75a52948b415\",\"type\":\"ResetTool\"},{\"id\":\"b31e63ce-4277-4dd4-9f92-7e555c624a51\",\"type\":\"HelpTool\"}]},\"id\":\"a3bcc0ef-fb0b-4882-a350-c5862bd8e49f\",\"type\":\"Toolbar\"},{\"attributes\":{\"callback\":null,\"column_names\":[\"dh\",\"image\",\"x\",\"y\",\"dw\"],\"data\":{\"dh\":[180],\"dw\":[360],\"image\":[{\"id\":\"2b8b1caa-21d8-4b2b-838a-4e3d2482df07\",\"subtype\":\"Figure\",\"type\":\"Plot\"}],\"x\":[-180],\"y\":[-90]}},\"id\":\"ce5321a8-be35-4801-b95a-0f7d3f67f214\",\"type\":\"ColumnDataSource\"},{\"attributes\":{\"plot\":{\"id\":\"00512b1d-73e3-4906-96aa-b85a88024f17\",\"subtype\":\"Figure\",\"type\":\"Plot\"}},\"id\":\"b2464076-2fda-4ad3-8d91-024bd0dcd612\",\"type\":\"PanTool\"},{\"attributes\":{\"plot\":{\"id\":\"00512b1d-73e3-4906-96aa-b85a88024f17\",\"subtype\":\"Figure\",\"type\":\"Plot\"}},\"id\":\"f2b5e911-8558-43fa-baa5-75a52948b415\",\"type\":\"ResetTool\"},{\"attributes\":{\"plot\":{\"id\":\"00512b1d-73e3-4906-96aa-b85a88024f17\",\"subtype\":\"Figure\",\"type\":\"Plot\"}},\"id\":\"c880909e-a509-47bf-baea-23ee54642ab0\",\"type\":\"SaveTool\"},{\"attributes\":{\"plot\":null,\"text\":\"\"},\"id\":\"4f994f46-b1ca-4574-82b5-23577bb611f7\",\"type\":\"Title\"},{\"attributes\":{\"plot\":{\"id\":\"00512b1d-73e3-4906-96aa-b85a88024f17\",\"subtype\":\"Figure\",\"type\":\"Plot\"}},\"id\":\"64c41611-06e4-4a52-a657-7342e6400434\",\"type\":\"WheelZoomTool\"},{\"attributes\":{\"overlay\":{\"id\":\"3e289305-15ae-498e-a7e9-caebcb4d58b5\",\"type\":\"BoxAnnotation\"},\"plot\":{\"id\":\"00512b1d-73e3-4906-96aa-b85a88024f17\",\"subtype\":\"Figure\",\"type\":\"Plot\"}},\"id\":\"09c35e34-084b-4f3a-b20e-780d35adc8e4\",\"type\":\"BoxZoomTool\"},{\"attributes\":{\"callback\":null,\"end\":90,\"start\":-90},\"id\":\"c8883685-82e0-4028-9f37-71c50a558878\",\"type\":\"Range1d\"},{\"attributes\":{\"plot_height\":500,\"plot_width\":900,\"renderers\":[{\"id\":\"3e289305-15ae-498e-a7e9-caebcb4d58b5\",\"type\":\"BoxAnnotation\"},{\"id\":\"862c0a85-b944-4cf7-975c-35090b2dac77\",\"type\":\"GlyphRenderer\"}],\"title\":{\"id\":\"4f994f46-b1ca-4574-82b5-23577bb611f7\",\"type\":\"Title\"},\"tool_events\":{\"id\":\"0746ae98-27db-4320-b2a3-7962cf01b6ea\",\"type\":\"ToolEvents\"},\"toolbar\":{\"id\":\"a3bcc0ef-fb0b-4882-a350-c5862bd8e49f\",\"type\":\"Toolbar\"},\"x_range\":{\"id\":\"1bae7da2-79e5-4710-af00-10a4034fe4fb\",\"type\":\"Range1d\"},\"y_range\":{\"id\":\"c8883685-82e0-4028-9f37-71c50a558878\",\"type\":\"Range1d\"}},\"id\":\"00512b1d-73e3-4906-96aa-b85a88024f17\",\"subtype\":\"Figure\",\"type\":\"Plot\"},{\"attributes\":{\"callback\":null,\"end\":180,\"start\":-180},\"id\":\"1bae7da2-79e5-4710-af00-10a4034fe4fb\",\"type\":\"Range1d\"},{\"attributes\":{\"bottom_units\":\"screen\",\"fill_alpha\":{\"value\":0.5},\"fill_color\":{\"value\":\"lightgrey\"},\"left_units\":\"screen\",\"level\":\"overlay\",\"line_alpha\":{\"value\":1.0},\"line_color\":{\"value\":\"black\"},\"line_dash\":[4,4],\"line_width\":{\"value\":2},\"plot\":null,\"render_mode\":\"css\",\"right_units\":\"screen\",\"top_units\":\"screen\"},\"id\":\"3e289305-15ae-498e-a7e9-caebcb4d58b5\",\"type\":\"BoxAnnotation\"},{\"attributes\":{\"plot\":{\"id\":\"00512b1d-73e3-4906-96aa-b85a88024f17\",\"subtype\":\"Figure\",\"type\":\"Plot\"}},\"id\":\"b31e63ce-4277-4dd4-9f92-7e555c624a51\",\"type\":\"HelpTool\"}],\"root_ids\":[\"00512b1d-73e3-4906-96aa-b85a88024f17\"]},\"title\":\"Bokeh Application\",\"version\":\"0.12.5\"}};\n",
       "            var render_items = [{\"docid\":\"50deb9b6-4042-49f5-a39e-f638ab34ebc2\",\"elementid\":\"60db2a5d-a5de-4543-b899-2a32b8cf4966\",\"modelid\":\"00512b1d-73e3-4906-96aa-b85a88024f17\"}];\n",
       "            \n",
       "            Bokeh.embed.embed_items(docs_json, render_items);\n",
       "          };\n",
       "          if (document.readyState != \"loading\") fn();\n",
       "          else document.addEventListener(\"DOMContentLoaded\", fn);\n",
       "        })();\n",
       "      },\n",
       "      function(Bokeh) {\n",
       "      }\n",
       "    ];\n",
       "  \n",
       "    function run_inline_js() {\n",
       "      \n",
       "      if ((window.Bokeh !== undefined) || (force === true)) {\n",
       "        for (var i = 0; i < inline_js.length; i++) {\n",
       "          inline_js[i](window.Bokeh);\n",
       "        }if (force === true) {\n",
       "          display_loaded();\n",
       "        }} else if (Date.now() < window._bokeh_timeout) {\n",
       "        setTimeout(run_inline_js, 100);\n",
       "      } else if (!window._bokeh_failed_load) {\n",
       "        console.log(\"Bokeh: BokehJS failed to load within specified timeout.\");\n",
       "        window._bokeh_failed_load = true;\n",
       "      } else if (force !== true) {\n",
       "        var cell = $(document.getElementById(\"60db2a5d-a5de-4543-b899-2a32b8cf4966\")).parents('.cell').data().cell;\n",
       "        cell.output_area.append_execute_result(NB_LOAD_WARNING)\n",
       "      }\n",
       "  \n",
       "    }\n",
       "  \n",
       "    if (window._bokeh_is_loading === 0) {\n",
       "      console.log(\"Bokeh: BokehJS loaded, going straight to plotting\");\n",
       "      run_inline_js();\n",
       "    } else {\n",
       "      load_libs(js_urls, function() {\n",
       "        console.log(\"Bokeh: BokehJS plotting callback run at\", now());\n",
       "        run_inline_js();\n",
       "      });\n",
       "    }\n",
       "  }(this));\n",
       "</script>"
      ]
     },
     "metadata": {},
     "output_type": "display_data"
    }
   ],
   "source": [
    "\n",
    "from bokeh.plotting import figure, output_notebook, show\n",
    "data = netCDF4.Dataset('Land_and_Ocean_LatLong1.nc')\n",
    "t = data.variables['temperature']\n",
    "\n",
    "colormap = RGBAColorMapper(-6, 6, RdBu11)\n",
    "# Set output option\n",
    "output_notebook()\n",
    "\n",
    "\n",
    "# Write a function ``get_slice(temperature_variable, year, month)`` that given a temperature variable, year and month\n",
    "# returns an array of rgba colors. (Hint: Use RGBAColorMapper.color()). \n",
    "def get_slice(t, year, month):\n",
    "    i = (year - 1850)*12 + month - 1\n",
    "    return colormap.color(t[i, :, :])\n",
    "\n",
    "# Get image data for a given year and month using the ``get_slice`` function\n",
    "image = get_slice(t, 1950, 1)\n",
    "\n",
    "\n",
    "\n",
    "\n",
    "# Create plot\n",
    "# Tip: Make sure to set x_range and y_range appropriately\n",
    "p =  figure(width=900, height=500, x_axis_type=None, y_axis_type=None, x_range=[-180,180], y_range=[-90,90])\n",
    "\n",
    "p.image_rgba(\n",
    "    image=[image],\n",
    "    x=[-180], y=[-90],\n",
    "    dw=[360], dh=[180], name='image'\n",
    ")\n",
    "\n",
    "q = figure(width=900, height=500, x_axis_type=None, y_axis_type=None, x_range=[-180,180], y_range=[-90,90])\n",
    "q.image_rgba(image=[dem], \n",
    "            x=[-180], y=[-90],\n",
    "    dw=[360], dh=[180], name='image'\n",
    ")\n",
    "\n",
    "\n",
    "# Show plot\n",
    "show(q)"
   ]
  },
  {
   "cell_type": "code",
   "execution_count": 44,
   "metadata": {
    "collapsed": false
   },
   "outputs": [
    {
     "data": {
      "text/html": [
       "\n",
       "\n",
       "    <div class=\"bk-root\">\n",
       "        <div class=\"bk-plotdiv\" id=\"8097178a-afd3-466b-95f6-93d33ac902f8\"></div>\n",
       "    </div>\n",
       "<script type=\"text/javascript\">\n",
       "  \n",
       "  (function(global) {\n",
       "    function now() {\n",
       "      return new Date();\n",
       "    }\n",
       "  \n",
       "    var force = false;\n",
       "  \n",
       "    if (typeof (window._bokeh_onload_callbacks) === \"undefined\" || force === true) {\n",
       "      window._bokeh_onload_callbacks = [];\n",
       "      window._bokeh_is_loading = undefined;\n",
       "    }\n",
       "  \n",
       "  \n",
       "    \n",
       "    if (typeof (window._bokeh_timeout) === \"undefined\" || force === true) {\n",
       "      window._bokeh_timeout = Date.now() + 0;\n",
       "      window._bokeh_failed_load = false;\n",
       "    }\n",
       "  \n",
       "    var NB_LOAD_WARNING = {'data': {'text/html':\n",
       "       \"<div style='background-color: #fdd'>\\n\"+\n",
       "       \"<p>\\n\"+\n",
       "       \"BokehJS does not appear to have successfully loaded. If loading BokehJS from CDN, this \\n\"+\n",
       "       \"may be due to a slow or bad network connection. Possible fixes:\\n\"+\n",
       "       \"</p>\\n\"+\n",
       "       \"<ul>\\n\"+\n",
       "       \"<li>re-rerun `output_notebook()` to attempt to load from CDN again, or</li>\\n\"+\n",
       "       \"<li>use INLINE resources instead, as so:</li>\\n\"+\n",
       "       \"</ul>\\n\"+\n",
       "       \"<code>\\n\"+\n",
       "       \"from bokeh.resources import INLINE\\n\"+\n",
       "       \"output_notebook(resources=INLINE)\\n\"+\n",
       "       \"</code>\\n\"+\n",
       "       \"</div>\"}};\n",
       "  \n",
       "    function display_loaded() {\n",
       "      if (window.Bokeh !== undefined) {\n",
       "        var el = document.getElementById(\"8097178a-afd3-466b-95f6-93d33ac902f8\");\n",
       "        el.textContent = \"BokehJS \" + Bokeh.version + \" successfully loaded.\";\n",
       "      } else if (Date.now() < window._bokeh_timeout) {\n",
       "        setTimeout(display_loaded, 100)\n",
       "      }\n",
       "    }\n",
       "  \n",
       "    function run_callbacks() {\n",
       "      window._bokeh_onload_callbacks.forEach(function(callback) { callback() });\n",
       "      delete window._bokeh_onload_callbacks\n",
       "      console.info(\"Bokeh: all callbacks have finished\");\n",
       "    }\n",
       "  \n",
       "    function load_libs(js_urls, callback) {\n",
       "      window._bokeh_onload_callbacks.push(callback);\n",
       "      if (window._bokeh_is_loading > 0) {\n",
       "        console.log(\"Bokeh: BokehJS is being loaded, scheduling callback at\", now());\n",
       "        return null;\n",
       "      }\n",
       "      if (js_urls == null || js_urls.length === 0) {\n",
       "        run_callbacks();\n",
       "        return null;\n",
       "      }\n",
       "      console.log(\"Bokeh: BokehJS not loaded, scheduling load and callback at\", now());\n",
       "      window._bokeh_is_loading = js_urls.length;\n",
       "      for (var i = 0; i < js_urls.length; i++) {\n",
       "        var url = js_urls[i];\n",
       "        var s = document.createElement('script');\n",
       "        s.src = url;\n",
       "        s.async = false;\n",
       "        s.onreadystatechange = s.onload = function() {\n",
       "          window._bokeh_is_loading--;\n",
       "          if (window._bokeh_is_loading === 0) {\n",
       "            console.log(\"Bokeh: all BokehJS libraries loaded\");\n",
       "            run_callbacks()\n",
       "          }\n",
       "        };\n",
       "        s.onerror = function() {\n",
       "          console.warn(\"failed to load library \" + url);\n",
       "        };\n",
       "        console.log(\"Bokeh: injecting script tag for BokehJS library: \", url);\n",
       "        document.getElementsByTagName(\"head\")[0].appendChild(s);\n",
       "      }\n",
       "    };var element = document.getElementById(\"8097178a-afd3-466b-95f6-93d33ac902f8\");\n",
       "    if (element == null) {\n",
       "      console.log(\"Bokeh: ERROR: autoload.js configured with elementid '8097178a-afd3-466b-95f6-93d33ac902f8' but no matching script tag was found. \")\n",
       "      return false;\n",
       "    }\n",
       "  \n",
       "    var js_urls = [];\n",
       "  \n",
       "    var inline_js = [\n",
       "      function(Bokeh) {\n",
       "        (function() {\n",
       "          var fn = function() {\n",
       "            var docs_json = {\"c2ab97c7-d7be-4acb-b92d-5fc5d56a6783\":{\"roots\":{\"references\":[{\"attributes\":{\"dh\":{\"field\":\"dh\",\"units\":\"data\"},\"dw\":{\"field\":\"dw\",\"units\":\"data\"},\"image\":{\"field\":\"image\"},\"x\":{\"field\":\"x\"},\"y\":{\"field\":\"y\"}},\"id\":\"ffbd633c-c273-4006-bada-baa405e4fce5\",\"type\":\"ImageRGBA\"},{\"attributes\":{},\"id\":\"123d344b-8f59-44a3-a664-97bdc1d09142\",\"type\":\"BasicTicker\"},{\"attributes\":{\"callback\":null,\"column_names\":[\"dh\",\"image\",\"x\",\"y\",\"dw\"],\"data\":{\"dh\":[10,10,10,10,10,10,10,10,10,10],\"dw\":[0.5,1.5,0.5,1.5,0.5,1.5,0.5,1.5,0.5,1.5],\"image\":[{\"__ndarray__\":\"AABk/wAZZP8AM2T/AExk/wBmZP8Af2T/AJlk/wCyZP8AzGT/AOVk/w==\",\"dtype\":\"uint32\",\"shape\":[10,1]},{\"__ndarray__\":\"GQBk/xkZZP8ZM2T/GUxk/xlmZP8Zf2T/GZlk/xmyZP8ZzGT/GeVk/w==\",\"dtype\":\"uint32\",\"shape\":[10,1]},{\"__ndarray__\":\"MwBk/zMZZP8zM2T/M0xk/zNmZP8zf2T/M5lk/zOyZP8zzGT/M+Vk/w==\",\"dtype\":\"uint32\",\"shape\":[10,1]},{\"__ndarray__\":\"TABk/0wZZP9MM2T/TExk/0xmZP9Mf2T/TJlk/0yyZP9MzGT/TOVk/w==\",\"dtype\":\"uint32\",\"shape\":[10,1]},{\"__ndarray__\":\"ZgBk/2YZZP9mM2T/Zkxk/2ZmZP9mf2T/Zplk/2ayZP9mzGT/ZuVk/w==\",\"dtype\":\"uint32\",\"shape\":[10,1]},{\"__ndarray__\":\"fwBk/38ZZP9/M2T/f0xk/39mZP9/f2T/f5lk/3+yZP9/zGT/f+Vk/w==\",\"dtype\":\"uint32\",\"shape\":[10,1]},{\"__ndarray__\":\"mQBk/5kZZP+ZM2T/mUxk/5lmZP+Zf2T/mZlk/5myZP+ZzGT/meVk/w==\",\"dtype\":\"uint32\",\"shape\":[10,1]},{\"__ndarray__\":\"sgBk/7IZZP+yM2T/skxk/7JmZP+yf2T/splk/7KyZP+yzGT/suVk/w==\",\"dtype\":\"uint32\",\"shape\":[10,1]},{\"__ndarray__\":\"zABk/8wZZP/MM2T/zExk/8xmZP/Mf2T/zJlk/8yyZP/MzGT/zOVk/w==\",\"dtype\":\"uint32\",\"shape\":[10,1]},{\"__ndarray__\":\"5QBk/+UZZP/lM2T/5Uxk/+VmZP/lf2T/5Zlk/+WyZP/lzGT/5eVk/w==\",\"dtype\":\"uint32\",\"shape\":[10,1]}],\"x\":[0,0.5,2.0,2.5,4.0,4.5,6.0,6.5,8.0,8.5],\"y\":[0,0,0,0,0,0,0,0,0,0]}},\"id\":\"8776373a-2e43-42b5-86d4-e511db41a0f3\",\"type\":\"ColumnDataSource\"},{\"attributes\":{\"data_source\":{\"id\":\"8776373a-2e43-42b5-86d4-e511db41a0f3\",\"type\":\"ColumnDataSource\"},\"glyph\":{\"id\":\"ffbd633c-c273-4006-bada-baa405e4fce5\",\"type\":\"ImageRGBA\"},\"hover_glyph\":null,\"muted_glyph\":null,\"nonselection_glyph\":{\"id\":\"3a2c5290-a6ea-4cc8-9227-9f4cd0576149\",\"type\":\"ImageRGBA\"},\"selection_glyph\":null},\"id\":\"e2da5b67-5514-42b6-ad76-1ffc64a15dec\",\"type\":\"GlyphRenderer\"},{\"attributes\":{\"dimension\":1,\"plot\":{\"id\":\"07be1c96-dfcc-410b-b535-ca24a32806df\",\"subtype\":\"Figure\",\"type\":\"Plot\"},\"ticker\":{\"id\":\"123d344b-8f59-44a3-a664-97bdc1d09142\",\"type\":\"BasicTicker\"}},\"id\":\"ffa4cd7a-8efd-451f-9f3a-a8bae1f1eb4a\",\"type\":\"Grid\"},{\"attributes\":{\"plot\":{\"id\":\"07be1c96-dfcc-410b-b535-ca24a32806df\",\"subtype\":\"Figure\",\"type\":\"Plot\"}},\"id\":\"20358aca-b93f-4702-9f4c-e4916e60a848\",\"type\":\"WheelZoomTool\"},{\"attributes\":{\"dh\":{\"field\":\"dh\",\"units\":\"data\"},\"dw\":{\"field\":\"dw\",\"units\":\"data\"},\"image\":{\"field\":\"image\"},\"x\":{\"field\":\"x\"},\"y\":{\"field\":\"y\"}},\"id\":\"3a2c5290-a6ea-4cc8-9227-9f4cd0576149\",\"type\":\"ImageRGBA\"},{\"attributes\":{\"bounds\":\"auto\",\"callback\":null,\"end\":10},\"id\":\"34868034-bf13-4910-bcd3-bd7c5d667955\",\"type\":\"Range1d\"},{\"attributes\":{},\"id\":\"41a89921-af49-4cfa-806f-ba43a20893aa\",\"type\":\"BasicTickFormatter\"},{\"attributes\":{\"bottom_units\":\"screen\",\"fill_alpha\":{\"value\":0.5},\"fill_color\":{\"value\":\"lightgrey\"},\"left_units\":\"screen\",\"level\":\"overlay\",\"line_alpha\":{\"value\":1.0},\"line_color\":{\"value\":\"black\"},\"line_dash\":[4,4],\"line_width\":{\"value\":2},\"plot\":null,\"render_mode\":\"css\",\"right_units\":\"screen\",\"top_units\":\"screen\"},\"id\":\"bb958ced-c122-4a9c-964a-b29210b53e27\",\"type\":\"BoxAnnotation\"},{\"attributes\":{\"active_drag\":\"auto\",\"active_scroll\":{\"id\":\"20358aca-b93f-4702-9f4c-e4916e60a848\",\"type\":\"WheelZoomTool\"},\"active_tap\":\"auto\",\"tools\":[{\"id\":\"6e5257ac-2999-413d-926c-89371ac2a7ab\",\"type\":\"PanTool\"},{\"id\":\"20358aca-b93f-4702-9f4c-e4916e60a848\",\"type\":\"WheelZoomTool\"},{\"id\":\"9573247b-e640-4c95-a3f7-42d798cbc6e8\",\"type\":\"BoxZoomTool\"},{\"id\":\"3b0c4567-dd58-487a-9526-294f9aee9b32\",\"type\":\"SaveTool\"},{\"id\":\"713d550f-14e5-4a87-8a4c-239156685bb3\",\"type\":\"ResetTool\"},{\"id\":\"d8324db6-23d0-40d2-bebc-665e1d29bb3e\",\"type\":\"HelpTool\"}]},\"id\":\"2206d4ae-dbcc-4455-b383-25df2a78cf3d\",\"type\":\"Toolbar\"},{\"attributes\":{\"plot\":{\"id\":\"07be1c96-dfcc-410b-b535-ca24a32806df\",\"subtype\":\"Figure\",\"type\":\"Plot\"}},\"id\":\"713d550f-14e5-4a87-8a4c-239156685bb3\",\"type\":\"ResetTool\"},{\"attributes\":{\"plot\":{\"id\":\"07be1c96-dfcc-410b-b535-ca24a32806df\",\"subtype\":\"Figure\",\"type\":\"Plot\"}},\"id\":\"d8324db6-23d0-40d2-bebc-665e1d29bb3e\",\"type\":\"HelpTool\"},{\"attributes\":{},\"id\":\"42f4e76f-b172-489d-87c9-fe5feb1f16d8\",\"type\":\"BasicTicker\"},{\"attributes\":{},\"id\":\"ca477553-90d6-4197-90bc-b69ecb816434\",\"type\":\"BasicTickFormatter\"},{\"attributes\":{\"plot\":{\"id\":\"07be1c96-dfcc-410b-b535-ca24a32806df\",\"subtype\":\"Figure\",\"type\":\"Plot\"}},\"id\":\"6e5257ac-2999-413d-926c-89371ac2a7ab\",\"type\":\"PanTool\"},{\"attributes\":{\"formatter\":{\"id\":\"41a89921-af49-4cfa-806f-ba43a20893aa\",\"type\":\"BasicTickFormatter\"},\"plot\":{\"id\":\"07be1c96-dfcc-410b-b535-ca24a32806df\",\"subtype\":\"Figure\",\"type\":\"Plot\"},\"ticker\":{\"id\":\"123d344b-8f59-44a3-a664-97bdc1d09142\",\"type\":\"BasicTicker\"}},\"id\":\"57f0b67a-6cb3-4a8c-8424-a6f524485d34\",\"type\":\"LinearAxis\"},{\"attributes\":{\"plot\":null,\"text\":\"\"},\"id\":\"d783f800-cbcf-4660-adfa-df3e842cb57f\",\"type\":\"Title\"},{\"attributes\":{\"overlay\":{\"id\":\"bb958ced-c122-4a9c-964a-b29210b53e27\",\"type\":\"BoxAnnotation\"},\"plot\":{\"id\":\"07be1c96-dfcc-410b-b535-ca24a32806df\",\"subtype\":\"Figure\",\"type\":\"Plot\"}},\"id\":\"9573247b-e640-4c95-a3f7-42d798cbc6e8\",\"type\":\"BoxZoomTool\"},{\"attributes\":{\"plot\":{\"id\":\"07be1c96-dfcc-410b-b535-ca24a32806df\",\"subtype\":\"Figure\",\"type\":\"Plot\"}},\"id\":\"3b0c4567-dd58-487a-9526-294f9aee9b32\",\"type\":\"SaveTool\"},{\"attributes\":{\"formatter\":{\"id\":\"ca477553-90d6-4197-90bc-b69ecb816434\",\"type\":\"BasicTickFormatter\"},\"plot\":{\"id\":\"07be1c96-dfcc-410b-b535-ca24a32806df\",\"subtype\":\"Figure\",\"type\":\"Plot\"},\"ticker\":{\"id\":\"42f4e76f-b172-489d-87c9-fe5feb1f16d8\",\"type\":\"BasicTicker\"}},\"id\":\"bc5e71cc-a7d6-46a9-8c12-43bf15d20b8e\",\"type\":\"LinearAxis\"},{\"attributes\":{},\"id\":\"c39ed55c-4a68-4cfe-8ec7-77b54285347c\",\"type\":\"ToolEvents\"},{\"attributes\":{\"plot\":{\"id\":\"07be1c96-dfcc-410b-b535-ca24a32806df\",\"subtype\":\"Figure\",\"type\":\"Plot\"},\"ticker\":{\"id\":\"42f4e76f-b172-489d-87c9-fe5feb1f16d8\",\"type\":\"BasicTicker\"}},\"id\":\"bdf94eec-3364-4e7d-bfbc-458ec27cc3fe\",\"type\":\"Grid\"},{\"attributes\":{\"below\":[{\"id\":\"bc5e71cc-a7d6-46a9-8c12-43bf15d20b8e\",\"type\":\"LinearAxis\"}],\"left\":[{\"id\":\"57f0b67a-6cb3-4a8c-8424-a6f524485d34\",\"type\":\"LinearAxis\"}],\"plot_height\":500,\"plot_width\":500,\"renderers\":[{\"id\":\"bc5e71cc-a7d6-46a9-8c12-43bf15d20b8e\",\"type\":\"LinearAxis\"},{\"id\":\"bdf94eec-3364-4e7d-bfbc-458ec27cc3fe\",\"type\":\"Grid\"},{\"id\":\"57f0b67a-6cb3-4a8c-8424-a6f524485d34\",\"type\":\"LinearAxis\"},{\"id\":\"ffa4cd7a-8efd-451f-9f3a-a8bae1f1eb4a\",\"type\":\"Grid\"},{\"id\":\"bb958ced-c122-4a9c-964a-b29210b53e27\",\"type\":\"BoxAnnotation\"},{\"id\":\"e2da5b67-5514-42b6-ad76-1ffc64a15dec\",\"type\":\"GlyphRenderer\"}],\"title\":{\"id\":\"d783f800-cbcf-4660-adfa-df3e842cb57f\",\"type\":\"Title\"},\"tool_events\":{\"id\":\"c39ed55c-4a68-4cfe-8ec7-77b54285347c\",\"type\":\"ToolEvents\"},\"toolbar\":{\"id\":\"2206d4ae-dbcc-4455-b383-25df2a78cf3d\",\"type\":\"Toolbar\"},\"x_range\":{\"id\":\"34868034-bf13-4910-bcd3-bd7c5d667955\",\"type\":\"Range1d\"},\"y_range\":{\"id\":\"34868034-bf13-4910-bcd3-bd7c5d667955\",\"type\":\"Range1d\"}},\"id\":\"07be1c96-dfcc-410b-b535-ca24a32806df\",\"subtype\":\"Figure\",\"type\":\"Plot\"}],\"root_ids\":[\"07be1c96-dfcc-410b-b535-ca24a32806df\"]},\"title\":\"Bokeh Application\",\"version\":\"0.12.5\"}};\n",
       "            var render_items = [{\"docid\":\"c2ab97c7-d7be-4acb-b92d-5fc5d56a6783\",\"elementid\":\"8097178a-afd3-466b-95f6-93d33ac902f8\",\"modelid\":\"07be1c96-dfcc-410b-b535-ca24a32806df\"}];\n",
       "            \n",
       "            Bokeh.embed.embed_items(docs_json, render_items);\n",
       "          };\n",
       "          if (document.readyState != \"loading\") fn();\n",
       "          else document.addEventListener(\"DOMContentLoaded\", fn);\n",
       "        })();\n",
       "      },\n",
       "      function(Bokeh) {\n",
       "      }\n",
       "    ];\n",
       "  \n",
       "    function run_inline_js() {\n",
       "      \n",
       "      if ((window.Bokeh !== undefined) || (force === true)) {\n",
       "        for (var i = 0; i < inline_js.length; i++) {\n",
       "          inline_js[i](window.Bokeh);\n",
       "        }if (force === true) {\n",
       "          display_loaded();\n",
       "        }} else if (Date.now() < window._bokeh_timeout) {\n",
       "        setTimeout(run_inline_js, 100);\n",
       "      } else if (!window._bokeh_failed_load) {\n",
       "        console.log(\"Bokeh: BokehJS failed to load within specified timeout.\");\n",
       "        window._bokeh_failed_load = true;\n",
       "      } else if (force !== true) {\n",
       "        var cell = $(document.getElementById(\"8097178a-afd3-466b-95f6-93d33ac902f8\")).parents('.cell').data().cell;\n",
       "        cell.output_area.append_execute_result(NB_LOAD_WARNING)\n",
       "      }\n",
       "  \n",
       "    }\n",
       "  \n",
       "    if (window._bokeh_is_loading === 0) {\n",
       "      console.log(\"Bokeh: BokehJS loaded, going straight to plotting\");\n",
       "      run_inline_js();\n",
       "    } else {\n",
       "      load_libs(js_urls, function() {\n",
       "        console.log(\"Bokeh: BokehJS plotting callback run at\", now());\n",
       "        run_inline_js();\n",
       "      });\n",
       "    }\n",
       "  }(this));\n",
       "</script>"
      ]
     },
     "metadata": {},
     "output_type": "display_data"
    }
   ],
   "source": [
    "import numpy as np\n",
    "from bokeh.models import Range1d\n",
    "from bokeh.plotting import figure, show, output_file\n",
    "\n",
    "# Sample Data\n",
    "img = np.array([[(x/10.*255,x/10.*255,100,255) for x in range(10)] for y in range(10)])\n",
    "\n",
    "# Convert to RGBA array that can be plotted\n",
    "d = np.empty((10, 10), dtype=np.uint32)\n",
    "view = d.view(dtype=np.uint8).reshape((10, 10, 4))\n",
    "view[:,:,:] = img\n",
    "\n",
    "# Set output file\n",
    "output_file(\"image.html\", title=\"image.py example\")\n",
    "\n",
    "# Setup the figure\n",
    "rng = Range1d(0,10,bounds='auto')\n",
    "p = figure(x_range=rng, y_range=rng, plot_width=500, plot_height=500,active_scroll='wheel_zoom')\n",
    "\n",
    "# Slice the images\n",
    "imgs = [d[:,n:n+1] for n in range(10)]\n",
    "dhs = [10 for n in range(10)]\n",
    "ys = [0 for n in range(10)]\n",
    "dws = [0.5 if n%2 == 0 else 1.5 for n in range(10)]\n",
    "xs = [sum(dws[:n]) for n in range(10)]\n",
    "\n",
    "# Plot the image\n",
    "p.image_rgba(image=imgs, x=xs, y=ys, dw=dws, dh=dhs)\n",
    "show(p)"
   ]
  },
  {
   "cell_type": "code",
   "execution_count": 19,
   "metadata": {
    "collapsed": false
   },
   "outputs": [],
   "source": [
    "#img = np.array((len(X),len(Y)), dtype=np.unit32)\n",
    "img =np.array((X,Y), dtype=np.uint32)\n",
    "\n",
    "p = figure(width=900, height=500, x_axis_type=None, y_axis_type=None, x_range=[-180,180], y_range=[-90,90])\n",
    "\n",
    "p.image_rgba(\n",
    "    image=[img],\n",
    "    x=[-180], y=[-90],\n",
    "    dw=[360], dh=[180], name='image'\n",
    ")\n",
    "show(p)"
   ]
  },
  {
   "cell_type": "code",
   "execution_count": 12,
   "metadata": {
    "collapsed": false
   },
   "outputs": [],
   "source": [
    "\n",
    "# Initialize the colormap with a bokeh palette and the low and high values for the scale.\n",
    "#from bokeh.palettes import RdBu11\n",
    "#colormap = RGBAColorMapper(-6, 6, RdBu11)\n",
    "\n",
    "p =  figure(width=900, height=500, x_axis_type=None, y_axis_type=None, x_range=[-180,180], y_range=[-90,90])\n",
    "\n",
    "p.image_rgba(\n",
    "    image=[M_DEM],\n",
    "    x=[-180], y=[-90],\n",
    "    dw=[360], dh=[180], name='image'\n",
    ")\n",
    "\n",
    "show(p)"
   ]
  },
  {
   "cell_type": "code",
   "execution_count": null,
   "metadata": {
    "collapsed": false
   },
   "outputs": [],
   "source": []
  },
  {
   "cell_type": "code",
   "execution_count": 62,
   "metadata": {
    "collapsed": false
   },
   "outputs": [],
   "source": [
    "dem = M_DEM[::-1]"
   ]
  },
  {
   "cell_type": "code",
   "execution_count": 109,
   "metadata": {
    "collapsed": false
   },
   "outputs": [],
   "source": [
    "from bokeh.palettes import *\n",
    "\n",
    "\n",
    "dw = max(data['x'])- min(data['x'])\n",
    "dh = max(data['y'])- min(data['y'])\n",
    "\n",
    "xrmax = max(data['x'])\n",
    "xrmin = min(data['x'])\n",
    "yrmax = max(data['y'])\n",
    "yrmin = min(data['y'])\n",
    "\n",
    "p = figure(plot_height=900, plot_width=900, x_axis_type=None, y_axis_type=None, x_range=[xrmin,xrmax], y_range=[yrmin,yrmax])\n",
    "\n",
    "\n",
    "p.image(image=[dem], x=[min(data['x'])], y=[min(data['y'])],dw=[dw], dh=[dh], palette=pal, name='image')\n",
    "\n",
    "#p.image(image=[dem], x=[min(data['x'])], y=[min(data['y'])],dw=[dw], dh=[dh], palette=g, name='image', alpha=0.5)\n",
    "\n",
    "        #[max(data['x'])], y=[min(data['y'])], dw=[dw], dh=[dh], palette=\"Spectral11\")\n",
    "show(p)"
   ]
  },
  {
   "cell_type": "code",
   "execution_count": 108,
   "metadata": {
    "collapsed": false
   },
   "outputs": [],
   "source": [
    "#Create Color palette\n",
    "pal = viridis(256)\n",
    "pal[0] = '#000000'\n",
    "g = gray(256)\n"
   ]
  },
  {
   "cell_type": "code",
   "execution_count": 60,
   "metadata": {
    "collapsed": false
   },
   "outputs": [
    {
     "name": "stdout",
     "output_type": "stream",
     "text": [
      "3377078.852\n",
      "3372194.102\n",
      "328128.8534\n",
      "316316.5722\n"
     ]
    },
    {
     "data": {
      "text/plain": [
       "11812.281200000027"
      ]
     },
     "execution_count": 60,
     "metadata": {},
     "output_type": "execute_result"
    }
   ],
   "source": [
    "yrmax = max(data['y'])\n",
    "print(yrmax)\n",
    "yrmin = min(data['y'])\n",
    "print(yrmin)\n",
    "\n",
    "xrmax = max(data['x'])\n",
    "print(xrmax)\n",
    "xrmin = min(data['x'])\n",
    "print(xrmin)\n",
    "dw"
   ]
  },
  {
   "cell_type": "code",
   "execution_count": 36,
   "metadata": {
    "collapsed": false
   },
   "outputs": [],
   "source": []
  },
  {
   "cell_type": "code",
   "execution_count": 75,
   "metadata": {
    "collapsed": false
   },
   "outputs": [
    {
     "name": "stdout",
     "output_type": "stream",
     "text": [
      "302106.305415\n",
      "3410028.75865\n"
     ]
    },
    {
     "data": {
      "text/plain": [
       "290471.65247274149"
      ]
     },
     "execution_count": 75,
     "metadata": {},
     "output_type": "execute_result"
    }
   ],
   "source": [
    "#Create arrays of the x and y coordinates of each pixel (the axes)\n",
    "xcoordinates = [x*dx + xllcenter for x in range(nx)]\n",
    "ycoordinates = [y*dy + yllcenter for y in range(ny)]\n",
    "\n",
    "#Create 2 2d grids describing x and y coordinates\n",
    "X,Y = np.meshgrid(xcoordinates, ycoordinates) \n",
    "xcoordinates\n",
    "print(X[0][1])\n",
    "print(Y[0][1])\n",
    "\n",
    "im[0][2]"
   ]
  },
  {
   "cell_type": "code",
   "execution_count": 21,
   "metadata": {
    "collapsed": false
   },
   "outputs": [],
   "source": [
    "N = 500\n",
    "x = np.linspace(0, 10, N)\n",
    "y = np.linspace(0, 10, N)\n",
    "xx, yy = np.meshgrid(x, y)\n",
    "d = np.sin(xx)*np.cos(yy)\n",
    "\n",
    "p = figure(x_range=(0, 10), y_range=(0, 10))\n",
    "\n",
    "# must give a vector of image data for image parameter\n",
    "p.image(image=[M_DEM], x=0, y=0, dw=10, dh=10, palette=\"Spectral11\")\n",
    "\n",
    "output_file(\"image.html\", title=\"image.py example\")\n",
    "\n",
    "show(p)  # open a browser"
   ]
  },
  {
   "cell_type": "code",
   "execution_count": null,
   "metadata": {
    "collapsed": false
   },
   "outputs": [],
   "source": []
  },
  {
   "cell_type": "code",
   "execution_count": null,
   "metadata": {
    "collapsed": true
   },
   "outputs": [],
   "source": []
  }
 ],
 "metadata": {
  "anaconda-cloud": {},
  "kernelspec": {
   "display_name": "Python 2",
   "language": "python",
   "name": "python2"
  },
  "language_info": {
   "codemirror_mode": {
    "name": "ipython",
    "version": 2
   },
   "file_extension": ".py",
   "mimetype": "text/x-python",
   "name": "python",
   "nbconvert_exporter": "python",
   "pygments_lexer": "ipython2",
   "version": "2.7.12"
  }
 },
 "nbformat": 4,
 "nbformat_minor": 1
}

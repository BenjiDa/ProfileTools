{
 "cells": [
  {
   "cell_type": "code",
   "execution_count": 5,
   "metadata": {
    "collapsed": false
   },
   "outputs": [
    {
     "name": "stderr",
     "output_type": "stream",
     "text": [
      "/Users/bmelosh/anaconda2/envs/geospatial/lib/python2.7/site-packages/matplotlib/font_manager.py:273: UserWarning: Matplotlib is building the font cache using fc-list. This may take a moment.\n",
      "  warnings.warn('Matplotlib is building the font cache using fc-list. This may take a moment.')\n"
     ]
    }
   ],
   "source": [
    "import numpy as np\n",
    "import pandas as pd\n",
    "from osgeo import gdal\n",
    "from gdalconst import *\n",
    "#import osr\n",
    "import matplotlib.pyplot as plt\n",
    "%matplotlib qt\n",
    "\n",
    "#Import bokeh \n",
    "from bokeh.plotting import *\n",
    "from bokeh.models import ColumnDataSource, Label\n",
    "from bokeh.layouts import layout\n",
    "\n",
    "#package in this working directory\n",
    "from utils.colormap import RGBAColorMapper\n",
    "import netCDF4\n",
    "from bokeh.palettes import RdBu11\n",
    "#import color palettes for plotting raster\n",
    "from bokeh.palettes import *\n",
    "\n",
    "\n"
   ]
  },
  {
   "cell_type": "code",
   "execution_count": 10,
   "metadata": {
    "collapsed": false
   },
   "outputs": [],
   "source": [
    "#Read a raster\n",
    "Test_data = \"/Users/bmelosh/VagrantBoxes/LSDTopoTools/Topographic_projects/Test_data/\"\n",
    "Test = gdal.Open(Test_data + \"/Mandakini.bil\")#Get raster data\n",
    "M_DEM = Test.ReadAsArray()\n",
    "\n",
    "#Read stream data\n",
    "name = \"Mandakini_fullProfileMC_forced_0.45_3_1258909000_10_80_281_for_Arc.csv\" #Set file name\n",
    "path = \"/Users/bmelosh/VagrantBoxes/LSDTopoTools/Topographic_projects/Test_data/\" #Set path to data\n",
    "#for csv files\n",
    "data = np.genfromtxt((path+name), delimiter=',', skip_header=1, names=['id', 'x', 'y', 'chan_number', 'reciever_chan','node_on_reciever_chan', 'node', 'row','column', 'flow_distance', 'chi', 'elevation', 'drainage_area', 'n_data_points', 'm_mean','m_st_dev', 'm_std_err', 'b_mean', 'b_st_dev', 'b_std_err', 'DW_mean', 'DW_st_dev', 'DW_std_err', 'fitted_elev_mean', 'fitted_elev_stdev', 'fitted_elev_std_err'])\n",
    "#for tree files\n",
    "#data = np.genfromtxt((path+name), delimiter=' ', skip_header=1, names=['chan_number', 'reciever_chan','node_on_reciever_chan', 'node', 'row','column', 'flow_distance', 'chi', 'elevation', 'drainage_area', 'n_data_points', 'm_mean','m_st_dev', 'm_std_err', 'b_mean', 'b_st_dev', 'b_std_err', 'DW_mean', 'DW_st_dev', 'DW_std_err', 'fitted_elev_mean', 'fitted_elev_stdev', 'fitted_elev_std_err'])\n"
   ]
  },
  {
   "cell_type": "code",
   "execution_count": null,
   "metadata": {
    "collapsed": false
   },
   "outputs": [],
   "source": []
  },
  {
   "cell_type": "code",
   "execution_count": 3,
   "metadata": {
    "collapsed": false
   },
   "outputs": [],
   "source": [
    "\n",
    "\n",
    "\n",
    "def plot_coord(Test):\n",
    "\n",
    "    (upper_left_x, x_size, x_rotation, upper_left_y, y_rotation, y_size) = Test.GetGeoTransform()\n",
    "    dx = x_size\n",
    "    dy = y_size\n",
    "    nx, ny = Test.RasterXSize, Test.RasterYSize  # Size of the original raster\n",
    "\n",
    "    xllcenter = upper_left_x + dx/2  # x coordinate center of lower left pxl\n",
    "    yllcenter = upper_left_y - dx/2 # y coordinate center of lower left pxl   - (ny-1)*dx \n",
    "\n",
    "    #Create arrays of the x and y coordinates of each pixel (the axes)\n",
    "    xcoordinates = [x*dx + xllcenter for x in range(nx)]\n",
    "    ycoordinates = [y*dy + yllcenter for y in range(ny)]\n",
    "\n",
    "    #Create 2 2d grids describing x and y coordinates\n",
    "    X,Y = np.meshgrid(xcoordinates, ycoordinates) \n",
    "\n",
    "\n",
    "    fig = plt.contourf(X, Y, M_DEM, levels=np.linspace(np.amin(M_DEM[M_DEM > 0]),np.amax(M_DEM), 50))\n",
    "\n",
    "    return X, Y\n"
   ]
  },
  {
   "cell_type": "code",
   "execution_count": 63,
   "metadata": {
    "collapsed": false
   },
   "outputs": [],
   "source": [
    "(upper_left_x, x_size, x_rotation, upper_left_y, y_rotation, y_size) = Test.GetGeoTransform()\n",
    "dx = x_size\n",
    "dy = y_size\n",
    "nx, ny = Test.RasterXSize, Test.RasterYSize  # Size of the original raster\n",
    "\n",
    "xllcenter = upper_left_x + dx/2  # x coordinate center of lower left pxl\n",
    "yllcenter = upper_left_y - dx/2 # y coordinate center of lower left pxl   - (ny-1)*dx \n",
    "\n",
    "#Create arrays of the x and y coordinates of each pixel (the axes)\n",
    "xcoordinates = [x*dx + xllcenter for x in range(nx)]\n",
    "ycoordinates = [y*dy + yllcenter for y in range(ny)]\n",
    "\n",
    "#Create 2 2d grids describing x and y coordinates\n",
    "X,Y = np.meshgrid(xcoordinates, ycoordinates) \n",
    "\n",
    "\n",
    "fig = plt.contourf(X, Y, M_DEM, levels=np.linspace(np.amin(M_DEM[M_DEM > 0]),np.amax(M_DEM), 50))\n",
    "    "
   ]
  },
  {
   "cell_type": "code",
   "execution_count": 10,
   "metadata": {
    "collapsed": false
   },
   "outputs": [],
   "source": [
    "[X, Y] = plot_coord(Test)"
   ]
  },
  {
   "cell_type": "code",
   "execution_count": 180,
   "metadata": {
    "collapsed": false
   },
   "outputs": [],
   "source": [
    "cm = plt.cm.gist_earth\n",
    "\n",
    "\n",
    "fig, ax = plt.subplots(3, figsize=(10,10), sharex=False) #define 2 subfigures\n",
    "\n",
    "ax[0].contourf(X, Y, M_DEM, levels=np.linspace(np.amin(M_DEM[M_DEM > 0]),np.amax(M_DEM), 50))\n",
    "ax[0].plot(data['x'], data['y'], 'ro',  markersize=2)\n",
    "#ax[0].imshow(fA, interpolation='nearest', vmin=0, cmap=plt.cm.gray) \n",
    "ax[0].set_aspect('equal')\n",
    "ax[0].set_title('Terrain map with stream channel')\n",
    "ax[0].set_ylabel('Northing')\n",
    "ax[0].set_xlabel('Easting')\n",
    "\n",
    "\n",
    "ax[1].scatter(data['flow_distance'], data['elevation'], c=data['elevation'], cmap=cm)\n",
    "ax[1].set_title('Stream Map')\n",
    "ax[1].set_ylabel('Elevation (m)')\n",
    "ax[1].set_xlabel('Distance (m)')\n",
    "\n",
    "\n",
    "ax[2].scatter(data['chi'], data['elevation'], c=data['elevation'], cmap=plt.get_cmap(\"jet\"))\n",
    "ax[2].text(3, 2500, 'm/n = 0.45')\n",
    "ax[2].set_ylabel('Elevation (m)')\n",
    "ax[2].set_xlabel('Chi (X)')\n",
    "\n",
    "\n",
    "plt.show()"
   ]
  },
  {
   "cell_type": "code",
   "execution_count": 18,
   "metadata": {
    "collapsed": false
   },
   "outputs": [],
   "source": [
    "img = (X, Y)\n"
   ]
  },
  {
   "cell_type": "code",
   "execution_count": 5,
   "metadata": {
    "collapsed": false
   },
   "outputs": [],
   "source": [
    "\n",
    "\n",
    "\n"
   ]
  },
  {
   "cell_type": "code",
   "execution_count": 181,
   "metadata": {
    "collapsed": false
   },
   "outputs": [],
   "source": [
    "\n",
    "#My bokeh figure\n",
    "mn = \" (m/n = 0.45)\"\n",
    "\n",
    "# output to static HTML file\n",
    "output_file(\"linked_brushing.html\")\n",
    "\n",
    "# NEW: create a column data source for the plots to share\n",
    "stream_source = ColumnDataSource(data=dict(x0=data['flow_distance'], x1=data['chi'], y=data['elevation']))\n",
    "\n",
    "TOOLS = \"pan,wheel_zoom,box_zoom,reset,save,box_select,lasso_select\"\n",
    "\n",
    "# create a new plot and add a renderer\n",
    "left = figure(tools=TOOLS, width=350, height=350, title='Stream Profile')\n",
    "left.circle('x0', 'y', source=stream_source)\n",
    "left.xaxis.axis_label = 'Flow Distance (m)'\n",
    "left.yaxis.axis_label = 'Elevation (m)'\n",
    "\n",
    "# create another new plot and add a renderer\n",
    "right = figure(tools=TOOLS, width=350, height=350, title='Chi Profile'+ mn)\n",
    "right.circle('x1', 'y', source=stream_source)#, legend = \"m/n = 0.45\")\n",
    "right.xaxis.axis_label = 'Chi (X)'\n",
    "right.yaxis.axis_label = 'Elevation (m)'\n",
    "\n",
    "\n",
    "#Set ranges for DEM image\n",
    "dw = max(data['x'])- min(data['x'])\n",
    "dh = max(data['y'])- min(data['y'])\n",
    "xrmax = max(data['x'])\n",
    "xrmin = min(data['x'])\n",
    "yrmax = max(data['y'])\n",
    "yrmin = min(data['y'])\n",
    "\n",
    "dem = M_DEM[::-1] #set north-up on DEM, fix a small bug?\n",
    "\n",
    "#Create Color palette\n",
    "pal = viridis(256)\n",
    "pal[0] = '#000000'\n",
    "\n",
    "topo = figure(plot_height=700, plot_width=700, x_axis_type=None, y_axis_type=None, x_range=[xrmin,xrmax], y_range=[yrmin,yrmax])\n",
    "\n",
    "topo.image(image=[dem], x=[min(data['x'])], y=[min(data['y'])],dw=[dw], dh=[dh], palette=pal, name='image')\n",
    "topo.circle(data['x'], data['y'], color='red', size=3)\n",
    "\n",
    "\n",
    "# put the subplots in a gridplot\n",
    "p = layout([[left, right], [topo]])\n",
    "\n",
    "\n",
    "\n",
    "show(p)\n"
   ]
  },
  {
   "cell_type": "code",
   "execution_count": 171,
   "metadata": {
    "collapsed": false
   },
   "outputs": [],
   "source": [
    "#Try to polygonize shapefile\n",
    "\n",
    "# import rasterio\n",
    "# from rasterio.features import shapes\n",
    "# from osgeo import gdal, ogr, osr\n",
    "# import sys\n",
    "\n",
    "\n",
    "# Test_data = (\"/Users/bmelosh/VagrantBoxes/LSDTopoTools/Topographic_projects/Test_data/Mandakini.bil\")\n",
    "# Test = gdal.Open(Test_data)\n",
    "# Test_band = Test.GetRasterBand(1)\n",
    "# out = \"export.shp\"\n",
    "\n",
    "\n",
    "\n"
   ]
  },
  {
   "cell_type": "code",
   "execution_count": 161,
   "metadata": {
    "collapsed": true
   },
   "outputs": [],
   "source": [
    "#Import dependencies and data for interactive map plot\n",
    "\n",
    "import pandas as pd\n",
    "import geopandas as gpd\n",
    "from bokeh.models import HoverTool\n",
    "from bokeh.palettes import RdYlBu11 as palette\n",
    "from bokeh.models import LogColorMapper\n",
    "import pysal as ps\n",
    "\n",
    "\n",
    "\n",
    "\n",
    "grid_fp = '/Users/bmelosh/projects/LSDTopoTools/MandakiniSHP.shp'\n",
    "grid = gpd.read_file(grid_fp)"
   ]
  },
  {
   "cell_type": "code",
   "execution_count": 162,
   "metadata": {
    "collapsed": false
   },
   "outputs": [],
   "source": [
    "\n",
    "\n",
    "#Dealing with data projection\n",
    "# CRS = grid.crs\n",
    "# print(CRS)\n",
    "#convert data to a specific projection\n",
    "#points['geometry'] = points['geometry'].to_crs(crs=CRS)\n",
    "\n",
    "\n",
    "def getPolyCoords(row, geom, coord_type):\n",
    "    \"\"\"Returns the coordinates ('x' or 'y') of edges of a Polygon exterior\"\"\"\n",
    "\n",
    "    # Parse the exterior of the coordinate\n",
    "    exterior = row[geom].exterior\n",
    "\n",
    "    if coord_type == 'x':\n",
    "        # Get the x coordinates of the exterior\n",
    "        return list( exterior.coords.xy[0] )\n",
    "    elif coord_type == 'y':\n",
    "        # Get the y coordinates of the exterior\n",
    "        return list( exterior.coords.xy[1] )\n",
    "    \n",
    "grid['x'] = grid.apply(getPolyCoords, geom='geometry', coord_type='x', axis=1)\n",
    "grid['y'] = grid.apply(getPolyCoords, geom='geometry', coord_type='y', axis=1)\n",
    "\n",
    "\n",
    "\n",
    "## Define classificiations for plotting\n",
    "mini = min(grid['DN'])\n",
    "maxi = max(grid['DN'])\n",
    "breaks = [x for x in range(mini, maxi, 50)]\n",
    "\n",
    "# Initialize the classifier and apply it\n",
    "classifier = ps.User_Defined.make(bins=breaks)\n",
    "elev_classif = grid[['DN']].apply(classifier)\n",
    "\n",
    "# Rename the classified column\n",
    "elev_classif.columns = ['DN_Class']\n",
    "\n",
    "# Join it back to the grid layer\n",
    "grid = grid.join(elev_classif)\n",
    "\n",
    "\n",
    "# Make a copy, drop the geometry column and create ColumnDataSource\n",
    "g_df = grid.drop('geometry', axis=1).copy()\n",
    "gsource = ColumnDataSource(g_df)\n",
    "\n",
    "# Create the color mapper\n",
    "color_mapper = LogColorMapper(palette=palette)\n",
    "\n",
    "\n",
    "# Initialize our figure\n",
    "p = figure(title=\"Elevations\")\n",
    "\n",
    "#setting interactive plot\n",
    "my_hover = HoverTool()\n",
    "my_hover.tooltips = [('Elevation (m)', '@DN')]\n",
    "p.add_tools(my_hover)\n",
    "\n",
    "# Plot grid\n",
    "p.patches('x', 'y', source=gsource,\n",
    "         fill_color={'field': 'DN_Class', 'transform': color_mapper},\n",
    "         fill_alpha=1.0, line_color=\"black\", line_width=0.05)\n",
    "\n",
    "\n",
    "\n",
    "show(p)\n"
   ]
  },
  {
   "cell_type": "code",
   "execution_count": 98,
   "metadata": {
    "collapsed": false
   },
   "outputs": [
    {
     "name": "stdout",
     "output_type": "stream",
     "text": [
      "5\n"
     ]
    },
    {
     "data": {
      "text/plain": [
       "channel_number\n",
       "0    1635.430145\n",
       "1    1515.539411\n",
       "2    1248.108796\n",
       "3    1180.970647\n",
       "4    1340.490866\n",
       "Name: elevation, dtype: float64"
      ]
     },
     "execution_count": 98,
     "metadata": {},
     "output_type": "execute_result"
    }
   ],
   "source": [
    "import pandas as pd\n",
    "\n",
    "data = pd.read_csv((path+name))\n",
    "\n",
    "df = pd.DataFrame(data)\n",
    "\n",
    "unique_channels = df.channel_number.unique() #display different channels\n",
    "print(len(unique_channels))\n",
    "\n",
    "a = df.loc[df['channel_number'] == 0]\n",
    "b = df.loc[df['channel_number'] == 1]\n",
    "c = df.loc[df['channel_number'] == 2]\n",
    "d = df.loc[df['channel_number'] == 3]\n",
    "e = df.loc[df['channel_number'] == 4]\n",
    "\n",
    "grouped = df.groupby('channel_number')\n",
    "\n",
    "#for loop for dividing up the channel data\n",
    "# b = []\n",
    "# for i in range(0, len(unique_channels)): \n",
    "#     a = df.loc[df['channel_number'] == i]\n",
    "#     a.\n",
    "grouped['elevation'].mean()\n",
    "\n",
    "\n",
    "# for i, group in grouped:\n",
    "#     #plt.figure()\n",
    "#     group.plot(x='x', y='y', title=str(i))\n"
   ]
  },
  {
   "cell_type": "code",
   "execution_count": 105,
   "metadata": {
    "collapsed": false
   },
   "outputs": [
    {
     "data": {
      "text/html": [
       "\n",
       "\n",
       "    <div class=\"bk-root\">\n",
       "        <div class=\"bk-plotdiv\" id=\"ed3a74d7-91be-4c40-a721-31c2bc653580\"></div>\n",
       "    </div>\n",
       "<script type=\"text/javascript\">\n",
       "  \n",
       "  (function(global) {\n",
       "    function now() {\n",
       "      return new Date();\n",
       "    }\n",
       "  \n",
       "    var force = false;\n",
       "  \n",
       "    if (typeof (window._bokeh_onload_callbacks) === \"undefined\" || force === true) {\n",
       "      window._bokeh_onload_callbacks = [];\n",
       "      window._bokeh_is_loading = undefined;\n",
       "    }\n",
       "  \n",
       "  \n",
       "    \n",
       "    if (typeof (window._bokeh_timeout) === \"undefined\" || force === true) {\n",
       "      window._bokeh_timeout = Date.now() + 0;\n",
       "      window._bokeh_failed_load = false;\n",
       "    }\n",
       "  \n",
       "    var NB_LOAD_WARNING = {'data': {'text/html':\n",
       "       \"<div style='background-color: #fdd'>\\n\"+\n",
       "       \"<p>\\n\"+\n",
       "       \"BokehJS does not appear to have successfully loaded. If loading BokehJS from CDN, this \\n\"+\n",
       "       \"may be due to a slow or bad network connection. Possible fixes:\\n\"+\n",
       "       \"</p>\\n\"+\n",
       "       \"<ul>\\n\"+\n",
       "       \"<li>re-rerun `output_notebook()` to attempt to load from CDN again, or</li>\\n\"+\n",
       "       \"<li>use INLINE resources instead, as so:</li>\\n\"+\n",
       "       \"</ul>\\n\"+\n",
       "       \"<code>\\n\"+\n",
       "       \"from bokeh.resources import INLINE\\n\"+\n",
       "       \"output_notebook(resources=INLINE)\\n\"+\n",
       "       \"</code>\\n\"+\n",
       "       \"</div>\"}};\n",
       "  \n",
       "    function display_loaded() {\n",
       "      if (window.Bokeh !== undefined) {\n",
       "        var el = document.getElementById(\"ed3a74d7-91be-4c40-a721-31c2bc653580\");\n",
       "        el.textContent = \"BokehJS \" + Bokeh.version + \" successfully loaded.\";\n",
       "      } else if (Date.now() < window._bokeh_timeout) {\n",
       "        setTimeout(display_loaded, 100)\n",
       "      }\n",
       "    }\n",
       "  \n",
       "    function run_callbacks() {\n",
       "      window._bokeh_onload_callbacks.forEach(function(callback) { callback() });\n",
       "      delete window._bokeh_onload_callbacks\n",
       "      console.info(\"Bokeh: all callbacks have finished\");\n",
       "    }\n",
       "  \n",
       "    function load_libs(js_urls, callback) {\n",
       "      window._bokeh_onload_callbacks.push(callback);\n",
       "      if (window._bokeh_is_loading > 0) {\n",
       "        console.log(\"Bokeh: BokehJS is being loaded, scheduling callback at\", now());\n",
       "        return null;\n",
       "      }\n",
       "      if (js_urls == null || js_urls.length === 0) {\n",
       "        run_callbacks();\n",
       "        return null;\n",
       "      }\n",
       "      console.log(\"Bokeh: BokehJS not loaded, scheduling load and callback at\", now());\n",
       "      window._bokeh_is_loading = js_urls.length;\n",
       "      for (var i = 0; i < js_urls.length; i++) {\n",
       "        var url = js_urls[i];\n",
       "        var s = document.createElement('script');\n",
       "        s.src = url;\n",
       "        s.async = false;\n",
       "        s.onreadystatechange = s.onload = function() {\n",
       "          window._bokeh_is_loading--;\n",
       "          if (window._bokeh_is_loading === 0) {\n",
       "            console.log(\"Bokeh: all BokehJS libraries loaded\");\n",
       "            run_callbacks()\n",
       "          }\n",
       "        };\n",
       "        s.onerror = function() {\n",
       "          console.warn(\"failed to load library \" + url);\n",
       "        };\n",
       "        console.log(\"Bokeh: injecting script tag for BokehJS library: \", url);\n",
       "        document.getElementsByTagName(\"head\")[0].appendChild(s);\n",
       "      }\n",
       "    };var element = document.getElementById(\"ed3a74d7-91be-4c40-a721-31c2bc653580\");\n",
       "    if (element == null) {\n",
       "      console.log(\"Bokeh: ERROR: autoload.js configured with elementid 'ed3a74d7-91be-4c40-a721-31c2bc653580' but no matching script tag was found. \")\n",
       "      return false;\n",
       "    }\n",
       "  \n",
       "    var js_urls = [];\n",
       "  \n",
       "    var inline_js = [\n",
       "      function(Bokeh) {\n",
       "        (function() {\n",
       "          var fn = function() {\n",
       "            var docs_json = {\"e4c72874-0f22-4614-b46b-7dee9bb1eca1\":{\"roots\":{\"references\":[{\"attributes\":{\"plot\":{\"id\":\"92d42bf0-8ef1-4865-a5d9-3744e524298f\",\"subtype\":\"Figure\",\"type\":\"Plot\"},\"ticker\":{\"id\":\"2292be74-7de4-423c-9ee9-72cb5d83a1d9\",\"type\":\"DatetimeTicker\"}},\"id\":\"1450d8f6-0297-414e-8559-8702ffd9c89c\",\"type\":\"Grid\"},{\"attributes\":{\"data_source\":{\"id\":\"2601122d-f140-4b1d-ac9f-b300459fbc9a\",\"type\":\"ColumnDataSource\"},\"glyph\":{\"id\":\"27e4b743-0679-44f0-ba20-72c7df8f0dbc\",\"type\":\"Circle\"},\"hover_glyph\":null,\"muted_glyph\":null,\"nonselection_glyph\":{\"id\":\"27e4b743-0679-44f0-ba20-72c7df8f0dbc\",\"type\":\"Circle\"},\"selection_glyph\":{\"id\":\"81b551a8-43a0-44e3-978f-b48c1bfa67be\",\"type\":\"Circle\"}},\"id\":\"a7316458-2d15-4ed3-99da-73512e8f48d9\",\"type\":\"GlyphRenderer\"},{\"attributes\":{\"line_alpha\":{\"value\":0.1},\"line_color\":{\"value\":\"#1f77b4\"},\"line_dash\":[4,4],\"x\":{\"field\":\"x\"},\"y\":{\"field\":\"y\"}},\"id\":\"4832997b-095e-4c2d-9193-771eec9ba463\",\"type\":\"Line\"},{\"attributes\":{},\"id\":\"216b3721-2234-4bb5-98cb-c28aae684b1e\",\"type\":\"ToolEvents\"},{\"attributes\":{\"line_color\":{\"value\":\"gray\"},\"line_dash\":[4,4],\"x\":{\"field\":\"x\"},\"y\":{\"field\":\"y\"}},\"id\":\"4eb8c8c6-899d-4c3d-95f6-3dd4dfa02729\",\"type\":\"Line\"},{\"attributes\":{\"callback\":null},\"id\":\"4795925f-96bd-4bbb-9317-7e6765ca8fe6\",\"type\":\"DataRange1d\"},{\"attributes\":{\"data_source\":{\"id\":\"fee339d7-6a53-47aa-956d-585918f5b183\",\"type\":\"ColumnDataSource\"},\"glyph\":{\"id\":\"824a5536-0864-48a6-8652-51a8bd82bca2\",\"type\":\"Line\"},\"hover_glyph\":null,\"muted_glyph\":null,\"nonselection_glyph\":{\"id\":\"4832997b-095e-4c2d-9193-771eec9ba463\",\"type\":\"Line\"},\"selection_glyph\":null},\"id\":\"0c228a22-de40-49c5-a079-8ce21bfb1af5\",\"type\":\"GlyphRenderer\"},{\"attributes\":{\"days\":[1,4,7,10,13,16,19,22,25,28]},\"id\":\"39efaa2e-0853-4905-94bc-dd3a5d7562eb\",\"type\":\"DaysTicker\"},{\"attributes\":{\"max_interval\":500.0,\"num_minor_ticks\":0},\"id\":\"0c50a7d0-f9cd-4dfe-89b0-287655e4105b\",\"type\":\"AdaptiveTicker\"},{\"attributes\":{\"fill_alpha\":{\"value\":0.5},\"fill_color\":{\"value\":\"firebrick\"},\"line_color\":{\"value\":null},\"size\":{\"units\":\"screen\",\"value\":20},\"x\":{\"field\":\"x\"},\"y\":{\"field\":\"y\"}},\"id\":\"81b551a8-43a0-44e3-978f-b48c1bfa67be\",\"type\":\"Circle\"},{\"attributes\":{\"callback\":null,\"column_names\":[\"y\",\"x\"],\"data\":{\"x\":{\"__ndarray__\":\"irDhaQMHFEGKsOEpoAUUQYqw4ek8BBRBirDhqdkCFEGKsOFpdgEUQYqw4SkTABRBirDh6a/+E0GKsOGpTP0TQYqw4Wnp+xNBirDhKYb6E0GKsOHpIvkTQYqw4am/9xNBirDhaVz2E0GKsOEp+fQTQYqw4emV8xNBirDhqTLyE0H7y+5Jz/ATQfvL7gls7xNB+8vuyQjuE0H7y+6JpewTQfvL7klC6xNB+8vuCd/pE0H7y+4J3+kTQfvL7sl76BNB+8vuiRjnE0H7y+5JteUTQfvL7glS5BNB+8vuye7iE0H7y+6Ji+ETQfvL7kko4BNB+8vuCcXeE0H7y+7JYd0TQfvL7on+2xNB+8vuSZvaE0GKsOHpN9kTQYqw4anU1xNBirDhaXHWE0GKsOEpDtUTQYqw4emq0xNBirDhqUfSE0GKsOFp5NATQYqw4SmBzxNBirDh6R3OE0GKsOGpuswTQYqw4WlXyxNBirDhKfTJE0GKsOEp9MkTQYqw4emQyBNBirDh6ZDIE0GKsOGpLccTQYqw4WnKxRNBirDhKWfEE0GKsOHpA8MTQYqw4amgwRNBirDhaT3AE0GKsOEp2r4TQYqw4el2vRNB+8vuiRO8E0H7y+5JsLoTQfvL7glNuRNB+8vuyem3E0H7y+6JhrYTQfvL7kkjtRNB+8vuCcCzE0H7y+7JXLITQfvL7on5sBNB+8vuSZavE0H7y+4JM64TQfvL7snPrBNB+8vuiWyrE0H7y+5JCaoTQfvL7gmmqBNB+8vuyUKnE0H7y+6J36UTQfvL7kl8pBNBirDh6RijE0GKsOGptaETQYqw4WlSoBNBirDhKe+eE0GKsOHpi50TQYqw4emLnRNBirDhqSicE0GKsOFpxZoTQYqw4SlimRNBirDh6f6XE0GKsOGpm5YTQYqw4Wk4lRNBirDhKdWTE0GKsOHpcZITQYqw4akOkRNBirDhqQ6RE0GKsOFpq48TQYqw4WmrjxNBirDhKUiOE0GKsOHp5IwTQYqw4amBixNBirDhaR6KE0GKsOEpu4gTQfvL7slXhxNB+8vuifSFE0H7y+5JkYQTQfvL7gkugxNB+8vuycqBE0H7y+6JZ4ATQfvL7kkEfxNB+8vuCaF9E0H7y+7JPXwTQfvL7onaehNB+8vuSXd5E0H7y+4JFHgTQfvL7smwdhNB+8vuiU11E0H7y+5J6nMTQfvL7gmHchNB+8vuySNxE0H7y+6JwG8TQYqw4SldbhNBirDh6flsE0GKsOGplmsTQYqw4WkzahNBirDhKdBoE0GKsOHpbGcTQYqw4akJZhNBirDhaaZkE0GKsOEpQ2MTQYqw4enfYRNBirDhqXxgE0GKsOFpGV8TQYqw4Sm2XRNBirDh6VJcE0GKsOGp71oTQYqw4WmMWRNBirDhKSlYE0GKsOHpxVYTQYqw4aliVRNBirDhaf9TE0H7y+4JnFITQfvL7sk4URNB+8vuidVPE0H7y+5Jck4TQQ==\",\"dtype\":\"float64\",\"shape\":[140]},\"y\":{\"__ndarray__\":\"BFYOLXjCSUEEVg4teMJJQQRWDi14wklBBFYOjaTCSUEEVg6NpMJJQQRWDo2kwklBBFYOjaTCSUEEVg6NpMJJQQRWDo2kwklBBFYOjaTCSUEEVg6NpMJJQQRWDi14wklBBFYOzUvCSUEEVg7NS8JJQQRWDk0fwklBBFYO7fLBSUEEVg7t8sFJQQRWDu3ywUlBBFYO7fLBSUEEVg6NxsFJQQRWDo3GwUlBBFYOLZrBSUEEVg6tbcFJQQRWDk1BwUlBBFYO7RTBSUEEVg7tFMFJQQRWDu0UwUlBBFYO7RTBSUEEVg7tFMFJQQRWDu0UwUlBBFYO7RTBSUEEVg5NQcFJQQRWDu0UwUlBBFYO7RTBSUEEVg7tFMFJQQRWDu0UwUlBBFYO7RTBSUEEVg7tFMFJQQRWDo3owElBBFYO7RTBSUEEVg7tFMFJQQRWDk1BwUlBBFYOrW3BSUEEVg4tmsFJQQRWDi2awUlBBFYOjcbBSUEEVg7t8sFJQQRWDk0fwklBBFYOzUvCSUEEVg7NS8JJQQRWDs1LwklBBFYOLXjCSUEEVg4teMJJQQRWDi14wklBBFYOLXjCSUEEVg4teMJJQQRWDo2kwklBBFYODdHCSUEEVg4N0cJJQQRWDm39wklBBFYOzSnDSUEEVg7NKcNJQQRWDs0pw0lBBFYOzSnDSUEEVg5t/cJJQQRWDm39wklBBFYObf3CSUEEVg7NKcNJQQRWDi1Ww0lBBFYOLVbDSUEEVg7NKcNJQQRWDm39wklBBFYODdHCSUEEVg4N0cJJQQRWDo2kwklBBFYOjaTCSUEEVg6NpMJJQQRWDi14wklBBFYOzUvCSUEEVg5NH8JJQQRWDu3ywUlBBFYO7fLBSUEEVg6NxsFJQQRWDi2awUlBBFYOrW3BSUEEVg5NQcFJQQRWDk1BwUlBBFYOTUHBSUEEVg7tFMFJQQRWDo3owElBBFYODbzASUEEVg6tj8BJQQRWDk1jwElBBFYO7TbASUEEVg5tCsBJQQRWDm0KwElBBFYObQrASUEEVg5tCsBJQQRWDm0KwElBBFYObQrASUEEVg5tCsBJQQRWDm0KwElBBFYODd6/SUEEVg4N3r9JQQRWDq2xv0lBBFYOrbG/SUEEVg6tsb9JQQRWDq2xv0lBBFYOTYW/SUEEVg7NWL9JQQRWDm0sv0lBBFYObSy/SUEEVg4NAL9JQQRWDg0Av0lBBFYODQC/SUEEVg5tLL9JQQRWDm0sv0lBBFYObSy/SUEEVg5tLL9JQQRWDm0sv0lBBFYOzVi/SUEEVg7NWL9JQQRWDk2Fv0lBBFYOTYW/SUEEVg5Nhb9JQQRWDs1Yv0lBBFYOzVi/SUEEVg7NWL9JQQRWDs1Yv0lBBFYOzVi/SUEEVg7NWL9JQQRWDm0sv0lBBFYObSy/SUEEVg5tLL9JQQRWDg0Av0lBBFYODQC/SUEEVg4NAL9JQQRWDg0Av0lBBFYObSy/SUEEVg5tLL9JQQ==\",\"dtype\":\"float64\",\"shape\":[140]}}},\"id\":\"2601122d-f140-4b1d-ac9f-b300459fbc9a\",\"type\":\"ColumnDataSource\"},{\"attributes\":{\"days\":[1,15]},\"id\":\"89c51d7d-5849-4f50-9fda-773e10a12de7\",\"type\":\"DaysTicker\"},{\"attributes\":{\"data_source\":{\"id\":\"bc981854-6664-4ca8-89af-7e5aa2e3fc12\",\"type\":\"ColumnDataSource\"},\"glyph\":{\"id\":\"4eb8c8c6-899d-4c3d-95f6-3dd4dfa02729\",\"type\":\"Line\"},\"hover_glyph\":null,\"muted_glyph\":null,\"nonselection_glyph\":{\"id\":\"fb04b7ff-674c-4c1a-b117-642c588439d2\",\"type\":\"Line\"},\"selection_glyph\":null},\"id\":\"1b9045f1-0d04-4afd-b715-f17ef80fbea4\",\"type\":\"GlyphRenderer\"},{\"attributes\":{\"months\":[0,1,2,3,4,5,6,7,8,9,10,11]},\"id\":\"b2298995-fb4e-4f37-9cf1-87c0b96aca2d\",\"type\":\"MonthsTicker\"},{\"attributes\":{\"callback\":null,\"column_names\":[\"y\",\"x\"],\"data\":{\"x\":{\"__ndarray__\":\"+8vuSSjgE0H7y+5JKOATQfvL7gnF3hNB+8vuCcXeE0H7y+7JYd0TQfvL7slh3RNB+8vuyWHdE0H7y+7JYd0TQfvL7slh3RNB+8vuyWHdE0H7y+6J/tsTQfvL7on+2xNB+8vuSZvaE0GKsOHpN9kTQYqw4anU1xNBirDhaXHWE0GKsOEpDtUTQYqw4emq0xNBirDhqUfSE0GKsOFp5NATQYqw4SmBzxNBirDh6R3OE0GKsOGpuswTQYqw4WlXyxNBirDhKfTJE0GKsOEp9MkTQYqw4emQyBNBirDh6ZDIE0GKsOGpLccTQYqw4WnKxRNBirDhKWfEE0GKsOHpA8MTQYqw4amgwRNBirDhaT3AE0GKsOEp2r4TQYqw4el2vRNB+8vuiRO8E0H7y+5JsLoTQfvL7glNuRNB+8vuyem3E0H7y+6JhrYTQfvL7kkjtRNB+8vuCcCzE0H7y+7JXLITQfvL7on5sBNB+8vuSZavE0H7y+4JM64TQfvL7snPrBNB+8vuiWyrE0H7y+5JCaoTQfvL7gmmqBNB+8vuyUKnE0H7y+6J36UTQfvL7kl8pBNBirDh6RijE0GKsOGptaETQYqw4WlSoBNBirDhKe+eE0GKsOHpi50TQYqw4emLnRNBirDhqSicE0GKsOFpxZoTQYqw4SlimRNBirDh6f6XE0GKsOGpm5YTQYqw4Wk4lRNBirDhKdWTE0GKsOHpcZITQYqw4akOkRNBirDhqQ6RE0GKsOFpq48TQYqw4WmrjxNBirDhKUiOE0GKsOHp5IwTQYqw4amBixNBirDhaR6KE0GKsOEpu4gTQfvL7slXhxNB+8vuifSFE0H7y+5JkYQTQfvL7gkugxNB+8vuycqBE0H7y+6JZ4ATQfvL7kkEfxNB+8vuCaF9E0H7y+7JPXwTQfvL7onaehNB+8vuSXd5E0H7y+4JFHgTQfvL7smwdhNB+8vuiU11E0H7y+5J6nMTQfvL7gmHchNB+8vuySNxE0H7y+6JwG8TQYqw4SldbhNBirDh6flsE0GKsOGplmsTQYqw4WkzahNBirDhKdBoE0GKsOHpbGcTQYqw4akJZhNBirDhaaZkE0GKsOEpQ2MTQYqw4enfYRNBirDhqXxgE0GKsOFpGV8TQYqw4Sm2XRNBirDh6VJcE0GKsOGp71oTQYqw4WmMWRNBirDhKSlYE0GKsOHpxVYTQYqw4aliVRNBirDhaf9TE0H7y+4JnFITQfvL7sk4URNB+8vuidVPE0H7y+5Jck4TQQ==\",\"dtype\":\"float64\",\"shape\":[119]},\"y\":{\"__ndarray__\":\"BFYOLae+SUEEVg6t075JQQRWDg0Av0lBBFYObSy/SUEEVg7NWL9JQQRWDk2Fv0lBBFYOrbG/SUEEVg4N3r9JQQRWDm0KwElBBFYO7TbASUEEVg5NY8BJQQRWDq2PwElBBFYODbzASUEEVg6N6MBJQQRWDu0UwUlBBFYO7RTBSUEEVg7tFMFJQQRWDo3owElBBFYO7RTBSUEEVg7tFMFJQQRWDk1BwUlBBFYOrW3BSUEEVg4tmsFJQQRWDi2awUlBBFYOjcbBSUEEVg7t8sFJQQRWDk0fwklBBFYOzUvCSUEEVg7NS8JJQQRWDs1LwklBBFYOLXjCSUEEVg4teMJJQQRWDi14wklBBFYOLXjCSUEEVg4teMJJQQRWDo2kwklBBFYODdHCSUEEVg4N0cJJQQRWDm39wklBBFYOzSnDSUEEVg7NKcNJQQRWDs0pw0lBBFYOzSnDSUEEVg5t/cJJQQRWDm39wklBBFYObf3CSUEEVg7NKcNJQQRWDi1Ww0lBBFYOLVbDSUEEVg7NKcNJQQRWDm39wklBBFYODdHCSUEEVg4N0cJJQQRWDo2kwklBBFYOjaTCSUEEVg6NpMJJQQRWDi14wklBBFYOzUvCSUEEVg5NH8JJQQRWDu3ywUlBBFYO7fLBSUEEVg6NxsFJQQRWDi2awUlBBFYOrW3BSUEEVg5NQcFJQQRWDk1BwUlBBFYOTUHBSUEEVg7tFMFJQQRWDo3owElBBFYODbzASUEEVg6tj8BJQQRWDk1jwElBBFYO7TbASUEEVg5tCsBJQQRWDm0KwElBBFYObQrASUEEVg5tCsBJQQRWDm0KwElBBFYObQrASUEEVg5tCsBJQQRWDm0KwElBBFYODd6/SUEEVg4N3r9JQQRWDq2xv0lBBFYOrbG/SUEEVg6tsb9JQQRWDq2xv0lBBFYOTYW/SUEEVg7NWL9JQQRWDm0sv0lBBFYObSy/SUEEVg4NAL9JQQRWDg0Av0lBBFYODQC/SUEEVg5tLL9JQQRWDm0sv0lBBFYObSy/SUEEVg5tLL9JQQRWDm0sv0lBBFYOzVi/SUEEVg7NWL9JQQRWDk2Fv0lBBFYOTYW/SUEEVg5Nhb9JQQRWDs1Yv0lBBFYOzVi/SUEEVg7NWL9JQQRWDs1Yv0lBBFYOzVi/SUEEVg7NWL9JQQRWDm0sv0lBBFYObSy/SUEEVg5tLL9JQQRWDg0Av0lBBFYODQC/SUEEVg4NAL9JQQRWDg0Av0lBBFYObSy/SUEEVg5tLL9JQQ==\",\"dtype\":\"float64\",\"shape\":[119]}}},\"id\":\"bc981854-6664-4ca8-89af-7e5aa2e3fc12\",\"type\":\"ColumnDataSource\"},{\"attributes\":{\"months\":[0,4,8]},\"id\":\"d17fa2a9-b34d-4137-b213-5917453dc233\",\"type\":\"MonthsTicker\"},{\"attributes\":{\"formatter\":{\"id\":\"d9affc55-7389-4395-ab79-2ad011294848\",\"type\":\"BasicTickFormatter\"},\"plot\":{\"id\":\"92d42bf0-8ef1-4865-a5d9-3744e524298f\",\"subtype\":\"Figure\",\"type\":\"Plot\"},\"ticker\":{\"id\":\"7a333abc-05a8-4bce-bf90-01d93d6ca0cb\",\"type\":\"BasicTicker\"}},\"id\":\"32768556-5fa8-4347-a381-2b7b68ea16db\",\"type\":\"LinearAxis\"},{\"attributes\":{\"callback\":{\"id\":\"0758e1a8-c058-4ed2-99e3-d06148a23b78\",\"type\":\"CustomJS\"},\"mode\":\"hline\",\"plot\":{\"id\":\"92d42bf0-8ef1-4865-a5d9-3744e524298f\",\"subtype\":\"Figure\",\"type\":\"Plot\"},\"renderers\":[{\"id\":\"a7316458-2d15-4ed3-99da-73512e8f48d9\",\"type\":\"GlyphRenderer\"}],\"tooltips\":null},\"id\":\"ded1cf75-7042-47cc-8ca8-7389ac9891a1\",\"type\":\"HoverTool\"},{\"attributes\":{},\"id\":\"7a333abc-05a8-4bce-bf90-01d93d6ca0cb\",\"type\":\"BasicTicker\"},{\"attributes\":{\"base\":24,\"mantissas\":[1,2,4,6,8,12],\"max_interval\":43200000.0,\"min_interval\":3600000.0,\"num_minor_ticks\":0},\"id\":\"57248d97-badc-407a-a5fc-d1674c29ea8b\",\"type\":\"AdaptiveTicker\"},{\"attributes\":{},\"id\":\"e234b670-c487-4e1a-a5da-1170a45ea6bd\",\"type\":\"DatetimeTickFormatter\"},{\"attributes\":{\"formatter\":{\"id\":\"e234b670-c487-4e1a-a5da-1170a45ea6bd\",\"type\":\"DatetimeTickFormatter\"},\"plot\":{\"id\":\"92d42bf0-8ef1-4865-a5d9-3744e524298f\",\"subtype\":\"Figure\",\"type\":\"Plot\"},\"ticker\":{\"id\":\"2292be74-7de4-423c-9ee9-72cb5d83a1d9\",\"type\":\"DatetimeTicker\"}},\"id\":\"72e4d25b-fc2e-4c16-9626-87c1fe632784\",\"type\":\"DatetimeAxis\"},{\"attributes\":{\"days\":[1,8,15,22]},\"id\":\"1bba09c0-17ac-4d88-9e4d-cd992662c629\",\"type\":\"DaysTicker\"},{\"attributes\":{\"days\":[1,2,3,4,5,6,7,8,9,10,11,12,13,14,15,16,17,18,19,20,21,22,23,24,25,26,27,28,29,30,31]},\"id\":\"cf648a3b-ecbb-4430-be21-27d6f1a18059\",\"type\":\"DaysTicker\"},{\"attributes\":{\"fill_alpha\":{\"value\":0.05},\"line_color\":{\"value\":null},\"size\":{\"units\":\"screen\",\"value\":20},\"x\":{\"field\":\"x\"},\"y\":{\"field\":\"y\"}},\"id\":\"27e4b743-0679-44f0-ba20-72c7df8f0dbc\",\"type\":\"Circle\"},{\"attributes\":{\"plot\":null,\"text\":\"Hover over points\"},\"id\":\"8ff1c2e0-4a32-42ca-b580-fd592821cdc9\",\"type\":\"Title\"},{\"attributes\":{},\"id\":\"39641542-ef05-4189-a9c1-d63e2350a335\",\"type\":\"YearsTicker\"},{\"attributes\":{\"line_color\":{\"value\":\"gray\"},\"line_dash\":[4,4],\"x\":{\"field\":\"x\"},\"y\":{\"field\":\"y\"}},\"id\":\"824a5536-0864-48a6-8652-51a8bd82bca2\",\"type\":\"Line\"},{\"attributes\":{\"months\":[0,2,4,6,8,10]},\"id\":\"bdefc86c-cf0c-4d9e-8c99-93ab991e52b0\",\"type\":\"MonthsTicker\"},{\"attributes\":{\"callback\":null},\"id\":\"f6ebb1aa-1b14-4b4e-92dc-24d54215516b\",\"type\":\"DataRange1d\"},{\"attributes\":{\"dimension\":1,\"plot\":{\"id\":\"92d42bf0-8ef1-4865-a5d9-3744e524298f\",\"subtype\":\"Figure\",\"type\":\"Plot\"},\"ticker\":{\"id\":\"7a333abc-05a8-4bce-bf90-01d93d6ca0cb\",\"type\":\"BasicTicker\"}},\"id\":\"601c911b-e80e-42cb-b3f1-6f64fc08dc1d\",\"type\":\"Grid\"},{\"attributes\":{\"active_drag\":\"auto\",\"active_scroll\":\"auto\",\"active_tap\":\"auto\",\"tools\":[{\"id\":\"ded1cf75-7042-47cc-8ca8-7389ac9891a1\",\"type\":\"HoverTool\"}]},\"id\":\"9a1e0a28-89db-44c8-a533-01d01c230f67\",\"type\":\"Toolbar\"},{\"attributes\":{},\"id\":\"d9affc55-7389-4395-ab79-2ad011294848\",\"type\":\"BasicTickFormatter\"},{\"attributes\":{\"line_alpha\":{\"value\":0.1},\"line_color\":{\"value\":\"#1f77b4\"},\"line_dash\":[4,4],\"x\":{\"field\":\"x\"},\"y\":{\"field\":\"y\"}},\"id\":\"fb04b7ff-674c-4c1a-b117-642c588439d2\",\"type\":\"Line\"},{\"attributes\":{\"base\":60,\"mantissas\":[1,2,5,10,15,20,30],\"max_interval\":1800000.0,\"min_interval\":1000.0,\"num_minor_ticks\":0},\"id\":\"1a435e73-862e-4f2f-97b0-f481d9792103\",\"type\":\"AdaptiveTicker\"},{\"attributes\":{\"callback\":null,\"column_names\":[\"y\",\"x\"],\"data\":{\"x\":{\"__ndarray__\":\"irDhaQMHFEGKsOEpoAUUQYqw4ek8BBRBirDhqdkCFEGKsOFpdgEUQYqw4SkTABRBirDh6a/+E0GKsOGpTP0TQYqw4Wnp+xNBirDhKYb6E0GKsOHpIvkTQYqw4am/9xNBirDhaVz2E0GKsOEp+fQTQYqw4emV8xNBirDhqTLyE0H7y+5Jz/ATQfvL7gls7xNB+8vuyQjuE0H7y+6JpewTQfvL7klC6xNB+8vuCd/pE0H7y+4J3+kTQfvL7sl76BNB+8vuiRjnE0H7y+5JteUTQfvL7glS5BNB+8vuye7iE0H7y+6Ji+ETQfvL7kko4BNB+8vuCcXeE0H7y+7JYd0TQfvL7on+2xNB+8vuSZvaE0GKsOHpN9kTQYqw4anU1xNBirDhaXHWE0GKsOEpDtUTQYqw4emq0xNBirDhqUfSE0GKsOFp5NATQYqw4SmBzxNBirDh6R3OE0GKsOGpuswTQYqw4WlXyxNBirDhKfTJE0GKsOEp9MkTQYqw4emQyBNBirDh6ZDIE0GKsOGpLccTQYqw4WnKxRNBirDhKWfEE0GKsOHpA8MTQYqw4amgwRNBirDhaT3AE0GKsOEp2r4TQYqw4el2vRNB+8vuiRO8E0H7y+5JsLoTQfvL7glNuRNB+8vuyem3E0H7y+6JhrYTQfvL7kkjtRNB+8vuCcCzE0H7y+7JXLITQfvL7on5sBNB+8vuSZavE0H7y+4JM64TQfvL7snPrBNB+8vuiWyrE0H7y+5JCaoTQfvL7gmmqBNB+8vuyUKnE0H7y+6J36UTQfvL7kl8pBNBirDh6RijE0GKsOGptaETQYqw4WlSoBNBirDhKe+eE0GKsOHpi50TQYqw4emLnRNBirDhqSicE0GKsOFpxZoTQYqw4SlimRNBirDh6f6XE0GKsOGpm5YTQYqw4Wk4lRNBirDhKdWTE0GKsOHpcZITQYqw4akOkRNBirDhqQ6RE0GKsOFpq48TQYqw4WmrjxNBirDhKUiOE0GKsOHp5IwTQYqw4amBixNBirDhaR6KE0GKsOEpu4gTQfvL7slXhxNB+8vuifSFE0H7y+5JkYQTQfvL7gkugxNB+8vuycqBE0H7y+6JZ4ATQfvL7kkEfxNB+8vuCaF9E0H7y+7JPXwTQfvL7onaehNB+8vuSXd5E0H7y+4JFHgTQfvL7smwdhNB+8vuiU11E0H7y+5J6nMTQfvL7gmHchNB+8vuySNxE0H7y+6JwG8TQYqw4SldbhNBirDh6flsE0GKsOGplmsTQYqw4WkzahNBirDhKdBoE0GKsOHpbGcTQYqw4akJZhNBirDhaaZkE0GKsOEpQ2MTQYqw4enfYRNBirDhqXxgE0GKsOFpGV8TQYqw4Sm2XRNBirDh6VJcE0GKsOGp71oTQYqw4WmMWRNBirDhKSlYE0GKsOHpxVYTQYqw4aliVRNBirDhaf9TE0H7y+4JnFITQfvL7sk4URNB+8vuidVPE0H7y+5Jck4TQQ==\",\"dtype\":\"float64\",\"shape\":[140]},\"y\":{\"__ndarray__\":\"BFYOLXjCSUEEVg4teMJJQQRWDi14wklBBFYOjaTCSUEEVg6NpMJJQQRWDo2kwklBBFYOjaTCSUEEVg6NpMJJQQRWDo2kwklBBFYOjaTCSUEEVg6NpMJJQQRWDi14wklBBFYOzUvCSUEEVg7NS8JJQQRWDk0fwklBBFYO7fLBSUEEVg7t8sFJQQRWDu3ywUlBBFYO7fLBSUEEVg6NxsFJQQRWDo3GwUlBBFYOLZrBSUEEVg6tbcFJQQRWDk1BwUlBBFYO7RTBSUEEVg7tFMFJQQRWDu0UwUlBBFYO7RTBSUEEVg7tFMFJQQRWDu0UwUlBBFYO7RTBSUEEVg5NQcFJQQRWDu0UwUlBBFYO7RTBSUEEVg7tFMFJQQRWDu0UwUlBBFYO7RTBSUEEVg7tFMFJQQRWDo3owElBBFYO7RTBSUEEVg7tFMFJQQRWDk1BwUlBBFYOrW3BSUEEVg4tmsFJQQRWDi2awUlBBFYOjcbBSUEEVg7t8sFJQQRWDk0fwklBBFYOzUvCSUEEVg7NS8JJQQRWDs1LwklBBFYOLXjCSUEEVg4teMJJQQRWDi14wklBBFYOLXjCSUEEVg4teMJJQQRWDo2kwklBBFYODdHCSUEEVg4N0cJJQQRWDm39wklBBFYOzSnDSUEEVg7NKcNJQQRWDs0pw0lBBFYOzSnDSUEEVg5t/cJJQQRWDm39wklBBFYObf3CSUEEVg7NKcNJQQRWDi1Ww0lBBFYOLVbDSUEEVg7NKcNJQQRWDm39wklBBFYODdHCSUEEVg4N0cJJQQRWDo2kwklBBFYOjaTCSUEEVg6NpMJJQQRWDi14wklBBFYOzUvCSUEEVg5NH8JJQQRWDu3ywUlBBFYO7fLBSUEEVg6NxsFJQQRWDi2awUlBBFYOrW3BSUEEVg5NQcFJQQRWDk1BwUlBBFYOTUHBSUEEVg7tFMFJQQRWDo3owElBBFYODbzASUEEVg6tj8BJQQRWDk1jwElBBFYO7TbASUEEVg5tCsBJQQRWDm0KwElBBFYObQrASUEEVg5tCsBJQQRWDm0KwElBBFYObQrASUEEVg5tCsBJQQRWDm0KwElBBFYODd6/SUEEVg4N3r9JQQRWDq2xv0lBBFYOrbG/SUEEVg6tsb9JQQRWDq2xv0lBBFYOTYW/SUEEVg7NWL9JQQRWDm0sv0lBBFYObSy/SUEEVg4NAL9JQQRWDg0Av0lBBFYODQC/SUEEVg5tLL9JQQRWDm0sv0lBBFYObSy/SUEEVg5tLL9JQQRWDm0sv0lBBFYOzVi/SUEEVg7NWL9JQQRWDk2Fv0lBBFYOTYW/SUEEVg5Nhb9JQQRWDs1Yv0lBBFYOzVi/SUEEVg7NWL9JQQRWDs1Yv0lBBFYOzVi/SUEEVg7NWL9JQQRWDm0sv0lBBFYObSy/SUEEVg5tLL9JQQRWDg0Av0lBBFYODQC/SUEEVg4NAL9JQQRWDg0Av0lBBFYObSy/SUEEVg5tLL9JQQ==\",\"dtype\":\"float64\",\"shape\":[140]}}},\"id\":\"fee339d7-6a53-47aa-956d-585918f5b183\",\"type\":\"ColumnDataSource\"},{\"attributes\":{\"args\":{\"source\":{\"id\":\"2601122d-f140-4b1d-ac9f-b300459fbc9a\",\"type\":\"ColumnDataSource\"}},\"code\":\"source.set('selected', cb_data['index']);\"},\"id\":\"0758e1a8-c058-4ed2-99e3-d06148a23b78\",\"type\":\"CustomJS\"},{\"attributes\":{\"num_minor_ticks\":5},\"id\":\"2292be74-7de4-423c-9ee9-72cb5d83a1d9\",\"type\":\"DatetimeTicker\"},{\"attributes\":{\"months\":[0,6]},\"id\":\"a23cf612-aa34-4d8c-b49b-e27636bf8dad\",\"type\":\"MonthsTicker\"},{\"attributes\":{\"below\":[{\"id\":\"72e4d25b-fc2e-4c16-9626-87c1fe632784\",\"type\":\"DatetimeAxis\"}],\"left\":[{\"id\":\"32768556-5fa8-4347-a381-2b7b68ea16db\",\"type\":\"LinearAxis\"}],\"plot_height\":300,\"renderers\":[{\"id\":\"72e4d25b-fc2e-4c16-9626-87c1fe632784\",\"type\":\"DatetimeAxis\"},{\"id\":\"1450d8f6-0297-414e-8559-8702ffd9c89c\",\"type\":\"Grid\"},{\"id\":\"32768556-5fa8-4347-a381-2b7b68ea16db\",\"type\":\"LinearAxis\"},{\"id\":\"601c911b-e80e-42cb-b3f1-6f64fc08dc1d\",\"type\":\"Grid\"},{\"id\":\"0c228a22-de40-49c5-a079-8ce21bfb1af5\",\"type\":\"GlyphRenderer\"},{\"id\":\"1b9045f1-0d04-4afd-b715-f17ef80fbea4\",\"type\":\"GlyphRenderer\"},{\"id\":\"a7316458-2d15-4ed3-99da-73512e8f48d9\",\"type\":\"GlyphRenderer\"}],\"title\":{\"id\":\"8ff1c2e0-4a32-42ca-b580-fd592821cdc9\",\"type\":\"Title\"},\"tool_events\":{\"id\":\"216b3721-2234-4bb5-98cb-c28aae684b1e\",\"type\":\"ToolEvents\"},\"toolbar\":{\"id\":\"9a1e0a28-89db-44c8-a533-01d01c230f67\",\"type\":\"Toolbar\"},\"toolbar_location\":null,\"x_range\":{\"id\":\"4795925f-96bd-4bbb-9317-7e6765ca8fe6\",\"type\":\"DataRange1d\"},\"y_range\":{\"id\":\"f6ebb1aa-1b14-4b4e-92dc-24d54215516b\",\"type\":\"DataRange1d\"}},\"id\":\"92d42bf0-8ef1-4865-a5d9-3744e524298f\",\"subtype\":\"Figure\",\"type\":\"Plot\"}],\"root_ids\":[\"92d42bf0-8ef1-4865-a5d9-3744e524298f\"]},\"title\":\"Bokeh Application\",\"version\":\"0.12.5\"}};\n",
       "            var render_items = [{\"docid\":\"e4c72874-0f22-4614-b46b-7dee9bb1eca1\",\"elementid\":\"ed3a74d7-91be-4c40-a721-31c2bc653580\",\"modelid\":\"92d42bf0-8ef1-4865-a5d9-3744e524298f\"}];\n",
       "            \n",
       "            Bokeh.embed.embed_items(docs_json, render_items);\n",
       "          };\n",
       "          if (document.readyState != \"loading\") fn();\n",
       "          else document.addEventListener(\"DOMContentLoaded\", fn);\n",
       "        })();\n",
       "      },\n",
       "      function(Bokeh) {\n",
       "      }\n",
       "    ];\n",
       "  \n",
       "    function run_inline_js() {\n",
       "      \n",
       "      if ((window.Bokeh !== undefined) || (force === true)) {\n",
       "        for (var i = 0; i < inline_js.length; i++) {\n",
       "          inline_js[i](window.Bokeh);\n",
       "        }if (force === true) {\n",
       "          display_loaded();\n",
       "        }} else if (Date.now() < window._bokeh_timeout) {\n",
       "        setTimeout(run_inline_js, 100);\n",
       "      } else if (!window._bokeh_failed_load) {\n",
       "        console.log(\"Bokeh: BokehJS failed to load within specified timeout.\");\n",
       "        window._bokeh_failed_load = true;\n",
       "      } else if (force !== true) {\n",
       "        var cell = $(document.getElementById(\"ed3a74d7-91be-4c40-a721-31c2bc653580\")).parents('.cell').data().cell;\n",
       "        cell.output_area.append_execute_result(NB_LOAD_WARNING)\n",
       "      }\n",
       "  \n",
       "    }\n",
       "  \n",
       "    if (window._bokeh_is_loading === 0) {\n",
       "      console.log(\"Bokeh: BokehJS loaded, going straight to plotting\");\n",
       "      run_inline_js();\n",
       "    } else {\n",
       "      load_libs(js_urls, function() {\n",
       "        console.log(\"Bokeh: BokehJS plotting callback run at\", now());\n",
       "        run_inline_js();\n",
       "      });\n",
       "    }\n",
       "  }(this));\n",
       "</script>"
      ]
     },
     "metadata": {},
     "output_type": "display_data"
    }
   ],
   "source": [
    "#for i in range(0, len(grouped)):\n",
    "x = a['x']\n",
    "y = a['y']\n",
    "x2 = b['x']\n",
    "y2 = b['y']\n",
    "\n",
    "from bokeh.plotting import figure, output_file, show\n",
    "from bokeh.models import ColumnDataSource, Circle, HoverTool, CustomJS\n",
    "\n",
    "output_file(\"hover_callback.html\")\n",
    "\n",
    "# Basic plot setup\n",
    "p = figure(width=600, height=300, x_axis_type=\"datetime\", tools=\"\", toolbar_location=None, title='Hover over points')\n",
    "p.line(x, y, line_dash=\"4 4\", line_width=1, color='gray')\n",
    "p.line(x2, y2, line_dash=\"4 4\", line_width=1, color='gray')\n",
    "\n",
    "# Add a circle, that is visible only when selected\n",
    "source = ColumnDataSource({'x': x, 'y': y})\n",
    "invisible_circle = Circle(x='x', y='y', fill_color='gray', fill_alpha=0.05, line_color=None, size=20)\n",
    "visible_circle = Circle(x='x', y='y', fill_color='firebrick', fill_alpha=0.5, line_color=None, size=20)\n",
    "cr = p.add_glyph(source, invisible_circle, selection_glyph=visible_circle, nonselection_glyph=invisible_circle)\n",
    "\n",
    "# Add a hover tool, that selects the circle\n",
    "code = \"source.set('selected', cb_data['index']);\"\n",
    "callback = CustomJS(args={'source': source}, code=code)\n",
    "p.add_tools(HoverTool(tooltips=None, callback=callback, renderers=[cr], mode='hline'))\n",
    "\n",
    "show(p)"
   ]
  },
  {
   "cell_type": "code",
   "execution_count": 107,
   "metadata": {
    "collapsed": false
   },
   "outputs": [
    {
     "ename": "ImportError",
     "evalue": "No module named paramnb",
     "output_type": "error",
     "traceback": [
      "\u001b[0;31m---------------------------------------------------------------------------\u001b[0m",
      "\u001b[0;31mImportError\u001b[0m                               Traceback (most recent call last)",
      "\u001b[0;32m<ipython-input-107-b8e41895aef9>\u001b[0m in \u001b[0;36m<module>\u001b[0;34m()\u001b[0m\n\u001b[1;32m      2\u001b[0m \u001b[0;32mimport\u001b[0m \u001b[0mholoviews\u001b[0m \u001b[0;32mas\u001b[0m \u001b[0mhv\u001b[0m\u001b[0;34m\u001b[0m\u001b[0m\n\u001b[1;32m      3\u001b[0m \u001b[0;31m#import geoviews as gv\u001b[0m\u001b[0;34m\u001b[0m\u001b[0;34m\u001b[0m\u001b[0m\n\u001b[0;32m----> 4\u001b[0;31m \u001b[0;32mimport\u001b[0m \u001b[0mparam\u001b[0m\u001b[0;34m,\u001b[0m \u001b[0mparamnb\u001b[0m\u001b[0;34m\u001b[0m\u001b[0m\n\u001b[0m\u001b[1;32m      5\u001b[0m \u001b[0;32mimport\u001b[0m \u001b[0mpandas\u001b[0m \u001b[0;32mas\u001b[0m \u001b[0mpd\u001b[0m\u001b[0;34m\u001b[0m\u001b[0m\n\u001b[1;32m      6\u001b[0m \u001b[0;34m\u001b[0m\u001b[0m\n",
      "\u001b[0;31mImportError\u001b[0m: No module named paramnb"
     ]
    }
   ],
   "source": [
    "\n",
    "import holoviews as hv\n",
    "#import geoviews as gv\n",
    "import param, paramnb\n",
    "import pandas as pd\n",
    "\n",
    "from colorcet import cm\n",
    "from bokeh.models import WMTSTileSource\n",
    "from holoviews.operation.datashader import datashade\n",
    "from holoviews.streams import RangeXY\n",
    "\n",
    "hv.notebook_extension('bokeh')\n",
    "\n",
    "%time df = pd.read_csv('data/nyc_taxi.csv', usecols = ['passenger_count', \\\n",
    "                       'pickup_x', 'pickup_y', 'dropoff_x', 'dropoff_y'])\n",
    "df.tail()"
   ]
  },
  {
   "cell_type": "code",
   "execution_count": null,
   "metadata": {
    "collapsed": false
   },
   "outputs": [],
   "source": []
  },
  {
   "cell_type": "code",
   "execution_count": null,
   "metadata": {
    "collapsed": true
   },
   "outputs": [],
   "source": []
  }
 ],
 "metadata": {
  "anaconda-cloud": {},
  "kernelspec": {
   "display_name": "Python 2",
   "language": "python",
   "name": "python2"
  },
  "language_info": {
   "codemirror_mode": {
    "name": "ipython",
    "version": 2
   },
   "file_extension": ".py",
   "mimetype": "text/x-python",
   "name": "python",
   "nbconvert_exporter": "python",
   "pygments_lexer": "ipython2",
   "version": "2.7.12"
  }
 },
 "nbformat": 4,
 "nbformat_minor": 1
}

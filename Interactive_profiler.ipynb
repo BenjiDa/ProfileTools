{
 "cells": [
  {
   "cell_type": "code",
   "execution_count": 105,
   "metadata": {
    "collapsed": false
   },
   "outputs": [],
   "source": [
    "import numpy as np\n",
    "import pandas as pd\n",
    "from osgeo import gdal\n",
    "from gdalconst import *\n",
    "#import osr\n",
    "import matplotlib.pyplot as plt\n",
    "%matplotlib qt\n",
    "\n",
    "\n"
   ]
  },
  {
   "cell_type": "code",
   "execution_count": 106,
   "metadata": {
    "collapsed": false
   },
   "outputs": [],
   "source": [
    "#Read a raster\n",
    "f = gdal.Open(\"/Users/bmelosh/VagrantBoxes/LSDTopoTools/Topographic_projects/Test_data/Mandakini_HS.bil\")\n",
    "fA = f.ReadAsArray()\n",
    "\n",
    "#Read stream data\n",
    "name = \"Mandakini_fullProfileMC_forced_0.45_20_2_20_90_281_for_Arc.csv\" #Set file name\n",
    "path = \"/Users/bmelosh/VagrantBoxes/LSDTopoTools/Topographic_projects/Test_data/deeper/\" #Set path to data\n",
    "#for csv files\n",
    "data = np.genfromtxt((path+name), delimiter=',', skip_header=1, names=['id', 'x', 'y', 'chan_number', 'reciever_chan','node_on_reciever_chan', 'node', 'row','column', 'flow_distance', 'chi', 'elevation', 'drainage_area', 'n_data_points', 'm_mean','m_st_dev', 'm_std_err', 'b_mean', 'b_st_dev', 'b_std_err', 'DW_mean', 'DW_st_dev', 'DW_std_err', 'fitted_elev_mean', 'fitted_elev_stdev', 'fitted_elev_std_err'])\n",
    "#for tree files\n",
    "#data = np.genfromtxt((path+name), delimiter=' ', skip_header=1, names=['chan_number', 'reciever_chan','node_on_reciever_chan', 'node', 'row','column', 'flow_distance', 'chi', 'elevation', 'drainage_area', 'n_data_points', 'm_mean','m_st_dev', 'm_std_err', 'b_mean', 'b_st_dev', 'b_std_err', 'DW_mean', 'DW_st_dev', 'DW_std_err', 'fitted_elev_mean', 'fitted_elev_stdev', 'fitted_elev_std_err'])\n"
   ]
  },
  {
   "cell_type": "code",
   "execution_count": 107,
   "metadata": {
    "collapsed": false
   },
   "outputs": [],
   "source": [
    "Test_data = (\"/Users/bmelosh/VagrantBoxes/LSDTopoTools/Topographic_projects/Test_data/\")\n",
    "Test = gdal.Open(Test_data + \"/Mandakini.bil\")\n",
    "M_HS = Test.ReadAsArray()#.astype(np.float)\n",
    "\n",
    "\n",
    "def plot_coord(Test):\n",
    "\n",
    "    (upper_left_x, x_size, x_rotation, upper_left_y, y_rotation, y_size) = Test.GetGeoTransform()\n",
    "    dx = x_size\n",
    "    dy = y_size\n",
    "    nx, ny = Test.RasterXSize, Test.RasterYSize  # Size of the original raster\n",
    "\n",
    "    xllcenter = upper_left_x + dx/2  # x coordinate center of lower left pxl\n",
    "    yllcenter = upper_left_y - dx/2 # y coordinate center of lower left pxl   - (ny-1)*dx \n",
    "\n",
    "    #Create arrays of the x and y coordinates of each pixel (the axes)\n",
    "    xcoordinates = [x*dx + xllcenter for x in range(nx)]\n",
    "    ycoordinates = [y*dy + yllcenter for y in range(ny)]\n",
    "\n",
    "    #Create 2 2d grids describing x and y coordinates\n",
    "    X,Y = np.meshgrid(xcoordinates, ycoordinates) \n",
    "\n",
    "    fig = plt.contourf(X, Y, M_HS, levels=np.linspace(np.amin(M_HS[M_HS > 0]),np.amax(M_HS), 50))\n",
    "    \n",
    "    return fig\n",
    "\n"
   ]
  },
  {
   "cell_type": "code",
   "execution_count": null,
   "metadata": {
    "collapsed": false
   },
   "outputs": [],
   "source": []
  },
  {
   "cell_type": "code",
   "execution_count": null,
   "metadata": {
    "collapsed": false
   },
   "outputs": [],
   "source": []
  },
  {
   "cell_type": "code",
   "execution_count": 108,
   "metadata": {
    "collapsed": false
   },
   "outputs": [],
   "source": [
    "\n",
    "cm = plt.cm.gist_earth\n",
    "\n",
    "\n",
    "fig, ax = plt.subplots(2, figsize=(10,10), sharex=False) #define 2 subfigures\n",
    "\n",
    "ax[0].contourf(X, Y, M_HS, levels=np.linspace(np.amin(M_HS[M_HS > 0]),np.amax(M_HS), 50))\n",
    "ax[0].plot(data['x'], data['y'], 'ro')\n",
    "#ax[0].imshow(fA, interpolation='nearest', vmin=0, cmap=plt.cm.gray) \n",
    "ax[0].set_aspect('equal')\n",
    "ax[0].set_title('Terrain map with stream channel')\n",
    "ax[0].set_ylabel('Northing')\n",
    "ax[0].set_xlabel('Easting')\n",
    "\n",
    "\n",
    "\n",
    "ax[1].scatter(data['x'], data['y'])\n",
    "ax[1].set_title('Stream Map')\n",
    "ax[1].set_ylabel('Northing')\n",
    "ax[1].set_xlabel('Easting')\n",
    "\n",
    "plt.show()"
   ]
  },
  {
   "cell_type": "code",
   "execution_count": null,
   "metadata": {
    "collapsed": false
   },
   "outputs": [],
   "source": [
    "\n",
    "\n"
   ]
  },
  {
   "cell_type": "code",
   "execution_count": 4,
   "metadata": {
    "collapsed": false
   },
   "outputs": [],
   "source": [
    "#gdalinfo \"/Users/bmelosh/VagrantBoxes/LSDTopoTools/Topographic_projects/Test_data/Mandakini_HS.bil\""
   ]
  },
  {
   "cell_type": "code",
   "execution_count": null,
   "metadata": {
    "collapsed": false
   },
   "outputs": [],
   "source": []
  },
  {
   "cell_type": "code",
   "execution_count": null,
   "metadata": {
    "collapsed": false
   },
   "outputs": [],
   "source": []
  },
  {
   "cell_type": "code",
   "execution_count": null,
   "metadata": {
    "collapsed": true
   },
   "outputs": [],
   "source": []
  }
 ],
 "metadata": {
  "anaconda-cloud": {},
  "kernelspec": {
   "display_name": "Python [conda env:LSDTopoTools]",
   "language": "python",
   "name": "conda-env-LSDTopoTools-py"
  },
  "language_info": {
   "codemirror_mode": {
    "name": "ipython",
    "version": 2
   },
   "file_extension": ".py",
   "mimetype": "text/x-python",
   "name": "python",
   "nbconvert_exporter": "python",
   "pygments_lexer": "ipython2",
   "version": "2.7.12"
  }
 },
 "nbformat": 4,
 "nbformat_minor": 1
}

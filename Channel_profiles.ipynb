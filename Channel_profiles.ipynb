{
 "cells": [
  {
   "cell_type": "code",
   "execution_count": 1,
   "metadata": {
    "collapsed": false
   },
   "outputs": [],
   "source": [
    "import gdal\n",
    "import numpy as np\n",
    "import pandas as pd\n",
    "import matplotlib.pyplot as plt\n",
    "#my code\n",
    "from raster_sample import *\n",
    "from profile_map_scanner import *\n",
    "\n",
    "\n"
   ]
  },
  {
   "cell_type": "code",
   "execution_count": 16,
   "metadata": {
    "collapsed": false
   },
   "outputs": [],
   "source": [
    "#Import the data\n",
    "raster_path = \"/Users/bmelosh/VagrantBoxes/LSDTopoTools/Topographic_projects/Cache_creek/\"\n",
    "raster = gdal.Open(raster_path + \"/Cache_creek_clip_HS.bil\")#Get raster data\n",
    "\n",
    "dem = raster.ReadAsArray()\n",
    "\n",
    "\n",
    "creek= \"Crack_canyon\"\n",
    "path = \"/Users/bmelosh/VagrantBoxes/LSDTopoTools/Topographic_projects/Cache_creek/Previous_LSDTT_version/Channel_extraction/\"+creek+\"/\" #Set path to data\n",
    "\n",
    "## IMPORT DATA\n",
    "creek= \"Crack_canyon\"\n",
    "path = \"/Users/bmelosh/VagrantBoxes/LSDTopoTools/Topographic_projects/Cache_creek/Previous_LSDTT_version/Channel_extraction/\"+creek+\"/\" #Set path to data\n",
    "name = creek+\"_MChiSegmented.csv\" #Set file name\n",
    "creek_data = np.genfromtxt((path+name), delimiter=',', skip_header=1, names=['node', 'row', 'col', 'latitude', 'longitude', 'chi', 'elevation', 'flow_distance', 'drainage_area', 'm_chi', 'b_chi', 'source_key', 'basin_key', 'segmented_elevation'])\n",
    "\n",
    "#Create pandas dataframe\n",
    "creek_data_df = pd.DataFrame(creek_data)\n",
    "\n",
    "#Create a distance column in pandas dataframe\n",
    "distance = creek_data_df['flow_distance'] - creek_data_df['flow_distance'].min()\n",
    "creek_data_df['distance'] = distance\n",
    "\n",
    "#convert the lat long to utm from creek data, chi segmented (only need this if there is no x, y columns)\n",
    "creek_data_df = convert_lat_long(creek_data_df)"
   ]
  },
  {
   "cell_type": "code",
   "execution_count": 9,
   "metadata": {
    "collapsed": false
   },
   "outputs": [],
   "source": [
    "#Create a bokeh plot of the raster\n",
    "import bokeh.plotting as bp\n",
    "from bokeh.plotting import figure, show, output_file\n",
    "from bokeh.layouts import gridplot, column\n",
    "\n",
    "\n",
    "#pull out the products of raster subsampler\n",
    "X,Y, array = raster_subsample_xy_generator(raster, creek_data_df)\n",
    "\n",
    "#Create a bokeh source to use in interactive plots\n",
    "source=bp.ColumnDataSource(creek_data_df)\n",
    "color_by_variable('m_chi', source=source) #define color scheme for profiles\n",
    "\n",
    "#define boundaries of the data\n",
    "x_range, y_range = define_boundaries(source)\n",
    "elev_range = define_elevation_boundaries(source)\n",
    "\n",
    "\n",
    "#Create profile plots \n",
    "\n",
    "p = stream_map_raster(array, source, title='Map',x_axis_label='Easting', y_axis_label='Northing')\n",
    "\n",
    "p2 = profile(elev_range, source, title='Elevation profile', x_axis_label='Distance', y_axis_label='Elevation')\n",
    "\n",
    "p3 = profile(elev_range, source, x='chi', title='Chi profile', x_axis_label='Chi', y_axis_label='Elevation')\n",
    "\n",
    "\n",
    "output_file(\"Profile comparison.html\", title=\"Creek scanner\")\n",
    "\n",
    "plotcol = column(p2, p3)\n",
    "grid = gridplot([[p, plotcol]])\n",
    "\n",
    "bp.show(grid)  \n"
   ]
  },
  {
   "cell_type": "code",
   "execution_count": 196,
   "metadata": {
    "collapsed": false
   },
   "outputs": [],
   "source": [
    "#Import data for plotting best m/n ratio\n",
    "\n",
    "#Im working on plotting data up using pandas to looke at MLE values for all m/n ratios of different channels,\n",
    "#i want to do this all on the same plot, also should look into how to best visualize these data and if Mudd \n",
    "#and his group have already dones something like this. \n",
    "\n",
    "mle_data = []\n",
    "df = pd.DataFrame()\n",
    "for i in range(1,9):\n",
    "    num = '0.'+str(i)\n",
    "    name2 = path+creek+'_movernstats_'+num+'_fullstats.csv'\n",
    "    mle_data_i = np.genfromtxt(name2, delimiter=',', skip_header=1, names=['basin_key', 'reference_source_key', 'test_source_key','MLE','RMSE'])\n",
    "    \n",
    "    mle_data.append(mle_data_i)\n",
    "    \n",
    "    df_temp = pd.DataFrame(mle_data_i)\n",
    "    df = pd.concat([df,df_temp]) \n",
    "    \n",
    "    \n",
    "    \n",
    "    \n",
    "\n",
    "    \n",
    "    \n",
    "del df['basin_key']\n",
    "del df['reference_source_key']\n",
    "df = df.rename(columns={'test_source_key': 'Tributary #'})\n",
    "\n",
    "\n",
    "# checking.head()\n",
    "\n",
    "group = df.groupby(['Tributary #'])\n",
    "\n",
    "#fig = plt.figure()\n",
    "#section = df3[['MLE']]\n",
    "#section.plot()\n",
    "#plt.show()\n",
    "\n",
    "\n",
    "\n"
   ]
  },
  {
   "cell_type": "code",
   "execution_count": 209,
   "metadata": {
    "collapsed": false
   },
   "outputs": [
    {
     "name": "stdout",
     "output_type": "stream",
     "text": [
      "/Users/bmelosh/VagrantBoxes/LSDTopoTools/Git_projects/LSDMappingTools\n",
      "/Users/bmelosh/projects/profile_generator\n"
     ]
    }
   ],
   "source": [
    "%cd ~/VagrantBoxes/LSDTopoTools/Git_projects/LSDMappingTools/\n",
    "from LSDPlottingTools import LSDMap_MOverNPlotting as MN\n",
    "%cd ~/projects/profile_generator/"
   ]
  },
  {
   "cell_type": "code",
   "execution_count": 221,
   "metadata": {
    "collapsed": false
   },
   "outputs": [
    {
     "name": "stdout",
     "output_type": "stream",
     "text": [
      "This m/n is: 0.1\n",
      "This basin key is 0\n",
      "Getting the reference_source_key\n",
      "0.0\n",
      "This m/n is: 0.2\n",
      "This basin key is 0\n",
      "Getting the reference_source_key\n",
      "0.0\n",
      "This m/n is: 0.3\n",
      "This basin key is 0\n",
      "Getting the reference_source_key\n",
      "0.0\n",
      "This m/n is: 0.4\n",
      "This basin key is 0\n",
      "Getting the reference_source_key\n",
      "0.0\n",
      "This m/n is: 0.5\n",
      "This basin key is 0\n",
      "Getting the reference_source_key\n",
      "0.0\n",
      "This m/n is: 0.6\n",
      "This basin key is 0\n",
      "Getting the reference_source_key\n",
      "0.0\n",
      "This m/n is: 0.7\n",
      "This basin key is 0\n",
      "Getting the reference_source_key\n",
      "0.0\n"
     ]
    }
   ],
   "source": [
    "creek =  'Perkins_creek'\n",
    "this_dir = '/Users/bmelosh/VagrantBoxes/LSDTopoTools/Topographic_projects/Cache_creek/Previous_LSDTT_version/Channel_extraction/'+creek+'/'\n",
    "MN.MakeChiPlotsMLE(this_dir, creek,start_movern=0.1, d_movern=0.1, n_movern=7)#basin_list=[], , size_format=args.size_format, FigFormat = args.FigFormat)\n",
    "#MN.PlotSensitivityResultsSigma(this_dir, 'Crack_canyon')\n",
    "\n",
    "\n",
    "\n"
   ]
  },
  {
   "cell_type": "code",
   "execution_count": 464,
   "metadata": {
    "collapsed": false
   },
   "outputs": [
    {
     "data": {
      "text/plain": [
       "<matplotlib.figure.Figure at 0x16315a890>"
      ]
     },
     "metadata": {},
     "output_type": "display_data"
    },
    {
     "data": {
      "image/png": "[encoded data removed]",
      "text/plain": [
       "<matplotlib.figure.Figure at 0x16316f590>"
      ]
     },
     "metadata": {},
     "output_type": "display_data"
    }
   ],
   "source": [
    "creek =  'Perkins_creek'\n",
    "path = '/Users/bmelosh/VagrantBoxes/LSDTopoTools/Topographic_projects/Cache_creek/Previous_LSDTT_version/Channel_extraction/'+creek+'/'\n",
    "name = creek+'_movern.csv'\n",
    "#Import Data\n",
    "creek_movern_data = np.genfromtxt((path+name), delimiter=',', skip_header=1, names=['source_key','basin_key','elevation','m_over_n = 0.1','m_over_n = 0.2','m_over_n = 0.3','m_over_n = 0.4','m_over_n = 0.5','m_over_n = 0.6','m_over_n = 0.7','m_over_n = 0.8'])\n",
    "\n",
    "#creek_movern_df = pd.DataFrame(creek_movern_data)\n",
    "\n",
    "creek_movern_df.head()\n",
    "fig = plt.figure()\n",
    "#creek_movern_df['elevation'].plot(style='bo')\n",
    "creek_movern_df.plot(x='m_over_n__01', y='elevation', style='bo')\n",
    "\n",
    "plt.show()"
   ]
  },
  {
   "cell_type": "code",
   "execution_count": 436,
   "metadata": {
    "collapsed": false
   },
   "outputs": [],
   "source": [
    "#Create array of mn values to iterate through (start_mn, end_mn, number of mn values)\n",
    "mn_values = np.linspace(0.1,0.8,8)\n",
    "\n",
    "#Iterate through all the files\n",
    "name_mn = []\n",
    "for mn in mn_values:\n",
    "    name_mn_i = creek+'_movernstats_%s_fullstats.csv' %mn\n",
    "    name_mn.append(name_mn_i)\n",
    "    \n",
    "dictionary = {}\n",
    "MLE_arrary = []\n",
    "for name in name_mn:\n",
    "    dictionary[\"{0}\".format(name)] = np.genfromtxt((path+name), delimiter=',', skip_header=1, names=['basin_key','reference_source_key','test_source_key','MLE','RMSE'])\n",
    "    tributaries = len(dictionary[\"{0}\".format(name)])\n",
    "    #MLE_array = np.asarray(dictionary['{0}'.format(name)][0])\n",
    "\n",
    "    \n",
    "#Turn the dictionary into a pandas df if i want to\n",
    "test = pd.DataFrame.from_dict(dictionary)\n",
    "#test['Perkins_creek_movernstats_0.1_fullstats.csv'][2]\n",
    "\n",
    "#Create a list of MLE values for every mn value of every tributary, ordered from low m/n to high m/n\n",
    "#len(MLE_array)==number of tributaries\n",
    "MLE_dict = []\n",
    "for name in name_mn:\n",
    "\n",
    "    MLE_array = []\n",
    "    for trib in range(0,tributaries):\n",
    "        MLE_array_trib = dictionary[\"{0}\".format(name)][trib]\n",
    "        #MLE_array = np.asarray(dictionary['{0}'.format(name)][0])\n",
    "        MLE_array.append(MLE_array_trib)\n",
    "    MLE_dict.append(MLE_array)\n",
    "\n",
    "\n",
    "\n"
   ]
  },
  {
   "cell_type": "code",
   "execution_count": 444,
   "metadata": {
    "collapsed": false
   },
   "outputs": [
    {
     "data": {
      "text/plain": [
       "0     (0.0, 0.0, 1.0, 0.99898, 3.88927)\n",
       "1    (0.0, 0.0, 2.0, 0.999562, 2.80474)\n",
       "2    (0.0, 0.0, 3.0, 0.996681, 15.6095)\n",
       "Name: Perkins_creek_movernstats_0.1_fullstats.csv, dtype: object"
      ]
     },
     "execution_count": 444,
     "metadata": {},
     "output_type": "execute_result"
    }
   ],
   "source": [
    "test['Perkins_creek_movernstats_0.1_fullstats.csv']#[0][3]\n",
    "    \n",
    "# get the colourmap to colour channels by the MLE value\n",
    "            #NUM_COLORS = len(MLE)\n",
    "\n",
    "# this_cmap = plt.cm.plasma\n",
    "# cNorm  = colors.Normalize(vmin=np.min(MLE_array[0]), vmax=np.max(MLE_array[0]))\n",
    "# plt.cm.ScalarMappable(norm=cNorm, cmap=this_cmap)"
   ]
  },
  {
   "cell_type": "markdown",
   "metadata": {},
   "source": [
    "len(dictionary)"
   ]
  },
  {
   "cell_type": "code",
   "execution_count": 428,
   "metadata": {
    "collapsed": false
   },
   "outputs": [
    {
     "data": {
      "text/plain": [
       "[0.99897999999999998, 0.99956199999999995, 0.99668100000000004]"
      ]
     },
     "execution_count": 428,
     "metadata": {},
     "output_type": "execute_result"
    }
   ],
   "source": [
    "MLE =  []\n",
    "for trib in range(0,tributaries):\n",
    "    MLE_i = MLE_dict[0][trib][3]\n",
    "    MLE.append(MLE_i)\n",
    "    \n",
    "MLE"
   ]
  },
  {
   "cell_type": "code",
   "execution_count": 434,
   "metadata": {
    "collapsed": false
   },
   "outputs": [
    {
     "data": {
      "text/plain": [
       "[(0.0, 0.0, 1.0, 0.999582, 2.50122),\n",
       " (0.0, 0.0, 2.0, 0.999768, 2.2053),\n",
       " (0.0, 0.0, 3.0, 0.997418, 13.3956)]"
      ]
     },
     "execution_count": 434,
     "metadata": {},
     "output_type": "execute_result"
    }
   ],
   "source": [
    "MLE_dict[1]#[2][3]"
   ]
  },
  {
   "cell_type": "code",
   "execution_count": null,
   "metadata": {
    "collapsed": true
   },
   "outputs": [],
   "source": []
  }
 ],
 "metadata": {
  "anaconda-cloud": {},
  "kernelspec": {
   "display_name": "Python 2",
   "language": "python",
   "name": "python2"
  },
  "language_info": {
   "codemirror_mode": {
    "name": "ipython",
    "version": 2
   },
   "file_extension": ".py",
   "mimetype": "text/x-python",
   "name": "python",
   "nbconvert_exporter": "python",
   "pygments_lexer": "ipython2",
   "version": "2.7.12"
  }
 },
 "nbformat": 4,
 "nbformat_minor": 1
}

{
 "cells": [
  {
   "cell_type": "code",
   "execution_count": 1,
   "metadata": {
    "collapsed": false
   },
   "outputs": [],
   "source": [
    "import gdal\n",
    "import numpy as np\n",
    "import pandas as pd\n",
    "import matplotlib.pyplot as plt\n",
    "#my code\n",
    "from raster_sample import *\n",
    "from profile_map_scanner import *\n",
    "\n",
    "\n"
   ]
  },
  {
   "cell_type": "code",
   "execution_count": 16,
   "metadata": {
    "collapsed": false
   },
   "outputs": [],
   "source": [
    "#Import the data\n",
    "raster_path = \"/Users/bmelosh/VagrantBoxes/LSDTopoTools/Topographic_projects/Cache_creek/\"\n",
    "raster = gdal.Open(raster_path + \"/Cache_creek_clip_HS.bil\")#Get raster data\n",
    "\n",
    "dem = raster.ReadAsArray()\n",
    "\n",
    "\n",
    "creek= \"Crack_canyon\"\n",
    "path = \"/Users/bmelosh/VagrantBoxes/LSDTopoTools/Topographic_projects/Cache_creek/Previous_LSDTT_version/Channel_extraction/\"+creek+\"/\" #Set path to data\n",
    "\n",
    "## IMPORT DATA\n",
    "creek= \"Crack_canyon\"\n",
    "path = \"/Users/bmelosh/VagrantBoxes/LSDTopoTools/Topographic_projects/Cache_creek/Previous_LSDTT_version/Channel_extraction/\"+creek+\"/\" #Set path to data\n",
    "name = creek+\"_MChiSegmented.csv\" #Set file name\n",
    "creek_data = np.genfromtxt((path+name), delimiter=',', skip_header=1, names=['node', 'row', 'col', 'latitude', 'longitude', 'chi', 'elevation', 'flow_distance', 'drainage_area', 'm_chi', 'b_chi', 'source_key', 'basin_key', 'segmented_elevation'])\n",
    "\n",
    "#Create pandas dataframe\n",
    "creek_data_df = pd.DataFrame(creek_data)\n",
    "\n",
    "#Create a distance column in pandas dataframe\n",
    "distance = creek_data_df['flow_distance'] - creek_data_df['flow_distance'].min()\n",
    "creek_data_df['distance'] = distance\n",
    "\n",
    "#convert the lat long to utm from creek data, chi segmented (only need this if there is no x, y columns)\n",
    "creek_data_df = convert_lat_long(creek_data_df)"
   ]
  },
  {
   "cell_type": "code",
   "execution_count": 9,
   "metadata": {
    "collapsed": false
   },
   "outputs": [],
   "source": [
    "#Create a bokeh plot of the raster\n",
    "import bokeh.plotting as bp\n",
    "from bokeh.plotting import figure, show, output_file\n",
    "from bokeh.layouts import gridplot, column\n",
    "\n",
    "\n",
    "#pull out the products of raster subsampler\n",
    "X,Y, array = raster_subsample_xy_generator(raster, creek_data_df)\n",
    "\n",
    "#Create a bokeh source to use in interactive plots\n",
    "source=bp.ColumnDataSource(creek_data_df)\n",
    "color_by_variable('m_chi', source=source) #define color scheme for profiles\n",
    "\n",
    "#define boundaries of the data\n",
    "x_range, y_range = define_boundaries(source)\n",
    "elev_range = define_elevation_boundaries(source)\n",
    "\n",
    "\n",
    "#Create profile plots \n",
    "\n",
    "p = stream_map_raster(array, source, title='Map',x_axis_label='Easting', y_axis_label='Northing')\n",
    "\n",
    "p2 = profile(elev_range, source, title='Elevation profile', x_axis_label='Distance', y_axis_label='Elevation')\n",
    "\n",
    "p3 = profile(elev_range, source, x='chi', title='Chi profile', x_axis_label='Chi', y_axis_label='Elevation')\n",
    "\n",
    "\n",
    "output_file(\"Profile comparison.html\", title=\"Creek scanner\")\n",
    "\n",
    "plotcol = column(p2, p3)\n",
    "grid = gridplot([[p, plotcol]])\n",
    "\n",
    "bp.show(grid)  \n"
   ]
  },
  {
   "cell_type": "code",
   "execution_count": 153,
   "metadata": {
    "collapsed": false
   },
   "outputs": [
    {
     "data": {
      "text/plain": [
       "<matplotlib.figure.Figure at 0x136054e50>"
      ]
     },
     "metadata": {},
     "output_type": "display_data"
    },
    {
     "data": {
      "image/png": "[encoded data removed]",
      "text/plain": [
       "<matplotlib.figure.Figure at 0x13d9cbb50>"
      ]
     },
     "metadata": {},
     "output_type": "display_data"
    },
    {
     "data": {
      "image/png": "[encoded data removed]",
      "text/plain": [
       "<matplotlib.figure.Figure at 0x13d9cb850>"
      ]
     },
     "metadata": {},
     "output_type": "display_data"
    }
   ],
   "source": [
    "#Import data for plotting best m/n ratio\n",
    "\n",
    "#appended_data = []\n",
    "#for i in range(1,9):\n",
    "num = '0.8'\n",
    "name2 = path+creek+'_movernstats_'+num+'_fullstats.csv'\n",
    "mle_data = np.genfromtxt(name2, delimiter=',', skip_header=1, names=['basin_key', 'reference_source_key', 'test_source_key','MLE','RMSE'])\n",
    "\n",
    "#Convert data into pandas dataframe and remove some columns and change column names to match m/n ratio values\n",
    "df8 = pd.DataFrame(mle_data)\n",
    "\n",
    "    #del df['basin_key']\n",
    "    #del df['reference_source_key']\n",
    "    #df = df.rename(columns={'test_source_key': 'Tributary #', 'MLE':'MLE '+num, 'RMSE':'RMSE '+num})\n",
    "\n",
    "    #appended_data.append(df)\n",
    "    #df_appended = pd.concat(appended_data,axis=1)\n",
    "#df = pd.DataFrame({'x': x, 'y': y})\n",
    "# df.head()\n",
    "# df.dtypes\n",
    "# #df_appended.head()\n",
    "section2 = df2[['MLE']]\n",
    "# checking.head()\n",
    "\n",
    "fig = plt.figure()\n",
    "section.plot()\n",
    "section2.plot()\n",
    "plt.show()"
   ]
  },
  {
   "cell_type": "code",
   "execution_count": null,
   "metadata": {
    "collapsed": false
   },
   "outputs": [],
   "source": []
  },
  {
   "cell_type": "code",
   "execution_count": 89,
   "metadata": {
    "collapsed": false
   },
   "outputs": [
    {
     "data": {
      "text/plain": [
       "'MLE 0.1'"
      ]
     },
     "execution_count": 89,
     "metadata": {},
     "output_type": "execute_result"
    }
   ],
   "source": [
    "x='MLE 0.1'\n",
    "x"
   ]
  },
  {
   "cell_type": "code",
   "execution_count": 29,
   "metadata": {
    "collapsed": false
   },
   "outputs": [
    {
     "data": {
      "text/html": [
       "<div>\n",
       "<table border=\"1\" class=\"dataframe\">\n",
       "  <thead>\n",
       "    <tr style=\"text-align: right;\">\n",
       "      <th></th>\n",
       "      <th>basin_key</th>\n",
       "      <th>reference_source_key</th>\n",
       "      <th>test_source_key</th>\n",
       "      <th>MLE</th>\n",
       "      <th>RMSE</th>\n",
       "      <th>basin_key</th>\n",
       "      <th>reference_source_key</th>\n",
       "      <th>test_source_key</th>\n",
       "      <th>MLE</th>\n",
       "      <th>RMSE</th>\n",
       "      <th>basin_key</th>\n",
       "      <th>reference_source_key</th>\n",
       "      <th>test_source_key</th>\n",
       "      <th>MLE</th>\n",
       "      <th>RMSE</th>\n",
       "    </tr>\n",
       "  </thead>\n",
       "  <tbody>\n",
       "    <tr>\n",
       "      <th>0</th>\n",
       "      <td>0.0</td>\n",
       "      <td>0.0</td>\n",
       "      <td>1.0</td>\n",
       "      <td>0.885031</td>\n",
       "      <td>25.12740</td>\n",
       "      <td>0.0</td>\n",
       "      <td>0.0</td>\n",
       "      <td>1.0</td>\n",
       "      <td>0.863379</td>\n",
       "      <td>27.56530</td>\n",
       "      <td>0.0</td>\n",
       "      <td>0.0</td>\n",
       "      <td>1.0</td>\n",
       "      <td>0.863379</td>\n",
       "      <td>27.56530</td>\n",
       "    </tr>\n",
       "    <tr>\n",
       "      <th>1</th>\n",
       "      <td>0.0</td>\n",
       "      <td>0.0</td>\n",
       "      <td>2.0</td>\n",
       "      <td>0.999108</td>\n",
       "      <td>21.11510</td>\n",
       "      <td>0.0</td>\n",
       "      <td>0.0</td>\n",
       "      <td>2.0</td>\n",
       "      <td>0.917517</td>\n",
       "      <td>51.67050</td>\n",
       "      <td>0.0</td>\n",
       "      <td>0.0</td>\n",
       "      <td>2.0</td>\n",
       "      <td>0.917517</td>\n",
       "      <td>51.67050</td>\n",
       "    </tr>\n",
       "    <tr>\n",
       "      <th>2</th>\n",
       "      <td>0.0</td>\n",
       "      <td>0.0</td>\n",
       "      <td>3.0</td>\n",
       "      <td>0.999182</td>\n",
       "      <td>5.86660</td>\n",
       "      <td>0.0</td>\n",
       "      <td>0.0</td>\n",
       "      <td>3.0</td>\n",
       "      <td>0.999737</td>\n",
       "      <td>3.44055</td>\n",
       "      <td>0.0</td>\n",
       "      <td>0.0</td>\n",
       "      <td>3.0</td>\n",
       "      <td>0.999737</td>\n",
       "      <td>3.44055</td>\n",
       "    </tr>\n",
       "    <tr>\n",
       "      <th>3</th>\n",
       "      <td>0.0</td>\n",
       "      <td>0.0</td>\n",
       "      <td>4.0</td>\n",
       "      <td>0.999249</td>\n",
       "      <td>4.37886</td>\n",
       "      <td>0.0</td>\n",
       "      <td>0.0</td>\n",
       "      <td>4.0</td>\n",
       "      <td>0.993682</td>\n",
       "      <td>10.57950</td>\n",
       "      <td>0.0</td>\n",
       "      <td>0.0</td>\n",
       "      <td>4.0</td>\n",
       "      <td>0.993682</td>\n",
       "      <td>10.57950</td>\n",
       "    </tr>\n",
       "    <tr>\n",
       "      <th>4</th>\n",
       "      <td>0.0</td>\n",
       "      <td>0.0</td>\n",
       "      <td>5.0</td>\n",
       "      <td>0.995779</td>\n",
       "      <td>11.17650</td>\n",
       "      <td>0.0</td>\n",
       "      <td>0.0</td>\n",
       "      <td>5.0</td>\n",
       "      <td>0.998214</td>\n",
       "      <td>7.32162</td>\n",
       "      <td>0.0</td>\n",
       "      <td>0.0</td>\n",
       "      <td>5.0</td>\n",
       "      <td>0.998214</td>\n",
       "      <td>7.32162</td>\n",
       "    </tr>\n",
       "  </tbody>\n",
       "</table>\n",
       "</div>"
      ],
      "text/plain": [
       "   basin_key  reference_source_key  test_source_key       MLE      RMSE  \\\n",
       "0        0.0                   0.0              1.0  0.885031  25.12740   \n",
       "1        0.0                   0.0              2.0  0.999108  21.11510   \n",
       "2        0.0                   0.0              3.0  0.999182   5.86660   \n",
       "3        0.0                   0.0              4.0  0.999249   4.37886   \n",
       "4        0.0                   0.0              5.0  0.995779  11.17650   \n",
       "\n",
       "   basin_key  reference_source_key  test_source_key       MLE      RMSE  \\\n",
       "0        0.0                   0.0              1.0  0.863379  27.56530   \n",
       "1        0.0                   0.0              2.0  0.917517  51.67050   \n",
       "2        0.0                   0.0              3.0  0.999737   3.44055   \n",
       "3        0.0                   0.0              4.0  0.993682  10.57950   \n",
       "4        0.0                   0.0              5.0  0.998214   7.32162   \n",
       "\n",
       "   basin_key  reference_source_key  test_source_key       MLE      RMSE  \n",
       "0        0.0                   0.0              1.0  0.863379  27.56530  \n",
       "1        0.0                   0.0              2.0  0.917517  51.67050  \n",
       "2        0.0                   0.0              3.0  0.999737   3.44055  \n",
       "3        0.0                   0.0              4.0  0.993682  10.57950  \n",
       "4        0.0                   0.0              5.0  0.998214   7.32162  "
      ]
     },
     "execution_count": 29,
     "metadata": {},
     "output_type": "execute_result"
    }
   ],
   "source": [
    "#df = pd.DataFrame(mle_data)\n",
    "df = pd.concat([df,df2],axis=1)\n",
    "df.head()"
   ]
  },
  {
   "cell_type": "code",
   "execution_count": null,
   "metadata": {
    "collapsed": true
   },
   "outputs": [],
   "source": []
  }
 ],
 "metadata": {
  "anaconda-cloud": {},
  "kernelspec": {
   "display_name": "Python 2",
   "language": "python",
   "name": "python2"
  },
  "language_info": {
   "codemirror_mode": {
    "name": "ipython",
    "version": 2
   },
   "file_extension": ".py",
   "mimetype": "text/x-python",
   "name": "python",
   "nbconvert_exporter": "python",
   "pygments_lexer": "ipython2",
   "version": "2.7.12"
  }
 },
 "nbformat": 4,
 "nbformat_minor": 1
}

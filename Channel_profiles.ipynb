{
 "cells": [
  {
   "cell_type": "code",
   "execution_count": 5,
   "metadata": {},
   "outputs": [],
   "source": [
    "import gdal\n",
    "import numpy as np\n",
    "import pandas as pd\n",
    "import matplotlib.pyplot as plt\n",
    "#my code\n",
    "from raster_sample import *\n",
    "from profile_map_scanner import *\n",
    "\n",
    "\n"
   ]
  },
  {
   "cell_type": "code",
   "execution_count": null,
   "metadata": {},
   "outputs": [],
   "source": []
  },
  {
   "cell_type": "code",
   "execution_count": 14,
   "metadata": {},
   "outputs": [],
   "source": [
    "#send pd dataframe to csv for plotting in arc\n",
    "\n",
    "creek= \"Cache_creek_clip_MChiSegmented_whole_basin.csv\"\n",
    "read_path = \"/Users/bmelosh/VagrantBoxes/LSDTopoTools/Topographic_projects/Cache_creek/\"+creek#+\"/\" #Set path to data\n",
    "#Creek name for M_chi segmented files\n",
    "creek_data = np.genfromtxt((read_path), delimiter=',', skip_header=1, names=['node','row','col','latitude','longitude','chi','elevation','flow_distance','drainage_area','m_chi','b_chi','source_key','basin_key','segmented_elevation'])\n",
    "#+name])\n",
    "#+name\n",
    "creek_data_df = pd.DataFrame(creek_data)\n",
    "#convert to UTM\n",
    "creek_data_df = convert_lat_long(creek_data_df)\n",
    "\n",
    "pd.set_option('display.float_format', lambda x: '%.3f' % x)#remove scientific notation !!!!!\n",
    "creek_data_df\n",
    "\n",
    "write_path = '/Users/bmelosh/Documents/ArcGIS/Coast_Ranges/Cache_Creek/'\n",
    "creek_data_df.to_csv('Cache_creek_m_chi.csv')\n",
    "\n"
   ]
  },
  {
   "cell_type": "code",
   "execution_count": 681,
   "metadata": {},
   "outputs": [],
   "source": [
    "#Import the RASTER data\n",
    "raster_path = \"/Users/bmelosh/VagrantBoxes/LSDTopoTools/Topographic_projects/Cache_creek/\"\n",
    "raster = gdal.Open(raster_path + \"/Cache_creek_clip_HS.bil\")#Get raster data\n",
    "dem = raster.ReadAsArray()\n",
    "\n",
    "## IMPORT point DATA\n",
    "creek= \"Crack_canyon\"\n",
    "path = \"/Users/bmelosh/VagrantBoxes/LSDTopoTools/Topographic_projects/Cache_creek/Previous_LSDTT_version/Channel_extraction/\"+creek+\"/\" #Set path to data\n",
    "name = creek+\"_MChiSegmented.csv\" #Set file name\n",
    "creek_data = np.genfromtxt((path+name), delimiter=',', skip_header=1, names=['node', 'row', 'col', 'latitude', 'longitude', 'chi', 'elevation', 'flow_distance', 'drainage_area', 'm_chi', 'b_chi', 'source_key', 'basin_key', 'segmented_elevation'])\n",
    "\n",
    "\n",
    "#Create pandas dataframe\n",
    "creek_data_df = pd.DataFrame(creek_data)\n",
    "\n",
    "#Create a distance column in pandas dataframe\n",
    "#distance = creek_data_df['flow_distance'] - creek_data_df['flow_distance'].min()\n",
    "#creek_data_df['distance'] = distance\n",
    "\n",
    "#convert the lat long to utm from creek data, chi segmented (only need this if there is no x, y columns)\n",
    "creek_data_df = convert_lat_long(creek_data_df)\n",
    "\n"
   ]
  },
  {
   "cell_type": "code",
   "execution_count": 678,
   "metadata": {},
   "outputs": [
    {
     "ename": "NameError",
     "evalue": "name 'raster_subsample_xy_generator' is not defined",
     "output_type": "error",
     "traceback": [
      "\u001b[0;31m---------------------------------------------------------------------------\u001b[0m",
      "\u001b[0;31mNameError\u001b[0m                                 Traceback (most recent call last)",
      "\u001b[0;32m<ipython-input-678-9434282cbfda>\u001b[0m in \u001b[0;36m<module>\u001b[0;34m()\u001b[0m\n\u001b[1;32m      6\u001b[0m \u001b[0;34m\u001b[0m\u001b[0m\n\u001b[1;32m      7\u001b[0m \u001b[0;31m#pull out the products of raster subsampler\u001b[0m\u001b[0;34m\u001b[0m\u001b[0;34m\u001b[0m\u001b[0m\n\u001b[0;32m----> 8\u001b[0;31m \u001b[0mX\u001b[0m\u001b[0;34m,\u001b[0m\u001b[0mY\u001b[0m\u001b[0;34m,\u001b[0m \u001b[0marray\u001b[0m \u001b[0;34m=\u001b[0m \u001b[0mraster_subsample_xy_generator\u001b[0m\u001b[0;34m(\u001b[0m\u001b[0mraster\u001b[0m\u001b[0;34m,\u001b[0m \u001b[0mcreek_data_df\u001b[0m\u001b[0;34m)\u001b[0m\u001b[0;34m\u001b[0m\u001b[0m\n\u001b[0m\u001b[1;32m      9\u001b[0m \u001b[0;34m\u001b[0m\u001b[0m\n\u001b[1;32m     10\u001b[0m \u001b[0;31m#Create a bokeh source to use in interactive plots\u001b[0m\u001b[0;34m\u001b[0m\u001b[0;34m\u001b[0m\u001b[0m\n",
      "\u001b[0;31mNameError\u001b[0m: name 'raster_subsample_xy_generator' is not defined"
     ]
    }
   ],
   "source": [
    "#Create a bokeh plot of the raster\n",
    "import bokeh.plotting as bp\n",
    "from bokeh.plotting import figure, show, output_file\n",
    "from bokeh.layouts import gridplot, column\n",
    "\n",
    "\n",
    "#pull out the products of raster subsampler\n",
    "X,Y, array = raster_subsample_xy_generator(raster, creek_data_df)\n",
    "\n",
    "#Create a bokeh source to use in interactive plots\n",
    "source=bp.ColumnDataSource(creek_data_df)\n",
    "color_by_variable('m_chi', source=source) #define color scheme for profiles\n",
    "\n",
    "#define boundaries of the data\n",
    "x_range, y_range = define_boundaries(source)\n",
    "elev_range = define_elevation_boundaries(source)\n",
    "\n",
    "\n",
    "#Create profile plots \n",
    "\n",
    "p = stream_map_raster(array, source, title='Map',x_axis_label='Easting', y_axis_label='Northing')\n",
    "\n",
    "p2 = profile(elev_range, source, title='Elevation profile', x_axis_label='Distance', y_axis_label='Elevation')\n",
    "\n",
    "p3 = profile(elev_range, source, x='chi', title='Chi profile', x_axis_label='Chi', y_axis_label='Elevation')\n",
    "\n",
    "\n",
    "output_file(\"Profile comparison.html\", title=\"Creek scanner\")\n",
    "\n",
    "plotcol = column(p2, p3)\n",
    "grid = gridplot([[p, plotcol]])\n",
    "\n",
    "bp.show(grid)  \n"
   ]
  },
  {
   "cell_type": "code",
   "execution_count": null,
   "metadata": {},
   "outputs": [],
   "source": [
    "\n",
    "\n"
   ]
  },
  {
   "cell_type": "code",
   "execution_count": null,
   "metadata": {},
   "outputs": [],
   "source": []
  },
  {
   "cell_type": "code",
   "execution_count": 6,
   "metadata": {},
   "outputs": [],
   "source": [
    "\n",
    "import pandas as pd\n",
    "import numpy as np\n",
    "import matplotlib as mpl\n",
    "import matplotlib.pyplot as plt\n",
    "from matplotlib import colors\n",
    "\n"
   ]
  },
  {
   "cell_type": "code",
   "execution_count": 7,
   "metadata": {},
   "outputs": [],
   "source": [
    "#IMPORT MOVERN FILE WITH ALL THE DIFFERENT CHI VALUES FOR EACH M/N RATIO\n",
    "creek =  'Perkins_creek'\n",
    "path = '/Users/bmelosh/VagrantBoxes/LSDTopoTools/Topographic_projects/Cache_creek/Previous_LSDTT_version/Channel_extraction/'+creek+'/'\n",
    "name = creek+'_movern.csv'\n",
    "#Import Data\n",
    "creek_movern_df = pd.read_csv((path+name), delimiter=',', header=0, names=['source_key','basin_key','elevation','m_over_n = 0.1','m_over_n = 0.2','m_over_n = 0.3','m_over_n = 0.4','m_over_n = 0.5','m_over_n = 0.6','m_over_n = 0.7','m_over_n = 0.8'])\n",
    "\n",
    "creek_movern_df = creek_movern_df.rename(columns={'source_key': 'Tributary'})\n",
    "\n",
    "#THIS SEPERATES OUT THE TRIBUTARY DATA\n",
    "#creating dataframe of CHI data for all tributaries\n",
    "creek_movern_df_tributaries = creek_movern_df[creek_movern_df['Tributary'] != 0]\n",
    "\n",
    "creek_movern_tributaries_merge = pd.DataFrame()\n",
    "\n"
   ]
  },
  {
   "cell_type": "code",
   "execution_count": 3,
   "metadata": {},
   "outputs": [],
   "source": [
    "#THIS LOADS THE MLE DATA FOR EACH M/N VALUE FOR EACH TRIBUTARY \n",
    "\n",
    "mle_data_i = []\n",
    "chiMS = []\n",
    "chi = []\n",
    "TributariesMLE = []\n",
    "\n",
    "#Create array of mn values to iterate through (start_mn, end_mn, number of mn values)\n",
    "mn_values = [x / 10.0 for x in range(1, 9, 1)]#create a list of floats.\n",
    "\n",
    "\n",
    "for mn in mn_values: \n",
    "    num = mn\n",
    "    full_name = '%s%s_movernstats_%s_fullstats.csv' % (path, creek, num)\n",
    "\n",
    "    name_mle = 'MLE m/n %s' % num\n",
    "    name_rmse = 'RMSE m/n %s' % num\n",
    "\n",
    "    mle_data = pd.read_csv(full_name, delimiter=',', header= 0,names=['basin_key', 'reference_source_key', 'test_source_key','MLE','RMSE'])\n",
    "\n",
    "    mle_data = pd.DataFrame(mle_data)\n",
    "    mle_data_i.append(mle_data)\n",
    "\n",
    "    creek_movern_tributaries_merge_i = creek_movern_df_tributaries.merge(mle_data, left_on = \"Tributary\", right_on = \"test_source_key\")\n",
    "            \n",
    "    creek_movern_tributaries_merge[name_mle] = creek_movern_tributaries_merge_i['MLE']\n",
    "    creek_movern_tributaries_merge[name_rmse] = creek_movern_tributaries_merge_i['RMSE']\n",
    "    \n",
    "    \n",
    "    TributariesMLE_i = list(creek_movern_tributaries_merge[name_mle])\n",
    "    \n",
    "    TributariesMLE.append(TributariesMLE_i)\n",
    "    \n",
    "    MLE_array = np.asarray(TributariesMLE)\n",
    "    this_cmap = plt.cm.Reds\n",
    "    cNorm  = colors.Normalize(vmin=np.min(MLE_array), vmax=np.max(MLE_array))\n",
    "    plt.cm.ScalarMappable(norm=cNorm, cmap=this_cmap)\n",
    "    \n",
    "    #pull out the chi - elevation data for the tributaries\n",
    "    a = creek_movern_df[creek_movern_df['Tributary']!=0]\n",
    "    elevation = a['elevation']\n",
    "    chi_i = list(a['m_over_n = %s' % num])\n",
    "    elevation = list(elevation)\n",
    "    chi.append(chi_i)\n",
    "    \n",
    "    #pull out the chi - elevation data for the main stem\n",
    "    b = creek_movern_df[creek_movern_df['Tributary']==0]\n",
    "    elevationMS = b['elevation']\n",
    "    chiMS_i = list(b['m_over_n = %s' % num])\n",
    "    chiMS.append(chiMS_i)\n",
    "    \n",
    "    \n"
   ]
  },
  {
   "cell_type": "code",
   "execution_count": 5,
   "metadata": {
    "scrolled": false
   },
   "outputs": [
    {
     "data": {
      "image/png": "[encoded data removed]",
      "text/plain": [
       "<matplotlib.figure.Figure at 0x11cfe0350>"
      ]
     },
     "metadata": {},
     "output_type": "display_data"
    }
   ],
   "source": [
    "def multiplotter(num):\n",
    "\n",
    "    plt.scatter(chiMS[num], elevationMS, c='k', s=0.5)\n",
    "    plt.scatter(chi[num], elevation, c=TributariesMLE[num], cmap=this_cmap, norm=cNorm, s=10, edgecolors='none')\n",
    "\n",
    "    plt.show()\n",
    "    \n",
    "    \n",
    "multiplotter(5)\n",
    "\n",
    "##OK this looks like i can do this in mpl now, what about bokeh slider?"
   ]
  }
 ],
 "metadata": {
  "anaconda-cloud": {},
  "kernelspec": {
   "display_name": "Python 3",
   "language": "python",
   "name": "python3"
  },
  "language_info": {
   "codemirror_mode": {
    "name": "ipython",
    "version": 3
   },
   "file_extension": ".py",
   "mimetype": "text/x-python",
   "name": "python",
   "nbconvert_exporter": "python",
   "pygments_lexer": "ipython3",
   "version": "3.6.1"
  }
 },
 "nbformat": 4,
 "nbformat_minor": 1
}
